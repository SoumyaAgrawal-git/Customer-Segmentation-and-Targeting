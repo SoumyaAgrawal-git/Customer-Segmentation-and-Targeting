{
 "cells": [
  {
   "cell_type": "markdown",
   "metadata": {},
   "source": [
    "# Predict CLTV with linear regression"
   ]
  },
  {
   "cell_type": "markdown",
   "metadata": {},
   "source": [
    "<a id='table'></a>\n",
    "## Table of Contents\n",
    "\n",
    "<ul>\n",
    "<li><a href=\"#intro\">Introduction</a></li>\n",
    "<li><a href=\"#dw\">Data wrangling</a></li>\n",
    "<li><a href=\"#eda\">Exploratory data analysis</a></li>\n",
    "<li><a href=\"#datacleaning\">Data cleaning and transformation</a></li>\n",
    "<li><a href=\"#dataanalysis\">Data analysis</a></li>\n",
    "<li><a href=\"#predictcltv\">Predict 3-month CLTV</a></li>\n",
    "<li><a href=\"#summary\">Summary</a></li>\n",
    "<li><a href=\"#reference\">References</a></li>\n",
    "</ul>"
   ]
  },
  {
   "cell_type": "markdown",
   "metadata": {},
   "source": [
    "<a id='intro'></a>\n",
    "## Introduction"
   ]
  },
  {
   "cell_type": "markdown",
   "metadata": {},
   "source": [
    "### CLTV"
   ]
  },
  {
   "cell_type": "markdown",
   "metadata": {},
   "source": [
    "**Customer Lifetime Value (CLTV)** represents the total amount of money a customer is expected to spend in a business during his/her lifetime. This is an important metric to monitor because it helps to make decisions about how much money to invest in acquiring new customers and retaining existing ones."
   ]
  },
  {
   "cell_type": "markdown",
   "metadata": {},
   "source": [
    "### Dataset"
   ]
  },
  {
   "cell_type": "markdown",
   "metadata": {},
   "source": [
    "For this analysis I am using a public dataset from UCI Machine Learning Repositiry, which can found [here](http://archive.ics.uci.edu/ml/index.php). This dataset contains information on transactions occurring between 01/12/2010 and 09/12/2011 for a UK-based and registered non-store online retail. The company mainly sells unique all-occasion gifts. Many customers of the company are wholesalers."
   ]
  },
  {
   "cell_type": "markdown",
   "metadata": {},
   "source": [
    "**Attribute information:**\n",
    "\n",
    "* InvoiceNo: Invoice number. Nominal, a 6-digit integral number uniquely assigned to each transaction. If this code starts with letter 'c', it indicates a cancellation\n",
    "* StockCode: Product (item) code. Nominal, a 5-digit integral number uniquely assigned to each distinct product.\n",
    "* Description: Product (item) name. Nominal\n",
    "* Quantity: The quantities of each product (item) per transaction. Numeric\n",
    "* InvoiceDate: Invice Date and time. Numeric, the day and time when each transaction was generated\n",
    "* UnitPrice: Unit price. Numeric, Product price per unit in sterling\n",
    "* CustomerID: Customer number. Nominal, a 5-digit integral number uniquely assigned to each customer\n",
    "* Country: Country name. Nominal, the name of the country where each customer resides."
   ]
  },
  {
   "cell_type": "markdown",
   "metadata": {},
   "source": [
    "<a id='dw'></a>\n",
    "## Data wrangling"
   ]
  },
  {
   "cell_type": "code",
   "execution_count": 1,
   "metadata": {},
   "outputs": [
    {
     "name": "stderr",
     "output_type": "stream",
     "text": [
      "\n",
      "Bad key text.latex.preview in file C:\\Users\\amits\\anaconda3\\lib\\site-packages\\matplotlib\\mpl-data\\stylelib\\_classic_test.mplstyle, line 123 ('text.latex.preview : False')\n",
      "You probably need to get an updated matplotlibrc file from\n",
      "https://github.com/matplotlib/matplotlib/blob/v3.5.2/matplotlibrc.template\n",
      "or from the matplotlib source distribution\n",
      "\n",
      "Bad key mathtext.fallback_to_cm in file C:\\Users\\amits\\anaconda3\\lib\\site-packages\\matplotlib\\mpl-data\\stylelib\\_classic_test.mplstyle, line 155 ('mathtext.fallback_to_cm : True  # When True, use symbols from the Computer Modern')\n",
      "You probably need to get an updated matplotlibrc file from\n",
      "https://github.com/matplotlib/matplotlib/blob/v3.5.2/matplotlibrc.template\n",
      "or from the matplotlib source distribution\n",
      "\n",
      "Bad key savefig.jpeg_quality in file C:\\Users\\amits\\anaconda3\\lib\\site-packages\\matplotlib\\mpl-data\\stylelib\\_classic_test.mplstyle, line 418 ('savefig.jpeg_quality: 95       # when a jpeg is saved, the default quality parameter.')\n",
      "You probably need to get an updated matplotlibrc file from\n",
      "https://github.com/matplotlib/matplotlib/blob/v3.5.2/matplotlibrc.template\n",
      "or from the matplotlib source distribution\n",
      "\n",
      "Bad key keymap.all_axes in file C:\\Users\\amits\\anaconda3\\lib\\site-packages\\matplotlib\\mpl-data\\stylelib\\_classic_test.mplstyle, line 466 ('keymap.all_axes : a                 # enable all axes')\n",
      "You probably need to get an updated matplotlibrc file from\n",
      "https://github.com/matplotlib/matplotlib/blob/v3.5.2/matplotlibrc.template\n",
      "or from the matplotlib source distribution\n",
      "\n",
      "Bad key animation.avconv_path in file C:\\Users\\amits\\anaconda3\\lib\\site-packages\\matplotlib\\mpl-data\\stylelib\\_classic_test.mplstyle, line 477 ('animation.avconv_path: avconv     # Path to avconv binary. Without full path')\n",
      "You probably need to get an updated matplotlibrc file from\n",
      "https://github.com/matplotlib/matplotlib/blob/v3.5.2/matplotlibrc.template\n",
      "or from the matplotlib source distribution\n",
      "\n",
      "Bad key animation.avconv_args in file C:\\Users\\amits\\anaconda3\\lib\\site-packages\\matplotlib\\mpl-data\\stylelib\\_classic_test.mplstyle, line 479 ('animation.avconv_args:            # Additional arguments to pass to avconv')\n",
      "You probably need to get an updated matplotlibrc file from\n",
      "https://github.com/matplotlib/matplotlib/blob/v3.5.2/matplotlibrc.template\n",
      "or from the matplotlib source distribution\n"
     ]
    }
   ],
   "source": [
    "import pandas as pd\n",
    "import numpy as np\n",
    "import matplotlib.pyplot as plt\n",
    "import seaborn as sns\n",
    "import os\n",
    "%matplotlib inline"
   ]
  },
  {
   "cell_type": "code",
   "execution_count": 2,
   "metadata": {},
   "outputs": [],
   "source": [
    "os.chdir(r'G:\\My Drive\\Mccombs MSBA\\Data Science Programming - Su22\\HW\\Group Project')\n",
    "df = pd.read_csv('online_retail_II.csv')"
   ]
  },
  {
   "cell_type": "code",
   "execution_count": 3,
   "metadata": {},
   "outputs": [
    {
     "data": {
      "text/html": [
       "<div>\n",
       "<style scoped>\n",
       "    .dataframe tbody tr th:only-of-type {\n",
       "        vertical-align: middle;\n",
       "    }\n",
       "\n",
       "    .dataframe tbody tr th {\n",
       "        vertical-align: top;\n",
       "    }\n",
       "\n",
       "    .dataframe thead th {\n",
       "        text-align: right;\n",
       "    }\n",
       "</style>\n",
       "<table border=\"1\" class=\"dataframe\">\n",
       "  <thead>\n",
       "    <tr style=\"text-align: right;\">\n",
       "      <th></th>\n",
       "      <th>Invoice</th>\n",
       "      <th>StockCode</th>\n",
       "      <th>Description</th>\n",
       "      <th>Quantity</th>\n",
       "      <th>InvoiceDate</th>\n",
       "      <th>Price</th>\n",
       "      <th>Customer ID</th>\n",
       "      <th>Country</th>\n",
       "    </tr>\n",
       "  </thead>\n",
       "  <tbody>\n",
       "    <tr>\n",
       "      <th>0</th>\n",
       "      <td>489434</td>\n",
       "      <td>85048</td>\n",
       "      <td>15CM CHRISTMAS GLASS BALL 20 LIGHTS</td>\n",
       "      <td>12</td>\n",
       "      <td>2009-12-01 07:45:00</td>\n",
       "      <td>6.95</td>\n",
       "      <td>13085.0</td>\n",
       "      <td>United Kingdom</td>\n",
       "    </tr>\n",
       "    <tr>\n",
       "      <th>1</th>\n",
       "      <td>489434</td>\n",
       "      <td>79323P</td>\n",
       "      <td>PINK CHERRY LIGHTS</td>\n",
       "      <td>12</td>\n",
       "      <td>2009-12-01 07:45:00</td>\n",
       "      <td>6.75</td>\n",
       "      <td>13085.0</td>\n",
       "      <td>United Kingdom</td>\n",
       "    </tr>\n",
       "    <tr>\n",
       "      <th>2</th>\n",
       "      <td>489434</td>\n",
       "      <td>79323W</td>\n",
       "      <td>WHITE CHERRY LIGHTS</td>\n",
       "      <td>12</td>\n",
       "      <td>2009-12-01 07:45:00</td>\n",
       "      <td>6.75</td>\n",
       "      <td>13085.0</td>\n",
       "      <td>United Kingdom</td>\n",
       "    </tr>\n",
       "    <tr>\n",
       "      <th>3</th>\n",
       "      <td>489434</td>\n",
       "      <td>22041</td>\n",
       "      <td>RECORD FRAME 7\" SINGLE SIZE</td>\n",
       "      <td>48</td>\n",
       "      <td>2009-12-01 07:45:00</td>\n",
       "      <td>2.10</td>\n",
       "      <td>13085.0</td>\n",
       "      <td>United Kingdom</td>\n",
       "    </tr>\n",
       "    <tr>\n",
       "      <th>4</th>\n",
       "      <td>489434</td>\n",
       "      <td>21232</td>\n",
       "      <td>STRAWBERRY CERAMIC TRINKET BOX</td>\n",
       "      <td>24</td>\n",
       "      <td>2009-12-01 07:45:00</td>\n",
       "      <td>1.25</td>\n",
       "      <td>13085.0</td>\n",
       "      <td>United Kingdom</td>\n",
       "    </tr>\n",
       "  </tbody>\n",
       "</table>\n",
       "</div>"
      ],
      "text/plain": [
       "  Invoice StockCode                          Description  Quantity  \\\n",
       "0  489434     85048  15CM CHRISTMAS GLASS BALL 20 LIGHTS        12   \n",
       "1  489434    79323P                   PINK CHERRY LIGHTS        12   \n",
       "2  489434    79323W                  WHITE CHERRY LIGHTS        12   \n",
       "3  489434     22041         RECORD FRAME 7\" SINGLE SIZE         48   \n",
       "4  489434     21232       STRAWBERRY CERAMIC TRINKET BOX        24   \n",
       "\n",
       "           InvoiceDate  Price  Customer ID         Country  \n",
       "0  2009-12-01 07:45:00   6.95      13085.0  United Kingdom  \n",
       "1  2009-12-01 07:45:00   6.75      13085.0  United Kingdom  \n",
       "2  2009-12-01 07:45:00   6.75      13085.0  United Kingdom  \n",
       "3  2009-12-01 07:45:00   2.10      13085.0  United Kingdom  \n",
       "4  2009-12-01 07:45:00   1.25      13085.0  United Kingdom  "
      ]
     },
     "execution_count": 3,
     "metadata": {},
     "output_type": "execute_result"
    }
   ],
   "source": [
    "df.head()"
   ]
  },
  {
   "cell_type": "code",
   "execution_count": 4,
   "metadata": {},
   "outputs": [
    {
     "name": "stdout",
     "output_type": "stream",
     "text": [
      "<class 'pandas.core.frame.DataFrame'>\n",
      "RangeIndex: 1067371 entries, 0 to 1067370\n",
      "Data columns (total 8 columns):\n",
      " #   Column       Non-Null Count    Dtype  \n",
      "---  ------       --------------    -----  \n",
      " 0   Invoice      1067371 non-null  object \n",
      " 1   StockCode    1067371 non-null  object \n",
      " 2   Description  1062989 non-null  object \n",
      " 3   Quantity     1067371 non-null  int64  \n",
      " 4   InvoiceDate  1067371 non-null  object \n",
      " 5   Price        1067371 non-null  float64\n",
      " 6   Customer ID  824364 non-null   float64\n",
      " 7   Country      1067371 non-null  object \n",
      "dtypes: float64(2), int64(1), object(5)\n",
      "memory usage: 65.1+ MB\n"
     ]
    }
   ],
   "source": [
    "df.info()"
   ]
  },
  {
   "cell_type": "markdown",
   "metadata": {},
   "source": [
    "*Description* and *CustomerID* columns have NULL values"
   ]
  },
  {
   "cell_type": "code",
   "execution_count": 5,
   "metadata": {},
   "outputs": [],
   "source": [
    "df = df.rename(columns = {'Customer ID': 'CustomerID', 'Invoice':'InvoiceNo','Price': 'UnitPrice'})"
   ]
  },
  {
   "cell_type": "markdown",
   "metadata": {},
   "source": [
    "<a id='eda'></a>\n",
    "## Exploratory data analysis (EDA)"
   ]
  },
  {
   "cell_type": "markdown",
   "metadata": {},
   "source": [
    "Let us have a look at the data and decide whether we need any data cleaning and data transformation for further analysis."
   ]
  },
  {
   "cell_type": "markdown",
   "metadata": {},
   "source": [
    "### NULL values"
   ]
  },
  {
   "cell_type": "code",
   "execution_count": 6,
   "metadata": {},
   "outputs": [
    {
     "name": "stdout",
     "output_type": "stream",
     "text": [
      "Number of missing values in the dataset: 247389\n",
      "Percentage of missing values in the dataset: 2.897176801693132\n"
     ]
    }
   ],
   "source": [
    "print('Number of missing values in the dataset:', df.isnull().sum().sum())\n",
    "print('Percentage of missing values in the dataset:', df.isnull().sum().sum()*100/(df.shape[0]*df.shape[1]))"
   ]
  },
  {
   "cell_type": "code",
   "execution_count": 7,
   "metadata": {},
   "outputs": [
    {
     "name": "stdout",
     "output_type": "stream",
     "text": [
      "Number of missing values in 'Description' column: 4382\n",
      "Percentage of missing values in 'Description' column: 0.4105414143723223\n"
     ]
    }
   ],
   "source": [
    "print(\"Number of missing values in 'Description' column:\", df['Description'].isnull().sum())\n",
    "print(\"Percentage of missing values in 'Description' column:\", df['Description'].isnull().sum()*100/df.shape[0])"
   ]
  },
  {
   "cell_type": "code",
   "execution_count": 8,
   "metadata": {},
   "outputs": [
    {
     "name": "stdout",
     "output_type": "stream",
     "text": [
      "Number of missing values in 'CustomerID' column: 243007\n",
      "Percentage of missing values in 'CustomerID' column: 22.766872999172733\n"
     ]
    }
   ],
   "source": [
    "print(\"Number of missing values in 'CustomerID' column:\", df['CustomerID'].isnull().sum())\n",
    "print(\"Percentage of missing values in 'CustomerID' column:\", df['CustomerID'].isnull().sum()*100/df.shape[0])"
   ]
  },
  {
   "cell_type": "markdown",
   "metadata": {},
   "source": [
    "About 25% of CustomerIDs is missing"
   ]
  },
  {
   "cell_type": "markdown",
   "metadata": {},
   "source": [
    "### Duplicates"
   ]
  },
  {
   "cell_type": "code",
   "execution_count": 9,
   "metadata": {},
   "outputs": [
    {
     "data": {
      "text/plain": [
       "34335"
      ]
     },
     "execution_count": 9,
     "metadata": {},
     "output_type": "execute_result"
    }
   ],
   "source": [
    "# Check the number of duplicated values\n",
    "df.duplicated().sum().sum()"
   ]
  },
  {
   "cell_type": "code",
   "execution_count": 10,
   "metadata": {},
   "outputs": [],
   "source": [
    "# Let's get the duplicated rows\n",
    "duplicates = df[df.duplicated()]"
   ]
  },
  {
   "cell_type": "code",
   "execution_count": 11,
   "metadata": {},
   "outputs": [
    {
     "data": {
      "text/html": [
       "<div>\n",
       "<style scoped>\n",
       "    .dataframe tbody tr th:only-of-type {\n",
       "        vertical-align: middle;\n",
       "    }\n",
       "\n",
       "    .dataframe tbody tr th {\n",
       "        vertical-align: top;\n",
       "    }\n",
       "\n",
       "    .dataframe thead th {\n",
       "        text-align: right;\n",
       "    }\n",
       "</style>\n",
       "<table border=\"1\" class=\"dataframe\">\n",
       "  <thead>\n",
       "    <tr style=\"text-align: right;\">\n",
       "      <th></th>\n",
       "      <th>InvoiceNo</th>\n",
       "      <th>StockCode</th>\n",
       "      <th>Description</th>\n",
       "      <th>Quantity</th>\n",
       "      <th>InvoiceDate</th>\n",
       "      <th>UnitPrice</th>\n",
       "      <th>CustomerID</th>\n",
       "      <th>Country</th>\n",
       "    </tr>\n",
       "  </thead>\n",
       "  <tbody>\n",
       "    <tr>\n",
       "      <th>371</th>\n",
       "      <td>489517</td>\n",
       "      <td>21912</td>\n",
       "      <td>VINTAGE SNAKES &amp; LADDERS</td>\n",
       "      <td>1</td>\n",
       "      <td>2009-12-01 11:34:00</td>\n",
       "      <td>3.75</td>\n",
       "      <td>16329.0</td>\n",
       "      <td>United Kingdom</td>\n",
       "    </tr>\n",
       "    <tr>\n",
       "      <th>383</th>\n",
       "      <td>489517</td>\n",
       "      <td>22130</td>\n",
       "      <td>PARTY CONE CHRISTMAS DECORATION</td>\n",
       "      <td>6</td>\n",
       "      <td>2009-12-01 11:34:00</td>\n",
       "      <td>0.85</td>\n",
       "      <td>16329.0</td>\n",
       "      <td>United Kingdom</td>\n",
       "    </tr>\n",
       "    <tr>\n",
       "      <th>384</th>\n",
       "      <td>489517</td>\n",
       "      <td>22319</td>\n",
       "      <td>HAIRCLIPS FORTIES FABRIC ASSORTED</td>\n",
       "      <td>12</td>\n",
       "      <td>2009-12-01 11:34:00</td>\n",
       "      <td>0.65</td>\n",
       "      <td>16329.0</td>\n",
       "      <td>United Kingdom</td>\n",
       "    </tr>\n",
       "    <tr>\n",
       "      <th>385</th>\n",
       "      <td>489517</td>\n",
       "      <td>21913</td>\n",
       "      <td>VINTAGE SEASIDE JIGSAW PUZZLES</td>\n",
       "      <td>1</td>\n",
       "      <td>2009-12-01 11:34:00</td>\n",
       "      <td>3.75</td>\n",
       "      <td>16329.0</td>\n",
       "      <td>United Kingdom</td>\n",
       "    </tr>\n",
       "    <tr>\n",
       "      <th>386</th>\n",
       "      <td>489517</td>\n",
       "      <td>21821</td>\n",
       "      <td>GLITTER STAR GARLAND WITH BELLS</td>\n",
       "      <td>1</td>\n",
       "      <td>2009-12-01 11:34:00</td>\n",
       "      <td>3.75</td>\n",
       "      <td>16329.0</td>\n",
       "      <td>United Kingdom</td>\n",
       "    </tr>\n",
       "    <tr>\n",
       "      <th>390</th>\n",
       "      <td>489517</td>\n",
       "      <td>84951A</td>\n",
       "      <td>S/4 PISTACHIO LOVEBIRD COASTERS</td>\n",
       "      <td>1</td>\n",
       "      <td>2009-12-01 11:34:00</td>\n",
       "      <td>2.55</td>\n",
       "      <td>16329.0</td>\n",
       "      <td>United Kingdom</td>\n",
       "    </tr>\n",
       "    <tr>\n",
       "      <th>391</th>\n",
       "      <td>489517</td>\n",
       "      <td>21491</td>\n",
       "      <td>SET OF THREE VINTAGE GIFT WRAPS</td>\n",
       "      <td>1</td>\n",
       "      <td>2009-12-01 11:34:00</td>\n",
       "      <td>1.95</td>\n",
       "      <td>16329.0</td>\n",
       "      <td>United Kingdom</td>\n",
       "    </tr>\n",
       "    <tr>\n",
       "      <th>394</th>\n",
       "      <td>489517</td>\n",
       "      <td>21912</td>\n",
       "      <td>VINTAGE SNAKES &amp; LADDERS</td>\n",
       "      <td>1</td>\n",
       "      <td>2009-12-01 11:34:00</td>\n",
       "      <td>3.75</td>\n",
       "      <td>16329.0</td>\n",
       "      <td>United Kingdom</td>\n",
       "    </tr>\n",
       "    <tr>\n",
       "      <th>657</th>\n",
       "      <td>489529</td>\n",
       "      <td>22028</td>\n",
       "      <td>PENNY FARTHING BIRTHDAY CARD</td>\n",
       "      <td>12</td>\n",
       "      <td>2009-12-01 11:51:00</td>\n",
       "      <td>0.42</td>\n",
       "      <td>17984.0</td>\n",
       "      <td>United Kingdom</td>\n",
       "    </tr>\n",
       "    <tr>\n",
       "      <th>658</th>\n",
       "      <td>489529</td>\n",
       "      <td>22036</td>\n",
       "      <td>DINOSAUR BIRTHDAY CARD</td>\n",
       "      <td>12</td>\n",
       "      <td>2009-12-01 11:51:00</td>\n",
       "      <td>0.42</td>\n",
       "      <td>17984.0</td>\n",
       "      <td>United Kingdom</td>\n",
       "    </tr>\n",
       "    <tr>\n",
       "      <th>669</th>\n",
       "      <td>489529</td>\n",
       "      <td>48129</td>\n",
       "      <td>DOOR MAT TOPIARY</td>\n",
       "      <td>1</td>\n",
       "      <td>2009-12-01 11:51:00</td>\n",
       "      <td>6.75</td>\n",
       "      <td>17984.0</td>\n",
       "      <td>United Kingdom</td>\n",
       "    </tr>\n",
       "    <tr>\n",
       "      <th>723</th>\n",
       "      <td>489533</td>\n",
       "      <td>22073</td>\n",
       "      <td>RETRO SPOT STORAGE JAR</td>\n",
       "      <td>1</td>\n",
       "      <td>2009-12-01 12:02:00</td>\n",
       "      <td>3.75</td>\n",
       "      <td>16011.0</td>\n",
       "      <td>United Kingdom</td>\n",
       "    </tr>\n",
       "    <tr>\n",
       "      <th>725</th>\n",
       "      <td>489533</td>\n",
       "      <td>84946</td>\n",
       "      <td>ANTIQUE SILVER TEA GLASS ETCHED</td>\n",
       "      <td>6</td>\n",
       "      <td>2009-12-01 12:02:00</td>\n",
       "      <td>1.25</td>\n",
       "      <td>16011.0</td>\n",
       "      <td>United Kingdom</td>\n",
       "    </tr>\n",
       "    <tr>\n",
       "      <th>745</th>\n",
       "      <td>489536</td>\n",
       "      <td>21809</td>\n",
       "      <td>CHRISTMAS HANGING TREE WITH BELL</td>\n",
       "      <td>1</td>\n",
       "      <td>2009-12-01 12:13:00</td>\n",
       "      <td>1.25</td>\n",
       "      <td>16393.0</td>\n",
       "      <td>United Kingdom</td>\n",
       "    </tr>\n",
       "    <tr>\n",
       "      <th>799</th>\n",
       "      <td>489536</td>\n",
       "      <td>22142</td>\n",
       "      <td>CHRISTMAS CRAFT WHITE FAIRY</td>\n",
       "      <td>1</td>\n",
       "      <td>2009-12-01 12:13:00</td>\n",
       "      <td>1.45</td>\n",
       "      <td>16393.0</td>\n",
       "      <td>United Kingdom</td>\n",
       "    </tr>\n",
       "    <tr>\n",
       "      <th>808</th>\n",
       "      <td>489536</td>\n",
       "      <td>17164D</td>\n",
       "      <td>ASS COL SMALL SAND FROG P'WEIGHT</td>\n",
       "      <td>1</td>\n",
       "      <td>2009-12-01 12:13:00</td>\n",
       "      <td>0.42</td>\n",
       "      <td>16393.0</td>\n",
       "      <td>United Kingdom</td>\n",
       "    </tr>\n",
       "    <tr>\n",
       "      <th>809</th>\n",
       "      <td>489536</td>\n",
       "      <td>22353</td>\n",
       "      <td>LUNCHBOX WITH CUTLERY FAIRY CAKES</td>\n",
       "      <td>1</td>\n",
       "      <td>2009-12-01 12:13:00</td>\n",
       "      <td>2.55</td>\n",
       "      <td>16393.0</td>\n",
       "      <td>United Kingdom</td>\n",
       "    </tr>\n",
       "    <tr>\n",
       "      <th>810</th>\n",
       "      <td>489536</td>\n",
       "      <td>21791</td>\n",
       "      <td>VINTAGE HEADS AND TAILS CARD GAME</td>\n",
       "      <td>2</td>\n",
       "      <td>2009-12-01 12:13:00</td>\n",
       "      <td>1.25</td>\n",
       "      <td>16393.0</td>\n",
       "      <td>United Kingdom</td>\n",
       "    </tr>\n",
       "    <tr>\n",
       "      <th>817</th>\n",
       "      <td>489536</td>\n",
       "      <td>22142</td>\n",
       "      <td>CHRISTMAS CRAFT WHITE FAIRY</td>\n",
       "      <td>1</td>\n",
       "      <td>2009-12-01 12:13:00</td>\n",
       "      <td>1.45</td>\n",
       "      <td>16393.0</td>\n",
       "      <td>United Kingdom</td>\n",
       "    </tr>\n",
       "    <tr>\n",
       "      <th>820</th>\n",
       "      <td>489536</td>\n",
       "      <td>21650</td>\n",
       "      <td>ASSORTED TUTTI FRUTTI BRACELET</td>\n",
       "      <td>1</td>\n",
       "      <td>2009-12-01 12:13:00</td>\n",
       "      <td>0.65</td>\n",
       "      <td>16393.0</td>\n",
       "      <td>United Kingdom</td>\n",
       "    </tr>\n",
       "  </tbody>\n",
       "</table>\n",
       "</div>"
      ],
      "text/plain": [
       "    InvoiceNo StockCode                         Description  Quantity  \\\n",
       "371    489517     21912            VINTAGE SNAKES & LADDERS         1   \n",
       "383    489517     22130    PARTY CONE CHRISTMAS DECORATION          6   \n",
       "384    489517     22319   HAIRCLIPS FORTIES FABRIC ASSORTED        12   \n",
       "385    489517     21913      VINTAGE SEASIDE JIGSAW PUZZLES         1   \n",
       "386    489517     21821    GLITTER STAR GARLAND WITH BELLS          1   \n",
       "390    489517    84951A     S/4 PISTACHIO LOVEBIRD COASTERS         1   \n",
       "391    489517     21491     SET OF THREE VINTAGE GIFT WRAPS         1   \n",
       "394    489517     21912            VINTAGE SNAKES & LADDERS         1   \n",
       "657    489529     22028        PENNY FARTHING BIRTHDAY CARD        12   \n",
       "658    489529     22036              DINOSAUR BIRTHDAY CARD        12   \n",
       "669    489529     48129                    DOOR MAT TOPIARY         1   \n",
       "723    489533     22073              RETRO SPOT STORAGE JAR         1   \n",
       "725    489533     84946     ANTIQUE SILVER TEA GLASS ETCHED         6   \n",
       "745    489536     21809    CHRISTMAS HANGING TREE WITH BELL         1   \n",
       "799    489536     22142        CHRISTMAS CRAFT WHITE FAIRY          1   \n",
       "808    489536    17164D    ASS COL SMALL SAND FROG P'WEIGHT         1   \n",
       "809    489536     22353  LUNCHBOX WITH CUTLERY FAIRY CAKES          1   \n",
       "810    489536     21791  VINTAGE HEADS AND TAILS CARD GAME          2   \n",
       "817    489536     22142        CHRISTMAS CRAFT WHITE FAIRY          1   \n",
       "820    489536     21650      ASSORTED TUTTI FRUTTI BRACELET         1   \n",
       "\n",
       "             InvoiceDate  UnitPrice  CustomerID         Country  \n",
       "371  2009-12-01 11:34:00       3.75     16329.0  United Kingdom  \n",
       "383  2009-12-01 11:34:00       0.85     16329.0  United Kingdom  \n",
       "384  2009-12-01 11:34:00       0.65     16329.0  United Kingdom  \n",
       "385  2009-12-01 11:34:00       3.75     16329.0  United Kingdom  \n",
       "386  2009-12-01 11:34:00       3.75     16329.0  United Kingdom  \n",
       "390  2009-12-01 11:34:00       2.55     16329.0  United Kingdom  \n",
       "391  2009-12-01 11:34:00       1.95     16329.0  United Kingdom  \n",
       "394  2009-12-01 11:34:00       3.75     16329.0  United Kingdom  \n",
       "657  2009-12-01 11:51:00       0.42     17984.0  United Kingdom  \n",
       "658  2009-12-01 11:51:00       0.42     17984.0  United Kingdom  \n",
       "669  2009-12-01 11:51:00       6.75     17984.0  United Kingdom  \n",
       "723  2009-12-01 12:02:00       3.75     16011.0  United Kingdom  \n",
       "725  2009-12-01 12:02:00       1.25     16011.0  United Kingdom  \n",
       "745  2009-12-01 12:13:00       1.25     16393.0  United Kingdom  \n",
       "799  2009-12-01 12:13:00       1.45     16393.0  United Kingdom  \n",
       "808  2009-12-01 12:13:00       0.42     16393.0  United Kingdom  \n",
       "809  2009-12-01 12:13:00       2.55     16393.0  United Kingdom  \n",
       "810  2009-12-01 12:13:00       1.25     16393.0  United Kingdom  \n",
       "817  2009-12-01 12:13:00       1.45     16393.0  United Kingdom  \n",
       "820  2009-12-01 12:13:00       0.65     16393.0  United Kingdom  "
      ]
     },
     "execution_count": 11,
     "metadata": {},
     "output_type": "execute_result"
    }
   ],
   "source": [
    "duplicates[:20]"
   ]
  },
  {
   "cell_type": "markdown",
   "metadata": {},
   "source": [
    "It seems that products, which were bought together in one invoice, were considered as duplicates. However, there are no duplicates, if we look at the *Description* column"
   ]
  },
  {
   "cell_type": "markdown",
   "metadata": {},
   "source": [
    "### Number of unique customers"
   ]
  },
  {
   "cell_type": "code",
   "execution_count": 12,
   "metadata": {},
   "outputs": [
    {
     "data": {
      "text/plain": [
       "5942"
      ]
     },
     "execution_count": 12,
     "metadata": {},
     "output_type": "execute_result"
    }
   ],
   "source": [
    "df['CustomerID'].nunique()"
   ]
  },
  {
   "cell_type": "markdown",
   "metadata": {},
   "source": [
    "### Number of purchases"
   ]
  },
  {
   "cell_type": "code",
   "execution_count": 13,
   "metadata": {},
   "outputs": [
    {
     "data": {
      "text/plain": [
       "53628"
      ]
     },
     "execution_count": 13,
     "metadata": {},
     "output_type": "execute_result"
    }
   ],
   "source": [
    "df['InvoiceNo'].nunique()"
   ]
  },
  {
   "cell_type": "markdown",
   "metadata": {},
   "source": [
    "### Period of time"
   ]
  },
  {
   "cell_type": "code",
   "execution_count": 14,
   "metadata": {},
   "outputs": [
    {
     "data": {
      "text/plain": [
       "'2009-12-01 07:45:00'"
      ]
     },
     "execution_count": 14,
     "metadata": {},
     "output_type": "execute_result"
    }
   ],
   "source": [
    "df['InvoiceDate'].min()"
   ]
  },
  {
   "cell_type": "code",
   "execution_count": 15,
   "metadata": {},
   "outputs": [
    {
     "data": {
      "text/plain": [
       "'2011-12-09 12:50:00'"
      ]
     },
     "execution_count": 15,
     "metadata": {},
     "output_type": "execute_result"
    }
   ],
   "source": [
    "df['InvoiceDate'].max()"
   ]
  },
  {
   "cell_type": "markdown",
   "metadata": {},
   "source": [
    "### Country"
   ]
  },
  {
   "cell_type": "code",
   "execution_count": 16,
   "metadata": {},
   "outputs": [
    {
     "data": {
      "image/png": "[encoded data removed]",
      "text/plain": [
       "<Figure size 432x288 with 1 Axes>"
      ]
     },
     "metadata": {
      "needs_background": "light"
     },
     "output_type": "display_data"
    }
   ],
   "source": [
    "df['Country'].value_counts().plot.bar(color='dodgerblue');"
   ]
  },
  {
   "cell_type": "code",
   "execution_count": 17,
   "metadata": {},
   "outputs": [
    {
     "data": {
      "text/plain": [
       "43"
      ]
     },
     "execution_count": 17,
     "metadata": {},
     "output_type": "execute_result"
    }
   ],
   "source": [
    "df['Country'].nunique()"
   ]
  },
  {
   "cell_type": "markdown",
   "metadata": {},
   "source": [
    "So we have approximately 1 year data record of 25,900 purchases for 4,372 unique users made in 38 countries (mostly in the UK)"
   ]
  },
  {
   "cell_type": "markdown",
   "metadata": {},
   "source": [
    "### Quantity and unit price of the products"
   ]
  },
  {
   "cell_type": "code",
   "execution_count": 18,
   "metadata": {},
   "outputs": [
    {
     "data": {
      "image/png": "[encoded data removed]",
      "text/plain": [
       "<Figure size 432x288 with 1 Axes>"
      ]
     },
     "metadata": {
      "needs_background": "light"
     },
     "output_type": "display_data"
    }
   ],
   "source": [
    "# Let's look at the price distribution of the products\n",
    "\n",
    "plt.hist(data=df, x='UnitPrice', color='dodgerblue')\n",
    "plt.xlabel('Unit price', fontsize=14)\n",
    "plt.ylabel('Count', fontsize=14)\n",
    "plt.title(\"Unit price distribution\", fontsize=16);"
   ]
  },
  {
   "cell_type": "markdown",
   "metadata": {},
   "source": [
    "It seems that we have negative values and some outliers representing very expensive products. The negative values may be associated with cancelled or refunded orders. Let's remove negative records and outliers and look at the price distribution."
   ]
  },
  {
   "cell_type": "code",
   "execution_count": 19,
   "metadata": {},
   "outputs": [
    {
     "data": {
      "text/plain": [
       "count    1.067371e+06\n",
       "mean     4.649388e+00\n",
       "std      1.235531e+02\n",
       "min     -5.359436e+04\n",
       "50%      2.100000e+00\n",
       "99%      1.800000e+01\n",
       "max      3.897000e+04\n",
       "Name: UnitPrice, dtype: float64"
      ]
     },
     "execution_count": 19,
     "metadata": {},
     "output_type": "execute_result"
    }
   ],
   "source": [
    "df['UnitPrice'].describe(percentiles=[.99])"
   ]
  },
  {
   "cell_type": "code",
   "execution_count": 20,
   "metadata": {},
   "outputs": [
    {
     "data": {
      "image/png": "[encoded data removed]",
      "text/plain": [
       "<Figure size 432x288 with 1 Axes>"
      ]
     },
     "metadata": {
      "needs_background": "light"
     },
     "output_type": "display_data"
    }
   ],
   "source": [
    "bins = np.arange(0, 21, 2)\n",
    "ticks = np.arange(0, 21, 2)\n",
    "plt.hist(data=df, x='UnitPrice', bins=bins, color='dodgerblue')\n",
    "plt.xticks(ticks, ticks)\n",
    "plt.xlabel('Unit price', fontsize=14)\n",
    "plt.ylabel('Count', fontsize=14)\n",
    "plt.title('Unit price distribution', fontsize=16);"
   ]
  },
  {
   "cell_type": "markdown",
   "metadata": {},
   "source": [
    "The price for most of the products is equal or less than 10£"
   ]
  },
  {
   "cell_type": "markdown",
   "metadata": {},
   "source": [
    "Let's look at the negative values in *UnitPrice*"
   ]
  },
  {
   "cell_type": "code",
   "execution_count": 21,
   "metadata": {},
   "outputs": [
    {
     "data": {
      "text/html": [
       "<div>\n",
       "<style scoped>\n",
       "    .dataframe tbody tr th:only-of-type {\n",
       "        vertical-align: middle;\n",
       "    }\n",
       "\n",
       "    .dataframe tbody tr th {\n",
       "        vertical-align: top;\n",
       "    }\n",
       "\n",
       "    .dataframe thead th {\n",
       "        text-align: right;\n",
       "    }\n",
       "</style>\n",
       "<table border=\"1\" class=\"dataframe\">\n",
       "  <thead>\n",
       "    <tr style=\"text-align: right;\">\n",
       "      <th></th>\n",
       "      <th>InvoiceNo</th>\n",
       "      <th>StockCode</th>\n",
       "      <th>Description</th>\n",
       "      <th>Quantity</th>\n",
       "      <th>InvoiceDate</th>\n",
       "      <th>UnitPrice</th>\n",
       "      <th>CustomerID</th>\n",
       "      <th>Country</th>\n",
       "    </tr>\n",
       "  </thead>\n",
       "  <tbody>\n",
       "  </tbody>\n",
       "</table>\n",
       "</div>"
      ],
      "text/plain": [
       "Empty DataFrame\n",
       "Columns: [InvoiceNo, StockCode, Description, Quantity, InvoiceDate, UnitPrice, CustomerID, Country]\n",
       "Index: []"
      ]
     },
     "execution_count": 21,
     "metadata": {},
     "output_type": "execute_result"
    }
   ],
   "source": [
    "df[df['InvoiceNo'].str.startswith('c')]"
   ]
  },
  {
   "cell_type": "code",
   "execution_count": 22,
   "metadata": {},
   "outputs": [
    {
     "data": {
      "image/png": "[encoded data removed]",
      "text/plain": [
       "<Figure size 432x288 with 1 Axes>"
      ]
     },
     "metadata": {
      "needs_background": "light"
     },
     "output_type": "display_data"
    }
   ],
   "source": [
    "# Let's look at the quantity of the products\n",
    "\n",
    "plt.hist(data=df, x='Quantity', color='dodgerblue')\n",
    "plt.xlabel('Quantity', fontsize=14)\n",
    "plt.ylabel('Count', fontsize=14)\n",
    "plt.title(\"Distribution of quantity of products\", fontsize=16);"
   ]
  },
  {
   "cell_type": "code",
   "execution_count": 23,
   "metadata": {},
   "outputs": [
    {
     "data": {
      "text/plain": [
       "count    1.067371e+06\n",
       "mean     9.938898e+00\n",
       "std      1.727058e+02\n",
       "min     -8.099500e+04\n",
       "50%      3.000000e+00\n",
       "99%      1.000000e+02\n",
       "max      8.099500e+04\n",
       "Name: Quantity, dtype: float64"
      ]
     },
     "execution_count": 23,
     "metadata": {},
     "output_type": "execute_result"
    }
   ],
   "source": [
    "df['Quantity'].describe(percentiles=[.99])"
   ]
  },
  {
   "cell_type": "code",
   "execution_count": 24,
   "metadata": {},
   "outputs": [
    {
     "data": {
      "image/png": "[encoded data removed]",
      "text/plain": [
       "<Figure size 432x288 with 1 Axes>"
      ]
     },
     "metadata": {
      "needs_background": "light"
     },
     "output_type": "display_data"
    }
   ],
   "source": [
    "bins = np.arange(0, 110, 10)\n",
    "ticks = np.arange(0, 110, 10)\n",
    "plt.hist(data=df, x='Quantity', bins=bins, color='dodgerblue')\n",
    "plt.xticks(ticks, ticks)\n",
    "plt.xlabel('Quantity', fontsize=14)\n",
    "plt.ylabel('Count', fontsize=14)\n",
    "plt.title('Distribution of quantity of products', fontsize=16);"
   ]
  },
  {
   "cell_type": "markdown",
   "metadata": {},
   "source": [
    "In most cases customers buy less than 50 items per order."
   ]
  },
  {
   "cell_type": "markdown",
   "metadata": {},
   "source": [
    "Let's look at the negative values in *Quantity*"
   ]
  },
  {
   "cell_type": "code",
   "execution_count": 25,
   "metadata": {},
   "outputs": [],
   "source": [
    "neg_quantity = df[df['Quantity']<0]"
   ]
  },
  {
   "cell_type": "code",
   "execution_count": 26,
   "metadata": {},
   "outputs": [
    {
     "data": {
      "text/html": [
       "<div>\n",
       "<style scoped>\n",
       "    .dataframe tbody tr th:only-of-type {\n",
       "        vertical-align: middle;\n",
       "    }\n",
       "\n",
       "    .dataframe tbody tr th {\n",
       "        vertical-align: top;\n",
       "    }\n",
       "\n",
       "    .dataframe thead th {\n",
       "        text-align: right;\n",
       "    }\n",
       "</style>\n",
       "<table border=\"1\" class=\"dataframe\">\n",
       "  <thead>\n",
       "    <tr style=\"text-align: right;\">\n",
       "      <th></th>\n",
       "      <th>InvoiceNo</th>\n",
       "      <th>StockCode</th>\n",
       "      <th>Description</th>\n",
       "      <th>Quantity</th>\n",
       "      <th>InvoiceDate</th>\n",
       "      <th>UnitPrice</th>\n",
       "      <th>CustomerID</th>\n",
       "      <th>Country</th>\n",
       "    </tr>\n",
       "  </thead>\n",
       "  <tbody>\n",
       "    <tr>\n",
       "      <th>178</th>\n",
       "      <td>C489449</td>\n",
       "      <td>22087</td>\n",
       "      <td>PAPER BUNTING WHITE LACE</td>\n",
       "      <td>-12</td>\n",
       "      <td>2009-12-01 10:33:00</td>\n",
       "      <td>2.95</td>\n",
       "      <td>16321.0</td>\n",
       "      <td>Australia</td>\n",
       "    </tr>\n",
       "    <tr>\n",
       "      <th>179</th>\n",
       "      <td>C489449</td>\n",
       "      <td>85206A</td>\n",
       "      <td>CREAM FELT EASTER EGG BASKET</td>\n",
       "      <td>-6</td>\n",
       "      <td>2009-12-01 10:33:00</td>\n",
       "      <td>1.65</td>\n",
       "      <td>16321.0</td>\n",
       "      <td>Australia</td>\n",
       "    </tr>\n",
       "    <tr>\n",
       "      <th>180</th>\n",
       "      <td>C489449</td>\n",
       "      <td>21895</td>\n",
       "      <td>POTTING SHED SOW 'N' GROW SET</td>\n",
       "      <td>-4</td>\n",
       "      <td>2009-12-01 10:33:00</td>\n",
       "      <td>4.25</td>\n",
       "      <td>16321.0</td>\n",
       "      <td>Australia</td>\n",
       "    </tr>\n",
       "    <tr>\n",
       "      <th>181</th>\n",
       "      <td>C489449</td>\n",
       "      <td>21896</td>\n",
       "      <td>POTTING SHED TWINE</td>\n",
       "      <td>-6</td>\n",
       "      <td>2009-12-01 10:33:00</td>\n",
       "      <td>2.10</td>\n",
       "      <td>16321.0</td>\n",
       "      <td>Australia</td>\n",
       "    </tr>\n",
       "    <tr>\n",
       "      <th>182</th>\n",
       "      <td>C489449</td>\n",
       "      <td>22083</td>\n",
       "      <td>PAPER CHAIN KIT RETRO SPOT</td>\n",
       "      <td>-12</td>\n",
       "      <td>2009-12-01 10:33:00</td>\n",
       "      <td>2.95</td>\n",
       "      <td>16321.0</td>\n",
       "      <td>Australia</td>\n",
       "    </tr>\n",
       "    <tr>\n",
       "      <th>183</th>\n",
       "      <td>C489449</td>\n",
       "      <td>21871</td>\n",
       "      <td>SAVE THE PLANET MUG</td>\n",
       "      <td>-12</td>\n",
       "      <td>2009-12-01 10:33:00</td>\n",
       "      <td>1.25</td>\n",
       "      <td>16321.0</td>\n",
       "      <td>Australia</td>\n",
       "    </tr>\n",
       "    <tr>\n",
       "      <th>184</th>\n",
       "      <td>C489449</td>\n",
       "      <td>84946</td>\n",
       "      <td>ANTIQUE SILVER TEA GLASS ETCHED</td>\n",
       "      <td>-12</td>\n",
       "      <td>2009-12-01 10:33:00</td>\n",
       "      <td>1.25</td>\n",
       "      <td>16321.0</td>\n",
       "      <td>Australia</td>\n",
       "    </tr>\n",
       "    <tr>\n",
       "      <th>185</th>\n",
       "      <td>C489449</td>\n",
       "      <td>84970S</td>\n",
       "      <td>HANGING HEART ZINC T-LIGHT HOLDER</td>\n",
       "      <td>-24</td>\n",
       "      <td>2009-12-01 10:33:00</td>\n",
       "      <td>0.85</td>\n",
       "      <td>16321.0</td>\n",
       "      <td>Australia</td>\n",
       "    </tr>\n",
       "    <tr>\n",
       "      <th>186</th>\n",
       "      <td>C489449</td>\n",
       "      <td>22090</td>\n",
       "      <td>PAPER BUNTING RETRO SPOTS</td>\n",
       "      <td>-12</td>\n",
       "      <td>2009-12-01 10:33:00</td>\n",
       "      <td>2.95</td>\n",
       "      <td>16321.0</td>\n",
       "      <td>Australia</td>\n",
       "    </tr>\n",
       "    <tr>\n",
       "      <th>196</th>\n",
       "      <td>C489459</td>\n",
       "      <td>90200A</td>\n",
       "      <td>PURPLE SWEETHEART BRACELET</td>\n",
       "      <td>-3</td>\n",
       "      <td>2009-12-01 10:44:00</td>\n",
       "      <td>4.25</td>\n",
       "      <td>17592.0</td>\n",
       "      <td>United Kingdom</td>\n",
       "    </tr>\n",
       "  </tbody>\n",
       "</table>\n",
       "</div>"
      ],
      "text/plain": [
       "    InvoiceNo StockCode                        Description  Quantity  \\\n",
       "178   C489449     22087           PAPER BUNTING WHITE LACE       -12   \n",
       "179   C489449    85206A       CREAM FELT EASTER EGG BASKET        -6   \n",
       "180   C489449     21895      POTTING SHED SOW 'N' GROW SET        -4   \n",
       "181   C489449     21896                 POTTING SHED TWINE        -6   \n",
       "182   C489449     22083         PAPER CHAIN KIT RETRO SPOT       -12   \n",
       "183   C489449     21871                SAVE THE PLANET MUG       -12   \n",
       "184   C489449     84946    ANTIQUE SILVER TEA GLASS ETCHED       -12   \n",
       "185   C489449    84970S  HANGING HEART ZINC T-LIGHT HOLDER       -24   \n",
       "186   C489449     22090          PAPER BUNTING RETRO SPOTS       -12   \n",
       "196   C489459    90200A         PURPLE SWEETHEART BRACELET        -3   \n",
       "\n",
       "             InvoiceDate  UnitPrice  CustomerID         Country  \n",
       "178  2009-12-01 10:33:00       2.95     16321.0       Australia  \n",
       "179  2009-12-01 10:33:00       1.65     16321.0       Australia  \n",
       "180  2009-12-01 10:33:00       4.25     16321.0       Australia  \n",
       "181  2009-12-01 10:33:00       2.10     16321.0       Australia  \n",
       "182  2009-12-01 10:33:00       2.95     16321.0       Australia  \n",
       "183  2009-12-01 10:33:00       1.25     16321.0       Australia  \n",
       "184  2009-12-01 10:33:00       1.25     16321.0       Australia  \n",
       "185  2009-12-01 10:33:00       0.85     16321.0       Australia  \n",
       "186  2009-12-01 10:33:00       2.95     16321.0       Australia  \n",
       "196  2009-12-01 10:44:00       4.25     17592.0  United Kingdom  "
      ]
     },
     "execution_count": 26,
     "metadata": {},
     "output_type": "execute_result"
    }
   ],
   "source": [
    "neg_quantity.head(10)"
   ]
  },
  {
   "cell_type": "code",
   "execution_count": 27,
   "metadata": {},
   "outputs": [
    {
     "data": {
      "text/plain": [
       "(22950, 8)"
      ]
     },
     "execution_count": 27,
     "metadata": {},
     "output_type": "execute_result"
    }
   ],
   "source": [
    "neg_quantity.shape"
   ]
  },
  {
   "cell_type": "code",
   "execution_count": 28,
   "metadata": {},
   "outputs": [
    {
     "name": "stdout",
     "output_type": "stream",
     "text": [
      "The percentage of records with negative Quantity: 2.1501427338760375\n"
     ]
    }
   ],
   "source": [
    "print(\"The percentage of records with negative Quantity:\", neg_quantity.shape[0]*100/df.shape[0])"
   ]
  },
  {
   "cell_type": "markdown",
   "metadata": {},
   "source": [
    "There are 10,624 raws with negative *Quantity* values, which is about 2% out of the total number of records in the dataframe."
   ]
  },
  {
   "cell_type": "markdown",
   "metadata": {},
   "source": [
    "<a id='datacleaning'></a>\n",
    "## Data cleaning and transformation"
   ]
  },
  {
   "cell_type": "markdown",
   "metadata": {},
   "source": [
    "### Drop NULL values"
   ]
  },
  {
   "cell_type": "markdown",
   "metadata": {},
   "source": [
    "We have NULL records in columns *CustomerId* and *Description*. Because we are planning to predict CLTV, we need records for each customer ID to proceed calculations. Let's drop rows containing NULL values."
   ]
  },
  {
   "cell_type": "code",
   "execution_count": 29,
   "metadata": {},
   "outputs": [],
   "source": [
    "df.dropna(subset=['CustomerID'], inplace=True)"
   ]
  },
  {
   "cell_type": "code",
   "execution_count": 30,
   "metadata": {},
   "outputs": [
    {
     "data": {
      "text/plain": [
       "(824364, 8)"
      ]
     },
     "execution_count": 30,
     "metadata": {},
     "output_type": "execute_result"
    }
   ],
   "source": [
    "df.shape"
   ]
  },
  {
   "cell_type": "code",
   "execution_count": 31,
   "metadata": {},
   "outputs": [
    {
     "data": {
      "text/plain": [
       "0"
      ]
     },
     "execution_count": 31,
     "metadata": {},
     "output_type": "execute_result"
    }
   ],
   "source": [
    "# Let's check NULL records in the CustomerId column\n",
    "df['CustomerID'].isnull().sum()"
   ]
  },
  {
   "cell_type": "code",
   "execution_count": 32,
   "metadata": {},
   "outputs": [
    {
     "name": "stdout",
     "output_type": "stream",
     "text": [
      "<class 'pandas.core.frame.DataFrame'>\n",
      "Int64Index: 824364 entries, 0 to 1067370\n",
      "Data columns (total 8 columns):\n",
      " #   Column       Non-Null Count   Dtype  \n",
      "---  ------       --------------   -----  \n",
      " 0   InvoiceNo    824364 non-null  object \n",
      " 1   StockCode    824364 non-null  object \n",
      " 2   Description  824364 non-null  object \n",
      " 3   Quantity     824364 non-null  int64  \n",
      " 4   InvoiceDate  824364 non-null  object \n",
      " 5   UnitPrice    824364 non-null  float64\n",
      " 6   CustomerID   824364 non-null  float64\n",
      " 7   Country      824364 non-null  object \n",
      "dtypes: float64(2), int64(1), object(5)\n",
      "memory usage: 56.6+ MB\n"
     ]
    }
   ],
   "source": [
    "df.info()"
   ]
  },
  {
   "cell_type": "code",
   "execution_count": 33,
   "metadata": {
    "scrolled": true
   },
   "outputs": [
    {
     "data": {
      "text/html": [
       "<div>\n",
       "<style scoped>\n",
       "    .dataframe tbody tr th:only-of-type {\n",
       "        vertical-align: middle;\n",
       "    }\n",
       "\n",
       "    .dataframe tbody tr th {\n",
       "        vertical-align: top;\n",
       "    }\n",
       "\n",
       "    .dataframe thead th {\n",
       "        text-align: right;\n",
       "    }\n",
       "</style>\n",
       "<table border=\"1\" class=\"dataframe\">\n",
       "  <thead>\n",
       "    <tr style=\"text-align: right;\">\n",
       "      <th></th>\n",
       "      <th>InvoiceNo</th>\n",
       "      <th>StockCode</th>\n",
       "      <th>Description</th>\n",
       "      <th>Quantity</th>\n",
       "      <th>InvoiceDate</th>\n",
       "      <th>UnitPrice</th>\n",
       "      <th>CustomerID</th>\n",
       "      <th>Country</th>\n",
       "    </tr>\n",
       "  </thead>\n",
       "  <tbody>\n",
       "    <tr>\n",
       "      <th>178</th>\n",
       "      <td>C489449</td>\n",
       "      <td>22087</td>\n",
       "      <td>PAPER BUNTING WHITE LACE</td>\n",
       "      <td>-12</td>\n",
       "      <td>2009-12-01 10:33:00</td>\n",
       "      <td>2.95</td>\n",
       "      <td>16321.0</td>\n",
       "      <td>Australia</td>\n",
       "    </tr>\n",
       "    <tr>\n",
       "      <th>187</th>\n",
       "      <td>489450</td>\n",
       "      <td>22087</td>\n",
       "      <td>PAPER BUNTING WHITE LACE</td>\n",
       "      <td>12</td>\n",
       "      <td>2009-12-01 10:36:00</td>\n",
       "      <td>2.95</td>\n",
       "      <td>16321.0</td>\n",
       "      <td>Australia</td>\n",
       "    </tr>\n",
       "    <tr>\n",
       "      <th>590070</th>\n",
       "      <td>541657</td>\n",
       "      <td>22087</td>\n",
       "      <td>PAPER BUNTING WHITE LACE</td>\n",
       "      <td>6</td>\n",
       "      <td>2011-01-20 12:11:00</td>\n",
       "      <td>2.95</td>\n",
       "      <td>16321.0</td>\n",
       "      <td>Australia</td>\n",
       "    </tr>\n",
       "    <tr>\n",
       "      <th>609731</th>\n",
       "      <td>543372</td>\n",
       "      <td>22087</td>\n",
       "      <td>PAPER BUNTING WHITE LACE</td>\n",
       "      <td>18</td>\n",
       "      <td>2011-02-07 15:01:00</td>\n",
       "      <td>2.95</td>\n",
       "      <td>16321.0</td>\n",
       "      <td>Australia</td>\n",
       "    </tr>\n",
       "    <tr>\n",
       "      <th>609761</th>\n",
       "      <td>C543375</td>\n",
       "      <td>22087</td>\n",
       "      <td>PAPER BUNTING WHITE LACE</td>\n",
       "      <td>-18</td>\n",
       "      <td>2011-02-07 15:09:00</td>\n",
       "      <td>2.95</td>\n",
       "      <td>16321.0</td>\n",
       "      <td>Australia</td>\n",
       "    </tr>\n",
       "    <tr>\n",
       "      <th>609763</th>\n",
       "      <td>543376</td>\n",
       "      <td>22087</td>\n",
       "      <td>PAPER BUNTING WHITE LACE</td>\n",
       "      <td>18</td>\n",
       "      <td>2011-02-07 15:10:00</td>\n",
       "      <td>2.95</td>\n",
       "      <td>16321.0</td>\n",
       "      <td>Australia</td>\n",
       "    </tr>\n",
       "  </tbody>\n",
       "</table>\n",
       "</div>"
      ],
      "text/plain": [
       "       InvoiceNo StockCode               Description  Quantity  \\\n",
       "178      C489449     22087  PAPER BUNTING WHITE LACE       -12   \n",
       "187       489450     22087  PAPER BUNTING WHITE LACE        12   \n",
       "590070    541657     22087  PAPER BUNTING WHITE LACE         6   \n",
       "609731    543372     22087  PAPER BUNTING WHITE LACE        18   \n",
       "609761   C543375     22087  PAPER BUNTING WHITE LACE       -18   \n",
       "609763    543376     22087  PAPER BUNTING WHITE LACE        18   \n",
       "\n",
       "                InvoiceDate  UnitPrice  CustomerID    Country  \n",
       "178     2009-12-01 10:33:00       2.95     16321.0  Australia  \n",
       "187     2009-12-01 10:36:00       2.95     16321.0  Australia  \n",
       "590070  2011-01-20 12:11:00       2.95     16321.0  Australia  \n",
       "609731  2011-02-07 15:01:00       2.95     16321.0  Australia  \n",
       "609761  2011-02-07 15:09:00       2.95     16321.0  Australia  \n",
       "609763  2011-02-07 15:10:00       2.95     16321.0  Australia  "
      ]
     },
     "execution_count": 33,
     "metadata": {},
     "output_type": "execute_result"
    }
   ],
   "source": [
    "df[(df['StockCode'].str.contains('22087')) & (df['CustomerID'] == 16321.0)]"
   ]
  },
  {
   "cell_type": "markdown",
   "metadata": {},
   "source": [
    "### Handle negative quantity"
   ]
  },
  {
   "cell_type": "code",
   "execution_count": 34,
   "metadata": {},
   "outputs": [],
   "source": [
    "df = df.loc[df['Quantity'] > 0]"
   ]
  },
  {
   "cell_type": "code",
   "execution_count": 35,
   "metadata": {},
   "outputs": [
    {
     "data": {
      "text/html": [
       "<div>\n",
       "<style scoped>\n",
       "    .dataframe tbody tr th:only-of-type {\n",
       "        vertical-align: middle;\n",
       "    }\n",
       "\n",
       "    .dataframe tbody tr th {\n",
       "        vertical-align: top;\n",
       "    }\n",
       "\n",
       "    .dataframe thead th {\n",
       "        text-align: right;\n",
       "    }\n",
       "</style>\n",
       "<table border=\"1\" class=\"dataframe\">\n",
       "  <thead>\n",
       "    <tr style=\"text-align: right;\">\n",
       "      <th></th>\n",
       "      <th>InvoiceNo</th>\n",
       "      <th>StockCode</th>\n",
       "      <th>Description</th>\n",
       "      <th>Quantity</th>\n",
       "      <th>InvoiceDate</th>\n",
       "      <th>UnitPrice</th>\n",
       "      <th>CustomerID</th>\n",
       "      <th>Country</th>\n",
       "    </tr>\n",
       "  </thead>\n",
       "  <tbody>\n",
       "  </tbody>\n",
       "</table>\n",
       "</div>"
      ],
      "text/plain": [
       "Empty DataFrame\n",
       "Columns: [InvoiceNo, StockCode, Description, Quantity, InvoiceDate, UnitPrice, CustomerID, Country]\n",
       "Index: []"
      ]
     },
     "execution_count": 35,
     "metadata": {},
     "output_type": "execute_result"
    }
   ],
   "source": [
    "# Let's check negative records\n",
    "df[df['Quantity'] < 0]"
   ]
  },
  {
   "cell_type": "markdown",
   "metadata": {},
   "source": [
    "### Remove rows with negative price"
   ]
  },
  {
   "cell_type": "code",
   "execution_count": 36,
   "metadata": {},
   "outputs": [],
   "source": [
    "df = df.loc[df['UnitPrice'] > 0]"
   ]
  },
  {
   "cell_type": "code",
   "execution_count": 37,
   "metadata": {},
   "outputs": [
    {
     "data": {
      "text/html": [
       "<div>\n",
       "<style scoped>\n",
       "    .dataframe tbody tr th:only-of-type {\n",
       "        vertical-align: middle;\n",
       "    }\n",
       "\n",
       "    .dataframe tbody tr th {\n",
       "        vertical-align: top;\n",
       "    }\n",
       "\n",
       "    .dataframe thead th {\n",
       "        text-align: right;\n",
       "    }\n",
       "</style>\n",
       "<table border=\"1\" class=\"dataframe\">\n",
       "  <thead>\n",
       "    <tr style=\"text-align: right;\">\n",
       "      <th></th>\n",
       "      <th>InvoiceNo</th>\n",
       "      <th>StockCode</th>\n",
       "      <th>Description</th>\n",
       "      <th>Quantity</th>\n",
       "      <th>InvoiceDate</th>\n",
       "      <th>UnitPrice</th>\n",
       "      <th>CustomerID</th>\n",
       "      <th>Country</th>\n",
       "    </tr>\n",
       "  </thead>\n",
       "  <tbody>\n",
       "  </tbody>\n",
       "</table>\n",
       "</div>"
      ],
      "text/plain": [
       "Empty DataFrame\n",
       "Columns: [InvoiceNo, StockCode, Description, Quantity, InvoiceDate, UnitPrice, CustomerID, Country]\n",
       "Index: []"
      ]
     },
     "execution_count": 37,
     "metadata": {},
     "output_type": "execute_result"
    }
   ],
   "source": [
    "# Let's check negative records\n",
    "df[df['UnitPrice'] < 0]"
   ]
  },
  {
   "cell_type": "markdown",
   "metadata": {},
   "source": [
    "### Handle incomplete data"
   ]
  },
  {
   "cell_type": "markdown",
   "metadata": {},
   "source": [
    "Period of time for the purchase records is from December 1, 2010 to December  9, 2011. The data for the last month is incomplete. Because we are planning to predict CLTV for the next 3 months and we will be aggregating data monthly, let us ignore the records for the incomplete month."
   ]
  },
  {
   "cell_type": "code",
   "execution_count": 38,
   "metadata": {},
   "outputs": [],
   "source": [
    "df = df.loc[df['InvoiceDate'] < '2011-12-01']"
   ]
  },
  {
   "cell_type": "code",
   "execution_count": 39,
   "metadata": {},
   "outputs": [
    {
     "data": {
      "text/plain": [
       "('2009-12-01 07:45:00', '2011-11-30 17:37:00')"
      ]
     },
     "execution_count": 39,
     "metadata": {},
     "output_type": "execute_result"
    }
   ],
   "source": [
    "# Let's check the time period\n",
    "df['InvoiceDate'].min(), df['InvoiceDate'].max()"
   ]
  },
  {
   "cell_type": "markdown",
   "metadata": {},
   "source": [
    "### Calculate total sales"
   ]
  },
  {
   "cell_type": "markdown",
   "metadata": {},
   "source": [
    "Let us create a column for the total sales value for each transaction"
   ]
  },
  {
   "cell_type": "code",
   "execution_count": 40,
   "metadata": {},
   "outputs": [],
   "source": [
    "df['Sales'] = df['Quantity'] * df['UnitPrice']"
   ]
  },
  {
   "cell_type": "code",
   "execution_count": 41,
   "metadata": {},
   "outputs": [],
   "source": [
    "df_orders = df.groupby(['CustomerID', 'InvoiceNo']).agg({'Sales': sum, 'InvoiceDate': max})"
   ]
  },
  {
   "cell_type": "code",
   "execution_count": 42,
   "metadata": {},
   "outputs": [
    {
     "data": {
      "text/html": [
       "<div>\n",
       "<style scoped>\n",
       "    .dataframe tbody tr th:only-of-type {\n",
       "        vertical-align: middle;\n",
       "    }\n",
       "\n",
       "    .dataframe tbody tr th {\n",
       "        vertical-align: top;\n",
       "    }\n",
       "\n",
       "    .dataframe thead th {\n",
       "        text-align: right;\n",
       "    }\n",
       "</style>\n",
       "<table border=\"1\" class=\"dataframe\">\n",
       "  <thead>\n",
       "    <tr style=\"text-align: right;\">\n",
       "      <th></th>\n",
       "      <th></th>\n",
       "      <th>Sales</th>\n",
       "      <th>InvoiceDate</th>\n",
       "    </tr>\n",
       "    <tr>\n",
       "      <th>CustomerID</th>\n",
       "      <th>InvoiceNo</th>\n",
       "      <th></th>\n",
       "      <th></th>\n",
       "    </tr>\n",
       "  </thead>\n",
       "  <tbody>\n",
       "    <tr>\n",
       "      <th rowspan=\"8\" valign=\"top\">12346.0</th>\n",
       "      <th>491725</th>\n",
       "      <td>45.0</td>\n",
       "      <td>2009-12-14 08:34:00</td>\n",
       "    </tr>\n",
       "    <tr>\n",
       "      <th>491742</th>\n",
       "      <td>22.5</td>\n",
       "      <td>2009-12-14 11:00:00</td>\n",
       "    </tr>\n",
       "    <tr>\n",
       "      <th>491744</th>\n",
       "      <td>22.5</td>\n",
       "      <td>2009-12-14 11:02:00</td>\n",
       "    </tr>\n",
       "    <tr>\n",
       "      <th>492718</th>\n",
       "      <td>22.5</td>\n",
       "      <td>2009-12-18 10:47:00</td>\n",
       "    </tr>\n",
       "    <tr>\n",
       "      <th>492722</th>\n",
       "      <td>1.0</td>\n",
       "      <td>2009-12-18 10:55:00</td>\n",
       "    </tr>\n",
       "    <tr>\n",
       "      <th>493410</th>\n",
       "      <td>22.5</td>\n",
       "      <td>2010-01-04 09:24:00</td>\n",
       "    </tr>\n",
       "    <tr>\n",
       "      <th>493412</th>\n",
       "      <td>22.5</td>\n",
       "      <td>2010-01-04 09:53:00</td>\n",
       "    </tr>\n",
       "    <tr>\n",
       "      <th>494450</th>\n",
       "      <td>22.5</td>\n",
       "      <td>2010-01-14 13:50:00</td>\n",
       "    </tr>\n",
       "  </tbody>\n",
       "</table>\n",
       "</div>"
      ],
      "text/plain": [
       "                      Sales          InvoiceDate\n",
       "CustomerID InvoiceNo                            \n",
       "12346.0    491725      45.0  2009-12-14 08:34:00\n",
       "           491742      22.5  2009-12-14 11:00:00\n",
       "           491744      22.5  2009-12-14 11:02:00\n",
       "           492718      22.5  2009-12-18 10:47:00\n",
       "           492722       1.0  2009-12-18 10:55:00\n",
       "           493410      22.5  2010-01-04 09:24:00\n",
       "           493412      22.5  2010-01-04 09:53:00\n",
       "           494450      22.5  2010-01-14 13:50:00"
      ]
     },
     "execution_count": 42,
     "metadata": {},
     "output_type": "execute_result"
    }
   ],
   "source": [
    "df_orders.head(8)"
   ]
  },
  {
   "cell_type": "code",
   "execution_count": 43,
   "metadata": {},
   "outputs": [
    {
     "data": {
      "text/plain": [
       "('2011-11-30 17:37:00', '2009-12-01 07:45:00')"
      ]
     },
     "execution_count": 43,
     "metadata": {},
     "output_type": "execute_result"
    }
   ],
   "source": [
    "df_orders['InvoiceDate'].max(), df_orders['InvoiceDate'].min()"
   ]
  },
  {
   "cell_type": "code",
   "execution_count": 44,
   "metadata": {},
   "outputs": [],
   "source": [
    "df_orders['InvoiceDate'] = pd.to_datetime(df_orders['InvoiceDate'], format='%Y-%m-%d %H:%M:%S')"
   ]
  },
  {
   "cell_type": "code",
   "execution_count": 45,
   "metadata": {},
   "outputs": [
    {
     "data": {
      "text/html": [
       "<div>\n",
       "<style scoped>\n",
       "    .dataframe tbody tr th:only-of-type {\n",
       "        vertical-align: middle;\n",
       "    }\n",
       "\n",
       "    .dataframe tbody tr th {\n",
       "        vertical-align: top;\n",
       "    }\n",
       "\n",
       "    .dataframe thead th {\n",
       "        text-align: right;\n",
       "    }\n",
       "</style>\n",
       "<table border=\"1\" class=\"dataframe\">\n",
       "  <thead>\n",
       "    <tr style=\"text-align: right;\">\n",
       "      <th></th>\n",
       "      <th></th>\n",
       "      <th>Sales</th>\n",
       "      <th>InvoiceDate</th>\n",
       "    </tr>\n",
       "    <tr>\n",
       "      <th>CustomerID</th>\n",
       "      <th>InvoiceNo</th>\n",
       "      <th></th>\n",
       "      <th></th>\n",
       "    </tr>\n",
       "  </thead>\n",
       "  <tbody>\n",
       "    <tr>\n",
       "      <th rowspan=\"5\" valign=\"top\">12346.0</th>\n",
       "      <th>491725</th>\n",
       "      <td>45.00</td>\n",
       "      <td>2009-12-14 08:34:00</td>\n",
       "    </tr>\n",
       "    <tr>\n",
       "      <th>491742</th>\n",
       "      <td>22.50</td>\n",
       "      <td>2009-12-14 11:00:00</td>\n",
       "    </tr>\n",
       "    <tr>\n",
       "      <th>491744</th>\n",
       "      <td>22.50</td>\n",
       "      <td>2009-12-14 11:02:00</td>\n",
       "    </tr>\n",
       "    <tr>\n",
       "      <th>492718</th>\n",
       "      <td>22.50</td>\n",
       "      <td>2009-12-18 10:47:00</td>\n",
       "    </tr>\n",
       "    <tr>\n",
       "      <th>492722</th>\n",
       "      <td>1.00</td>\n",
       "      <td>2009-12-18 10:55:00</td>\n",
       "    </tr>\n",
       "    <tr>\n",
       "      <th>...</th>\n",
       "      <th>...</th>\n",
       "      <td>...</td>\n",
       "      <td>...</td>\n",
       "    </tr>\n",
       "    <tr>\n",
       "      <th rowspan=\"5\" valign=\"top\">18287.0</th>\n",
       "      <th>523290</th>\n",
       "      <td>30.60</td>\n",
       "      <td>2010-09-21 12:19:00</td>\n",
       "    </tr>\n",
       "    <tr>\n",
       "      <th>534346</th>\n",
       "      <td>381.50</td>\n",
       "      <td>2010-11-22 11:51:00</td>\n",
       "    </tr>\n",
       "    <tr>\n",
       "      <th>554065</th>\n",
       "      <td>765.28</td>\n",
       "      <td>2011-05-22 10:39:00</td>\n",
       "    </tr>\n",
       "    <tr>\n",
       "      <th>570715</th>\n",
       "      <td>1001.32</td>\n",
       "      <td>2011-10-12 10:23:00</td>\n",
       "    </tr>\n",
       "    <tr>\n",
       "      <th>573167</th>\n",
       "      <td>70.68</td>\n",
       "      <td>2011-10-28 09:29:00</td>\n",
       "    </tr>\n",
       "  </tbody>\n",
       "</table>\n",
       "<p>36191 rows × 2 columns</p>\n",
       "</div>"
      ],
      "text/plain": [
       "                        Sales         InvoiceDate\n",
       "CustomerID InvoiceNo                             \n",
       "12346.0    491725       45.00 2009-12-14 08:34:00\n",
       "           491742       22.50 2009-12-14 11:00:00\n",
       "           491744       22.50 2009-12-14 11:02:00\n",
       "           492718       22.50 2009-12-18 10:47:00\n",
       "           492722        1.00 2009-12-18 10:55:00\n",
       "...                       ...                 ...\n",
       "18287.0    523290       30.60 2010-09-21 12:19:00\n",
       "           534346      381.50 2010-11-22 11:51:00\n",
       "           554065      765.28 2011-05-22 10:39:00\n",
       "           570715     1001.32 2011-10-12 10:23:00\n",
       "           573167       70.68 2011-10-28 09:29:00\n",
       "\n",
       "[36191 rows x 2 columns]"
      ]
     },
     "execution_count": 45,
     "metadata": {},
     "output_type": "execute_result"
    }
   ],
   "source": [
    "df_orders"
   ]
  },
  {
   "cell_type": "markdown",
   "metadata": {},
   "source": [
    "<a id='dataanalysis'></a>\n",
    "## Data analysis"
   ]
  },
  {
   "cell_type": "markdown",
   "metadata": {},
   "source": [
    "In order to predict and calculate CLTV, we have to estimate the **frequency**, **recency**, and **total amount** of purchases by each customer. We are going to determine basic information about each customer's average and lifetime purchase amount, as well as each customer's duration and frequency of purchase."
   ]
  },
  {
   "cell_type": "code",
   "execution_count": 46,
   "metadata": {},
   "outputs": [],
   "source": [
    "def groupby_mean(x):\n",
    "    return x.mean()\n",
    "\n",
    "def groupby_count(x):\n",
    "    return x.count()\n",
    "\n",
    "def purchase_duration(x):\n",
    "    return (x.max() - x.min()).days\n",
    "\n",
    "def avg_frequency(x):\n",
    "    return (x.max() - x.min()).days / x.count()\n",
    "\n",
    "groupby_mean.__name__ = 'avg'\n",
    "groupby_count.__name__ = 'count'\n",
    "purchase_duration.__name__ = 'purchase_duration'\n",
    "avg_frequency.__name__ = 'purchase_frequency'"
   ]
  },
  {
   "cell_type": "code",
   "execution_count": 47,
   "metadata": {},
   "outputs": [],
   "source": [
    "df_summary = df_orders.reset_index().groupby('CustomerID').agg({\n",
    "            'Sales': [min, max, sum, groupby_mean, groupby_count],\n",
    "            'InvoiceDate': [min, max, purchase_duration, avg_frequency]\n",
    "             })"
   ]
  },
  {
   "cell_type": "code",
   "execution_count": 48,
   "metadata": {},
   "outputs": [
    {
     "data": {
      "text/html": [
       "<div>\n",
       "<style scoped>\n",
       "    .dataframe tbody tr th:only-of-type {\n",
       "        vertical-align: middle;\n",
       "    }\n",
       "\n",
       "    .dataframe tbody tr th {\n",
       "        vertical-align: top;\n",
       "    }\n",
       "\n",
       "    .dataframe thead tr th {\n",
       "        text-align: left;\n",
       "    }\n",
       "\n",
       "    .dataframe thead tr:last-of-type th {\n",
       "        text-align: right;\n",
       "    }\n",
       "</style>\n",
       "<table border=\"1\" class=\"dataframe\">\n",
       "  <thead>\n",
       "    <tr>\n",
       "      <th></th>\n",
       "      <th colspan=\"5\" halign=\"left\">Sales</th>\n",
       "      <th colspan=\"4\" halign=\"left\">InvoiceDate</th>\n",
       "    </tr>\n",
       "    <tr>\n",
       "      <th></th>\n",
       "      <th>min</th>\n",
       "      <th>max</th>\n",
       "      <th>sum</th>\n",
       "      <th>avg</th>\n",
       "      <th>count</th>\n",
       "      <th>min</th>\n",
       "      <th>max</th>\n",
       "      <th>purchase_duration</th>\n",
       "      <th>purchase_frequency</th>\n",
       "    </tr>\n",
       "    <tr>\n",
       "      <th>CustomerID</th>\n",
       "      <th></th>\n",
       "      <th></th>\n",
       "      <th></th>\n",
       "      <th></th>\n",
       "      <th></th>\n",
       "      <th></th>\n",
       "      <th></th>\n",
       "      <th></th>\n",
       "      <th></th>\n",
       "    </tr>\n",
       "  </thead>\n",
       "  <tbody>\n",
       "    <tr>\n",
       "      <th>12346.0</th>\n",
       "      <td>1.00</td>\n",
       "      <td>77183.60</td>\n",
       "      <td>77556.46</td>\n",
       "      <td>6463.038333</td>\n",
       "      <td>12.0</td>\n",
       "      <td>2009-12-14 08:34:00</td>\n",
       "      <td>2011-01-18 10:01:00</td>\n",
       "      <td>400</td>\n",
       "      <td>33.333333</td>\n",
       "    </tr>\n",
       "    <tr>\n",
       "      <th>12347.0</th>\n",
       "      <td>382.52</td>\n",
       "      <td>1423.58</td>\n",
       "      <td>5408.50</td>\n",
       "      <td>772.642857</td>\n",
       "      <td>7.0</td>\n",
       "      <td>2010-10-31 14:20:00</td>\n",
       "      <td>2011-10-31 12:25:00</td>\n",
       "      <td>364</td>\n",
       "      <td>52.000000</td>\n",
       "    </tr>\n",
       "    <tr>\n",
       "      <th>12348.0</th>\n",
       "      <td>222.16</td>\n",
       "      <td>892.80</td>\n",
       "      <td>2019.40</td>\n",
       "      <td>403.880000</td>\n",
       "      <td>5.0</td>\n",
       "      <td>2010-09-27 14:59:00</td>\n",
       "      <td>2011-09-25 13:13:00</td>\n",
       "      <td>362</td>\n",
       "      <td>72.400000</td>\n",
       "    </tr>\n",
       "    <tr>\n",
       "      <th>12349.0</th>\n",
       "      <td>200.00</td>\n",
       "      <td>1757.55</td>\n",
       "      <td>4428.69</td>\n",
       "      <td>1107.172500</td>\n",
       "      <td>4.0</td>\n",
       "      <td>2010-04-29 13:20:00</td>\n",
       "      <td>2011-11-21 09:51:00</td>\n",
       "      <td>570</td>\n",
       "      <td>142.500000</td>\n",
       "    </tr>\n",
       "    <tr>\n",
       "      <th>12350.0</th>\n",
       "      <td>334.40</td>\n",
       "      <td>334.40</td>\n",
       "      <td>334.40</td>\n",
       "      <td>334.400000</td>\n",
       "      <td>1.0</td>\n",
       "      <td>2011-02-02 16:01:00</td>\n",
       "      <td>2011-02-02 16:01:00</td>\n",
       "      <td>0</td>\n",
       "      <td>0.000000</td>\n",
       "    </tr>\n",
       "  </tbody>\n",
       "</table>\n",
       "</div>"
      ],
      "text/plain": [
       "             Sales                                                InvoiceDate  \\\n",
       "               min       max       sum          avg count                 min   \n",
       "CustomerID                                                                      \n",
       "12346.0       1.00  77183.60  77556.46  6463.038333  12.0 2009-12-14 08:34:00   \n",
       "12347.0     382.52   1423.58   5408.50   772.642857   7.0 2010-10-31 14:20:00   \n",
       "12348.0     222.16    892.80   2019.40   403.880000   5.0 2010-09-27 14:59:00   \n",
       "12349.0     200.00   1757.55   4428.69  1107.172500   4.0 2010-04-29 13:20:00   \n",
       "12350.0     334.40    334.40    334.40   334.400000   1.0 2011-02-02 16:01:00   \n",
       "\n",
       "                                                                     \n",
       "                           max purchase_duration purchase_frequency  \n",
       "CustomerID                                                           \n",
       "12346.0    2011-01-18 10:01:00               400          33.333333  \n",
       "12347.0    2011-10-31 12:25:00               364          52.000000  \n",
       "12348.0    2011-09-25 13:13:00               362          72.400000  \n",
       "12349.0    2011-11-21 09:51:00               570         142.500000  \n",
       "12350.0    2011-02-02 16:01:00                 0           0.000000  "
      ]
     },
     "execution_count": 48,
     "metadata": {},
     "output_type": "execute_result"
    }
   ],
   "source": [
    "df_summary.head()"
   ]
  },
  {
   "cell_type": "markdown",
   "metadata": {},
   "source": [
    "This data gives us an idea on the purchases each customer made."
   ]
  },
  {
   "cell_type": "markdown",
   "metadata": {},
   "source": [
    "Let us have a closer look at the **repeat customers**. Particularly, we are interested in the **number of purchases** and **frequency of purchases** made.  "
   ]
  },
  {
   "cell_type": "markdown",
   "metadata": {},
   "source": [
    "### Repeat customers"
   ]
  },
  {
   "cell_type": "markdown",
   "metadata": {},
   "source": [
    "#### Number of purchases"
   ]
  },
  {
   "cell_type": "code",
   "execution_count": 49,
   "metadata": {},
   "outputs": [],
   "source": [
    "df_summary.columns = ['_'.join(col).lower() for col in df_summary.columns]"
   ]
  },
  {
   "cell_type": "code",
   "execution_count": 50,
   "metadata": {},
   "outputs": [
    {
     "data": {
      "text/html": [
       "<div>\n",
       "<style scoped>\n",
       "    .dataframe tbody tr th:only-of-type {\n",
       "        vertical-align: middle;\n",
       "    }\n",
       "\n",
       "    .dataframe tbody tr th {\n",
       "        vertical-align: top;\n",
       "    }\n",
       "\n",
       "    .dataframe thead th {\n",
       "        text-align: right;\n",
       "    }\n",
       "</style>\n",
       "<table border=\"1\" class=\"dataframe\">\n",
       "  <thead>\n",
       "    <tr style=\"text-align: right;\">\n",
       "      <th></th>\n",
       "      <th>sales_min</th>\n",
       "      <th>sales_max</th>\n",
       "      <th>sales_sum</th>\n",
       "      <th>sales_avg</th>\n",
       "      <th>sales_count</th>\n",
       "      <th>invoicedate_min</th>\n",
       "      <th>invoicedate_max</th>\n",
       "      <th>invoicedate_purchase_duration</th>\n",
       "      <th>invoicedate_purchase_frequency</th>\n",
       "    </tr>\n",
       "    <tr>\n",
       "      <th>CustomerID</th>\n",
       "      <th></th>\n",
       "      <th></th>\n",
       "      <th></th>\n",
       "      <th></th>\n",
       "      <th></th>\n",
       "      <th></th>\n",
       "      <th></th>\n",
       "      <th></th>\n",
       "      <th></th>\n",
       "    </tr>\n",
       "  </thead>\n",
       "  <tbody>\n",
       "    <tr>\n",
       "      <th>12346.0</th>\n",
       "      <td>1.00</td>\n",
       "      <td>77183.60</td>\n",
       "      <td>77556.46</td>\n",
       "      <td>6463.038333</td>\n",
       "      <td>12.0</td>\n",
       "      <td>2009-12-14 08:34:00</td>\n",
       "      <td>2011-01-18 10:01:00</td>\n",
       "      <td>400</td>\n",
       "      <td>33.333333</td>\n",
       "    </tr>\n",
       "    <tr>\n",
       "      <th>12347.0</th>\n",
       "      <td>382.52</td>\n",
       "      <td>1423.58</td>\n",
       "      <td>5408.50</td>\n",
       "      <td>772.642857</td>\n",
       "      <td>7.0</td>\n",
       "      <td>2010-10-31 14:20:00</td>\n",
       "      <td>2011-10-31 12:25:00</td>\n",
       "      <td>364</td>\n",
       "      <td>52.000000</td>\n",
       "    </tr>\n",
       "    <tr>\n",
       "      <th>12348.0</th>\n",
       "      <td>222.16</td>\n",
       "      <td>892.80</td>\n",
       "      <td>2019.40</td>\n",
       "      <td>403.880000</td>\n",
       "      <td>5.0</td>\n",
       "      <td>2010-09-27 14:59:00</td>\n",
       "      <td>2011-09-25 13:13:00</td>\n",
       "      <td>362</td>\n",
       "      <td>72.400000</td>\n",
       "    </tr>\n",
       "    <tr>\n",
       "      <th>12349.0</th>\n",
       "      <td>200.00</td>\n",
       "      <td>1757.55</td>\n",
       "      <td>4428.69</td>\n",
       "      <td>1107.172500</td>\n",
       "      <td>4.0</td>\n",
       "      <td>2010-04-29 13:20:00</td>\n",
       "      <td>2011-11-21 09:51:00</td>\n",
       "      <td>570</td>\n",
       "      <td>142.500000</td>\n",
       "    </tr>\n",
       "    <tr>\n",
       "      <th>12350.0</th>\n",
       "      <td>334.40</td>\n",
       "      <td>334.40</td>\n",
       "      <td>334.40</td>\n",
       "      <td>334.400000</td>\n",
       "      <td>1.0</td>\n",
       "      <td>2011-02-02 16:01:00</td>\n",
       "      <td>2011-02-02 16:01:00</td>\n",
       "      <td>0</td>\n",
       "      <td>0.000000</td>\n",
       "    </tr>\n",
       "    <tr>\n",
       "      <th>...</th>\n",
       "      <td>...</td>\n",
       "      <td>...</td>\n",
       "      <td>...</td>\n",
       "      <td>...</td>\n",
       "      <td>...</td>\n",
       "      <td>...</td>\n",
       "      <td>...</td>\n",
       "      <td>...</td>\n",
       "      <td>...</td>\n",
       "    </tr>\n",
       "    <tr>\n",
       "      <th>18283.0</th>\n",
       "      <td>1.95</td>\n",
       "      <td>313.65</td>\n",
       "      <td>2528.65</td>\n",
       "      <td>120.411905</td>\n",
       "      <td>21.0</td>\n",
       "      <td>2010-02-19 17:16:00</td>\n",
       "      <td>2011-11-30 12:59:00</td>\n",
       "      <td>648</td>\n",
       "      <td>30.857143</td>\n",
       "    </tr>\n",
       "    <tr>\n",
       "      <th>18284.0</th>\n",
       "      <td>461.68</td>\n",
       "      <td>461.68</td>\n",
       "      <td>461.68</td>\n",
       "      <td>461.680000</td>\n",
       "      <td>1.0</td>\n",
       "      <td>2010-10-04 11:33:00</td>\n",
       "      <td>2010-10-04 11:33:00</td>\n",
       "      <td>0</td>\n",
       "      <td>0.000000</td>\n",
       "    </tr>\n",
       "    <tr>\n",
       "      <th>18285.0</th>\n",
       "      <td>427.00</td>\n",
       "      <td>427.00</td>\n",
       "      <td>427.00</td>\n",
       "      <td>427.000000</td>\n",
       "      <td>1.0</td>\n",
       "      <td>2010-02-17 10:24:00</td>\n",
       "      <td>2010-02-17 10:24:00</td>\n",
       "      <td>0</td>\n",
       "      <td>0.000000</td>\n",
       "    </tr>\n",
       "    <tr>\n",
       "      <th>18286.0</th>\n",
       "      <td>462.95</td>\n",
       "      <td>833.48</td>\n",
       "      <td>1296.43</td>\n",
       "      <td>648.215000</td>\n",
       "      <td>2.0</td>\n",
       "      <td>2009-12-16 10:45:00</td>\n",
       "      <td>2010-08-20 11:57:00</td>\n",
       "      <td>247</td>\n",
       "      <td>123.500000</td>\n",
       "    </tr>\n",
       "    <tr>\n",
       "      <th>18287.0</th>\n",
       "      <td>30.60</td>\n",
       "      <td>1071.61</td>\n",
       "      <td>4182.99</td>\n",
       "      <td>597.570000</td>\n",
       "      <td>7.0</td>\n",
       "      <td>2010-05-17 11:55:00</td>\n",
       "      <td>2011-10-28 09:29:00</td>\n",
       "      <td>528</td>\n",
       "      <td>75.428571</td>\n",
       "    </tr>\n",
       "  </tbody>\n",
       "</table>\n",
       "<p>5850 rows × 9 columns</p>\n",
       "</div>"
      ],
      "text/plain": [
       "            sales_min  sales_max  sales_sum    sales_avg  sales_count  \\\n",
       "CustomerID                                                              \n",
       "12346.0          1.00   77183.60   77556.46  6463.038333         12.0   \n",
       "12347.0        382.52    1423.58    5408.50   772.642857          7.0   \n",
       "12348.0        222.16     892.80    2019.40   403.880000          5.0   \n",
       "12349.0        200.00    1757.55    4428.69  1107.172500          4.0   \n",
       "12350.0        334.40     334.40     334.40   334.400000          1.0   \n",
       "...               ...        ...        ...          ...          ...   \n",
       "18283.0          1.95     313.65    2528.65   120.411905         21.0   \n",
       "18284.0        461.68     461.68     461.68   461.680000          1.0   \n",
       "18285.0        427.00     427.00     427.00   427.000000          1.0   \n",
       "18286.0        462.95     833.48    1296.43   648.215000          2.0   \n",
       "18287.0         30.60    1071.61    4182.99   597.570000          7.0   \n",
       "\n",
       "               invoicedate_min     invoicedate_max  \\\n",
       "CustomerID                                           \n",
       "12346.0    2009-12-14 08:34:00 2011-01-18 10:01:00   \n",
       "12347.0    2010-10-31 14:20:00 2011-10-31 12:25:00   \n",
       "12348.0    2010-09-27 14:59:00 2011-09-25 13:13:00   \n",
       "12349.0    2010-04-29 13:20:00 2011-11-21 09:51:00   \n",
       "12350.0    2011-02-02 16:01:00 2011-02-02 16:01:00   \n",
       "...                        ...                 ...   \n",
       "18283.0    2010-02-19 17:16:00 2011-11-30 12:59:00   \n",
       "18284.0    2010-10-04 11:33:00 2010-10-04 11:33:00   \n",
       "18285.0    2010-02-17 10:24:00 2010-02-17 10:24:00   \n",
       "18286.0    2009-12-16 10:45:00 2010-08-20 11:57:00   \n",
       "18287.0    2010-05-17 11:55:00 2011-10-28 09:29:00   \n",
       "\n",
       "            invoicedate_purchase_duration  invoicedate_purchase_frequency  \n",
       "CustomerID                                                                 \n",
       "12346.0                               400                       33.333333  \n",
       "12347.0                               364                       52.000000  \n",
       "12348.0                               362                       72.400000  \n",
       "12349.0                               570                      142.500000  \n",
       "12350.0                                 0                        0.000000  \n",
       "...                                   ...                             ...  \n",
       "18283.0                               648                       30.857143  \n",
       "18284.0                                 0                        0.000000  \n",
       "18285.0                                 0                        0.000000  \n",
       "18286.0                               247                      123.500000  \n",
       "18287.0                               528                       75.428571  \n",
       "\n",
       "[5850 rows x 9 columns]"
      ]
     },
     "execution_count": 50,
     "metadata": {},
     "output_type": "execute_result"
    }
   ],
   "source": [
    "df_summary"
   ]
  },
  {
   "cell_type": "code",
   "execution_count": 51,
   "metadata": {},
   "outputs": [],
   "source": [
    "df_summary = df_summary.loc[df_summary['invoicedate_purchase_duration'] > 0]"
   ]
  },
  {
   "cell_type": "code",
   "execution_count": 52,
   "metadata": {},
   "outputs": [
    {
     "data": {
      "text/plain": [
       "(4123, 9)"
      ]
     },
     "execution_count": 52,
     "metadata": {},
     "output_type": "execute_result"
    }
   ],
   "source": [
    "df_summary.shape"
   ]
  },
  {
   "cell_type": "code",
   "execution_count": 53,
   "metadata": {},
   "outputs": [
    {
     "data": {
      "image/png": "[encoded data removed]",
      "text/plain": [
       "<Figure size 720x576 with 1 Axes>"
      ]
     },
     "metadata": {
      "needs_background": "light"
     },
     "output_type": "display_data"
    }
   ],
   "source": [
    "# Let's look at the number of purchases\n",
    "ax = df_summary.groupby('sales_count').count()['sales_avg'][:20].plot(\n",
    "        kind='bar', \n",
    "        color='dodgerblue', \n",
    "        figsize=(10,8), \n",
    "        grid=False)\n",
    "plt.xlabel('Sales count', fontsize=14)\n",
    "plt.ylabel('Number of customers', fontsize=14)\n",
    "plt.title('Number of purchases made by repeat customers', fontsize=16);"
   ]
  },
  {
   "cell_type": "markdown",
   "metadata": {},
   "source": [
    "In our analysis, we consider repeat customers who made at least 2 purchases. As you can see, repeat customers tend to make about 12 purchases or less."
   ]
  },
  {
   "cell_type": "markdown",
   "metadata": {},
   "source": [
    "#### Average number of days between purchases "
   ]
  },
  {
   "cell_type": "code",
   "execution_count": 54,
   "metadata": {},
   "outputs": [
    {
     "data": {
      "image/png": "[encoded data removed]",
      "text/plain": [
       "<Figure size 720x576 with 1 Axes>"
      ]
     },
     "metadata": {
      "needs_background": "light"
     },
     "output_type": "display_data"
    }
   ],
   "source": [
    "ax = df_summary['invoicedate_purchase_frequency'].hist(\n",
    "        bins=20,\n",
    "        color='dodgerblue',\n",
    "        rwidth=0.7,\n",
    "        figsize=(10,8),\n",
    "        grid=False)\n",
    "plt.xlabel('Avearge number of days between purchases', fontsize=14)\n",
    "plt.ylabel('Number of customers', fontsize=14)\n",
    "plt.title('Frequency of purchases made by repeat customers', fontsize=16);"
   ]
  },
  {
   "cell_type": "markdown",
   "metadata": {},
   "source": [
    "As you can see from this plot, the majority of repeat customers tend to make a purchase every 12 to 50 days."
   ]
  },
  {
   "cell_type": "markdown",
   "metadata": {},
   "source": [
    "<a id='predictcltv'></a>\n",
    "## Predict 3-month CLTV"
   ]
  },
  {
   "cell_type": "markdown",
   "metadata": {},
   "source": [
    "We are going to build a model, which predicts CLTV for 3 months. First, let us slice the data into chunks with 3-month data each and take the last chunk as the target for predictions."
   ]
  },
  {
   "cell_type": "markdown",
   "metadata": {},
   "source": [
    "### Prepare data"
   ]
  },
  {
   "cell_type": "code",
   "execution_count": 55,
   "metadata": {},
   "outputs": [],
   "source": [
    "clv_freq = '3M'"
   ]
  },
  {
   "cell_type": "code",
   "execution_count": 56,
   "metadata": {},
   "outputs": [],
   "source": [
    "df_data = df_orders.reset_index().groupby([\n",
    "            'CustomerID',\n",
    "            pd.Grouper(key='InvoiceDate', freq=clv_freq)\n",
    "            ]).agg({'Sales': [sum, groupby_mean, groupby_count],})"
   ]
  },
  {
   "cell_type": "code",
   "execution_count": 57,
   "metadata": {},
   "outputs": [],
   "source": [
    "df_data.columns = ['_'.join(col).lower() for col in df_data.columns]"
   ]
  },
  {
   "cell_type": "code",
   "execution_count": 58,
   "metadata": {},
   "outputs": [],
   "source": [
    "df_data = df_data.reset_index()"
   ]
  },
  {
   "cell_type": "code",
   "execution_count": 59,
   "metadata": {},
   "outputs": [
    {
     "data": {
      "text/html": [
       "<div>\n",
       "<style scoped>\n",
       "    .dataframe tbody tr th:only-of-type {\n",
       "        vertical-align: middle;\n",
       "    }\n",
       "\n",
       "    .dataframe tbody tr th {\n",
       "        vertical-align: top;\n",
       "    }\n",
       "\n",
       "    .dataframe thead th {\n",
       "        text-align: right;\n",
       "    }\n",
       "</style>\n",
       "<table border=\"1\" class=\"dataframe\">\n",
       "  <thead>\n",
       "    <tr style=\"text-align: right;\">\n",
       "      <th></th>\n",
       "      <th>CustomerID</th>\n",
       "      <th>InvoiceDate</th>\n",
       "      <th>sales_sum</th>\n",
       "      <th>sales_avg</th>\n",
       "      <th>sales_count</th>\n",
       "    </tr>\n",
       "  </thead>\n",
       "  <tbody>\n",
       "    <tr>\n",
       "      <th>0</th>\n",
       "      <td>12346.0</td>\n",
       "      <td>2009-12-31</td>\n",
       "      <td>113.50</td>\n",
       "      <td>22.700</td>\n",
       "      <td>5.0</td>\n",
       "    </tr>\n",
       "    <tr>\n",
       "      <th>1</th>\n",
       "      <td>12346.0</td>\n",
       "      <td>2010-03-31</td>\n",
       "      <td>117.05</td>\n",
       "      <td>23.410</td>\n",
       "      <td>5.0</td>\n",
       "    </tr>\n",
       "    <tr>\n",
       "      <th>2</th>\n",
       "      <td>12346.0</td>\n",
       "      <td>2010-06-30</td>\n",
       "      <td>142.31</td>\n",
       "      <td>142.310</td>\n",
       "      <td>1.0</td>\n",
       "    </tr>\n",
       "    <tr>\n",
       "      <th>3</th>\n",
       "      <td>12346.0</td>\n",
       "      <td>2011-03-31</td>\n",
       "      <td>77183.60</td>\n",
       "      <td>77183.600</td>\n",
       "      <td>1.0</td>\n",
       "    </tr>\n",
       "    <tr>\n",
       "      <th>4</th>\n",
       "      <td>12347.0</td>\n",
       "      <td>2010-12-31</td>\n",
       "      <td>2035.11</td>\n",
       "      <td>1017.555</td>\n",
       "      <td>2.0</td>\n",
       "    </tr>\n",
       "  </tbody>\n",
       "</table>\n",
       "</div>"
      ],
      "text/plain": [
       "   CustomerID InvoiceDate  sales_sum  sales_avg  sales_count\n",
       "0     12346.0  2009-12-31     113.50     22.700          5.0\n",
       "1     12346.0  2010-03-31     117.05     23.410          5.0\n",
       "2     12346.0  2010-06-30     142.31    142.310          1.0\n",
       "3     12346.0  2011-03-31   77183.60  77183.600          1.0\n",
       "4     12347.0  2010-12-31    2035.11   1017.555          2.0"
      ]
     },
     "execution_count": 59,
     "metadata": {},
     "output_type": "execute_result"
    }
   ],
   "source": [
    "df_data.head()"
   ]
  },
  {
   "cell_type": "code",
   "execution_count": 60,
   "metadata": {},
   "outputs": [
    {
     "name": "stdout",
     "output_type": "stream",
     "text": [
      "<class 'pandas.core.frame.DataFrame'>\n",
      "RangeIndex: 17869 entries, 0 to 17868\n",
      "Data columns (total 5 columns):\n",
      " #   Column       Non-Null Count  Dtype         \n",
      "---  ------       --------------  -----         \n",
      " 0   CustomerID   17869 non-null  float64       \n",
      " 1   InvoiceDate  17869 non-null  datetime64[ns]\n",
      " 2   sales_sum    17869 non-null  float64       \n",
      " 3   sales_avg    17869 non-null  float64       \n",
      " 4   sales_count  17869 non-null  float64       \n",
      "dtypes: datetime64[ns](1), float64(4)\n",
      "memory usage: 698.1 KB\n"
     ]
    }
   ],
   "source": [
    "df_data.info()"
   ]
  },
  {
   "cell_type": "markdown",
   "metadata": {},
   "source": [
    "For further simplicity, let us encode *InvoiceDate* column and define in which month a purchase was made"
   ]
  },
  {
   "cell_type": "code",
   "execution_count": 61,
   "metadata": {},
   "outputs": [],
   "source": [
    "map_date_month = {str(x)[:10]: 'M_%s' % (i+1) for i, x in enumerate(\n",
    "                    sorted(df_data.reset_index()['InvoiceDate'].unique(), reverse=True))}"
   ]
  },
  {
   "cell_type": "code",
   "execution_count": 62,
   "metadata": {},
   "outputs": [
    {
     "data": {
      "text/plain": [
       "{'2011-12-31': 'M_1',\n",
       " '2011-09-30': 'M_2',\n",
       " '2011-06-30': 'M_3',\n",
       " '2011-03-31': 'M_4',\n",
       " '2010-12-31': 'M_5',\n",
       " '2010-09-30': 'M_6',\n",
       " '2010-06-30': 'M_7',\n",
       " '2010-03-31': 'M_8',\n",
       " '2009-12-31': 'M_9'}"
      ]
     },
     "execution_count": 62,
     "metadata": {},
     "output_type": "execute_result"
    }
   ],
   "source": [
    "map_date_month"
   ]
  },
  {
   "cell_type": "code",
   "execution_count": 63,
   "metadata": {},
   "outputs": [],
   "source": [
    "df_data['M'] = df_data['InvoiceDate'].apply(lambda x: map_date_month[str(x)[:10]])"
   ]
  },
  {
   "cell_type": "code",
   "execution_count": 64,
   "metadata": {},
   "outputs": [
    {
     "data": {
      "text/html": [
       "<div>\n",
       "<style scoped>\n",
       "    .dataframe tbody tr th:only-of-type {\n",
       "        vertical-align: middle;\n",
       "    }\n",
       "\n",
       "    .dataframe tbody tr th {\n",
       "        vertical-align: top;\n",
       "    }\n",
       "\n",
       "    .dataframe thead th {\n",
       "        text-align: right;\n",
       "    }\n",
       "</style>\n",
       "<table border=\"1\" class=\"dataframe\">\n",
       "  <thead>\n",
       "    <tr style=\"text-align: right;\">\n",
       "      <th></th>\n",
       "      <th>CustomerID</th>\n",
       "      <th>InvoiceDate</th>\n",
       "      <th>sales_sum</th>\n",
       "      <th>sales_avg</th>\n",
       "      <th>sales_count</th>\n",
       "      <th>M</th>\n",
       "    </tr>\n",
       "  </thead>\n",
       "  <tbody>\n",
       "    <tr>\n",
       "      <th>0</th>\n",
       "      <td>12346.0</td>\n",
       "      <td>2009-12-31</td>\n",
       "      <td>113.50</td>\n",
       "      <td>22.700</td>\n",
       "      <td>5.0</td>\n",
       "      <td>M_9</td>\n",
       "    </tr>\n",
       "    <tr>\n",
       "      <th>1</th>\n",
       "      <td>12346.0</td>\n",
       "      <td>2010-03-31</td>\n",
       "      <td>117.05</td>\n",
       "      <td>23.410</td>\n",
       "      <td>5.0</td>\n",
       "      <td>M_8</td>\n",
       "    </tr>\n",
       "    <tr>\n",
       "      <th>2</th>\n",
       "      <td>12346.0</td>\n",
       "      <td>2010-06-30</td>\n",
       "      <td>142.31</td>\n",
       "      <td>142.310</td>\n",
       "      <td>1.0</td>\n",
       "      <td>M_7</td>\n",
       "    </tr>\n",
       "    <tr>\n",
       "      <th>3</th>\n",
       "      <td>12346.0</td>\n",
       "      <td>2011-03-31</td>\n",
       "      <td>77183.60</td>\n",
       "      <td>77183.600</td>\n",
       "      <td>1.0</td>\n",
       "      <td>M_4</td>\n",
       "    </tr>\n",
       "    <tr>\n",
       "      <th>4</th>\n",
       "      <td>12347.0</td>\n",
       "      <td>2010-12-31</td>\n",
       "      <td>2035.11</td>\n",
       "      <td>1017.555</td>\n",
       "      <td>2.0</td>\n",
       "      <td>M_5</td>\n",
       "    </tr>\n",
       "  </tbody>\n",
       "</table>\n",
       "</div>"
      ],
      "text/plain": [
       "   CustomerID InvoiceDate  sales_sum  sales_avg  sales_count    M\n",
       "0     12346.0  2009-12-31     113.50     22.700          5.0  M_9\n",
       "1     12346.0  2010-03-31     117.05     23.410          5.0  M_8\n",
       "2     12346.0  2010-06-30     142.31    142.310          1.0  M_7\n",
       "3     12346.0  2011-03-31   77183.60  77183.600          1.0  M_4\n",
       "4     12347.0  2010-12-31    2035.11   1017.555          2.0  M_5"
      ]
     },
     "execution_count": 64,
     "metadata": {},
     "output_type": "execute_result"
    }
   ],
   "source": [
    "df_data.head()"
   ]
  },
  {
   "cell_type": "code",
   "execution_count": 65,
   "metadata": {},
   "outputs": [
    {
     "data": {
      "text/plain": [
       "M_5    2670\n",
       "M_1    2406\n",
       "M_2    2161\n",
       "M_6    2060\n",
       "M_7    2047\n",
       "M_3    1991\n",
       "M_8    1803\n",
       "M_4    1776\n",
       "M_9     955\n",
       "Name: M, dtype: int64"
      ]
     },
     "execution_count": 65,
     "metadata": {},
     "output_type": "execute_result"
    }
   ],
   "source": [
    "# Number of purchases made in each chunk\n",
    "df_data['M'].value_counts()"
   ]
  },
  {
   "cell_type": "markdown",
   "metadata": {},
   "source": [
    "We marked data with a chunk/time period it belongs to. Now, let us create a set with features and target variables. In order to train a model, we have to transfrom the data into tabular data, where each row represent a costomer and each column represent a feature."
   ]
  },
  {
   "cell_type": "code",
   "execution_count": 66,
   "metadata": {},
   "outputs": [],
   "source": [
    "df_features = pd.pivot_table(\n",
    "                df_data.loc[df_data['M'] != 'M_1'], \n",
    "                values=['sales_sum', 'sales_avg', 'sales_count'], \n",
    "                columns='M', \n",
    "                index='CustomerID')"
   ]
  },
  {
   "cell_type": "code",
   "execution_count": 67,
   "metadata": {},
   "outputs": [
    {
     "data": {
      "text/html": [
       "<div>\n",
       "<style scoped>\n",
       "    .dataframe tbody tr th:only-of-type {\n",
       "        vertical-align: middle;\n",
       "    }\n",
       "\n",
       "    .dataframe tbody tr th {\n",
       "        vertical-align: top;\n",
       "    }\n",
       "\n",
       "    .dataframe thead tr th {\n",
       "        text-align: left;\n",
       "    }\n",
       "</style>\n",
       "<table border=\"1\" class=\"dataframe\">\n",
       "  <thead>\n",
       "    <tr>\n",
       "      <th></th>\n",
       "      <th>CustomerID</th>\n",
       "      <th colspan=\"8\" halign=\"left\">sales_avg</th>\n",
       "      <th colspan=\"4\" halign=\"left\">sales_count</th>\n",
       "      <th colspan=\"8\" halign=\"left\">sales_sum</th>\n",
       "    </tr>\n",
       "    <tr>\n",
       "      <th>M</th>\n",
       "      <th></th>\n",
       "      <th>M_2</th>\n",
       "      <th>M_3</th>\n",
       "      <th>M_4</th>\n",
       "      <th>M_5</th>\n",
       "      <th>M_6</th>\n",
       "      <th>M_7</th>\n",
       "      <th>M_8</th>\n",
       "      <th>M_9</th>\n",
       "      <th>M_2</th>\n",
       "      <th>...</th>\n",
       "      <th>M_8</th>\n",
       "      <th>M_9</th>\n",
       "      <th>M_2</th>\n",
       "      <th>M_3</th>\n",
       "      <th>M_4</th>\n",
       "      <th>M_5</th>\n",
       "      <th>M_6</th>\n",
       "      <th>M_7</th>\n",
       "      <th>M_8</th>\n",
       "      <th>M_9</th>\n",
       "    </tr>\n",
       "  </thead>\n",
       "  <tbody>\n",
       "    <tr>\n",
       "      <th>0</th>\n",
       "      <td>12346.0</td>\n",
       "      <td>NaN</td>\n",
       "      <td>NaN</td>\n",
       "      <td>77183.600000</td>\n",
       "      <td>NaN</td>\n",
       "      <td>NaN</td>\n",
       "      <td>142.31</td>\n",
       "      <td>23.41</td>\n",
       "      <td>22.70</td>\n",
       "      <td>NaN</td>\n",
       "      <td>...</td>\n",
       "      <td>5.0</td>\n",
       "      <td>5.0</td>\n",
       "      <td>NaN</td>\n",
       "      <td>NaN</td>\n",
       "      <td>77183.60</td>\n",
       "      <td>NaN</td>\n",
       "      <td>NaN</td>\n",
       "      <td>142.31</td>\n",
       "      <td>117.05</td>\n",
       "      <td>113.50</td>\n",
       "    </tr>\n",
       "    <tr>\n",
       "      <th>1</th>\n",
       "      <td>12347.0</td>\n",
       "      <td>584.910000</td>\n",
       "      <td>509.385</td>\n",
       "      <td>475.390000</td>\n",
       "      <td>1017.555</td>\n",
       "      <td>NaN</td>\n",
       "      <td>NaN</td>\n",
       "      <td>NaN</td>\n",
       "      <td>NaN</td>\n",
       "      <td>1.0</td>\n",
       "      <td>...</td>\n",
       "      <td>NaN</td>\n",
       "      <td>NaN</td>\n",
       "      <td>584.91</td>\n",
       "      <td>1018.77</td>\n",
       "      <td>475.39</td>\n",
       "      <td>2035.11</td>\n",
       "      <td>NaN</td>\n",
       "      <td>NaN</td>\n",
       "      <td>NaN</td>\n",
       "      <td>NaN</td>\n",
       "    </tr>\n",
       "    <tr>\n",
       "      <th>2</th>\n",
       "      <td>12348.0</td>\n",
       "      <td>310.000000</td>\n",
       "      <td>367.000</td>\n",
       "      <td>227.440000</td>\n",
       "      <td>892.800</td>\n",
       "      <td>222.16</td>\n",
       "      <td>NaN</td>\n",
       "      <td>NaN</td>\n",
       "      <td>NaN</td>\n",
       "      <td>1.0</td>\n",
       "      <td>...</td>\n",
       "      <td>NaN</td>\n",
       "      <td>NaN</td>\n",
       "      <td>310.00</td>\n",
       "      <td>367.00</td>\n",
       "      <td>227.44</td>\n",
       "      <td>892.80</td>\n",
       "      <td>222.16</td>\n",
       "      <td>NaN</td>\n",
       "      <td>NaN</td>\n",
       "      <td>NaN</td>\n",
       "    </tr>\n",
       "    <tr>\n",
       "      <th>3</th>\n",
       "      <td>12349.0</td>\n",
       "      <td>NaN</td>\n",
       "      <td>NaN</td>\n",
       "      <td>NaN</td>\n",
       "      <td>1402.620</td>\n",
       "      <td>NaN</td>\n",
       "      <td>634.26</td>\n",
       "      <td>NaN</td>\n",
       "      <td>NaN</td>\n",
       "      <td>NaN</td>\n",
       "      <td>...</td>\n",
       "      <td>NaN</td>\n",
       "      <td>NaN</td>\n",
       "      <td>NaN</td>\n",
       "      <td>NaN</td>\n",
       "      <td>NaN</td>\n",
       "      <td>1402.62</td>\n",
       "      <td>NaN</td>\n",
       "      <td>1268.52</td>\n",
       "      <td>NaN</td>\n",
       "      <td>NaN</td>\n",
       "    </tr>\n",
       "    <tr>\n",
       "      <th>4</th>\n",
       "      <td>12350.0</td>\n",
       "      <td>NaN</td>\n",
       "      <td>NaN</td>\n",
       "      <td>334.400000</td>\n",
       "      <td>NaN</td>\n",
       "      <td>NaN</td>\n",
       "      <td>NaN</td>\n",
       "      <td>NaN</td>\n",
       "      <td>NaN</td>\n",
       "      <td>NaN</td>\n",
       "      <td>...</td>\n",
       "      <td>NaN</td>\n",
       "      <td>NaN</td>\n",
       "      <td>NaN</td>\n",
       "      <td>NaN</td>\n",
       "      <td>334.40</td>\n",
       "      <td>NaN</td>\n",
       "      <td>NaN</td>\n",
       "      <td>NaN</td>\n",
       "      <td>NaN</td>\n",
       "      <td>NaN</td>\n",
       "    </tr>\n",
       "    <tr>\n",
       "      <th>...</th>\n",
       "      <td>...</td>\n",
       "      <td>...</td>\n",
       "      <td>...</td>\n",
       "      <td>...</td>\n",
       "      <td>...</td>\n",
       "      <td>...</td>\n",
       "      <td>...</td>\n",
       "      <td>...</td>\n",
       "      <td>...</td>\n",
       "      <td>...</td>\n",
       "      <td>...</td>\n",
       "      <td>...</td>\n",
       "      <td>...</td>\n",
       "      <td>...</td>\n",
       "      <td>...</td>\n",
       "      <td>...</td>\n",
       "      <td>...</td>\n",
       "      <td>...</td>\n",
       "      <td>...</td>\n",
       "      <td>...</td>\n",
       "      <td>...</td>\n",
       "    </tr>\n",
       "    <tr>\n",
       "      <th>5433</th>\n",
       "      <td>18283.0</td>\n",
       "      <td>92.696667</td>\n",
       "      <td>131.170</td>\n",
       "      <td>105.966667</td>\n",
       "      <td>97.675</td>\n",
       "      <td>92.00</td>\n",
       "      <td>NaN</td>\n",
       "      <td>118.14</td>\n",
       "      <td>NaN</td>\n",
       "      <td>3.0</td>\n",
       "      <td>...</td>\n",
       "      <td>3.0</td>\n",
       "      <td>NaN</td>\n",
       "      <td>278.09</td>\n",
       "      <td>524.68</td>\n",
       "      <td>317.90</td>\n",
       "      <td>195.35</td>\n",
       "      <td>92.00</td>\n",
       "      <td>NaN</td>\n",
       "      <td>354.42</td>\n",
       "      <td>NaN</td>\n",
       "    </tr>\n",
       "    <tr>\n",
       "      <th>5434</th>\n",
       "      <td>18284.0</td>\n",
       "      <td>NaN</td>\n",
       "      <td>NaN</td>\n",
       "      <td>NaN</td>\n",
       "      <td>461.680</td>\n",
       "      <td>NaN</td>\n",
       "      <td>NaN</td>\n",
       "      <td>NaN</td>\n",
       "      <td>NaN</td>\n",
       "      <td>NaN</td>\n",
       "      <td>...</td>\n",
       "      <td>NaN</td>\n",
       "      <td>NaN</td>\n",
       "      <td>NaN</td>\n",
       "      <td>NaN</td>\n",
       "      <td>NaN</td>\n",
       "      <td>461.68</td>\n",
       "      <td>NaN</td>\n",
       "      <td>NaN</td>\n",
       "      <td>NaN</td>\n",
       "      <td>NaN</td>\n",
       "    </tr>\n",
       "    <tr>\n",
       "      <th>5435</th>\n",
       "      <td>18285.0</td>\n",
       "      <td>NaN</td>\n",
       "      <td>NaN</td>\n",
       "      <td>NaN</td>\n",
       "      <td>NaN</td>\n",
       "      <td>NaN</td>\n",
       "      <td>NaN</td>\n",
       "      <td>427.00</td>\n",
       "      <td>NaN</td>\n",
       "      <td>NaN</td>\n",
       "      <td>...</td>\n",
       "      <td>1.0</td>\n",
       "      <td>NaN</td>\n",
       "      <td>NaN</td>\n",
       "      <td>NaN</td>\n",
       "      <td>NaN</td>\n",
       "      <td>NaN</td>\n",
       "      <td>NaN</td>\n",
       "      <td>NaN</td>\n",
       "      <td>427.00</td>\n",
       "      <td>NaN</td>\n",
       "    </tr>\n",
       "    <tr>\n",
       "      <th>5436</th>\n",
       "      <td>18286.0</td>\n",
       "      <td>NaN</td>\n",
       "      <td>NaN</td>\n",
       "      <td>NaN</td>\n",
       "      <td>NaN</td>\n",
       "      <td>833.48</td>\n",
       "      <td>NaN</td>\n",
       "      <td>NaN</td>\n",
       "      <td>462.95</td>\n",
       "      <td>NaN</td>\n",
       "      <td>...</td>\n",
       "      <td>NaN</td>\n",
       "      <td>1.0</td>\n",
       "      <td>NaN</td>\n",
       "      <td>NaN</td>\n",
       "      <td>NaN</td>\n",
       "      <td>NaN</td>\n",
       "      <td>833.48</td>\n",
       "      <td>NaN</td>\n",
       "      <td>NaN</td>\n",
       "      <td>462.95</td>\n",
       "    </tr>\n",
       "    <tr>\n",
       "      <th>5437</th>\n",
       "      <td>18287.0</td>\n",
       "      <td>NaN</td>\n",
       "      <td>765.280</td>\n",
       "      <td>NaN</td>\n",
       "      <td>381.500</td>\n",
       "      <td>446.30</td>\n",
       "      <td>1071.61</td>\n",
       "      <td>NaN</td>\n",
       "      <td>NaN</td>\n",
       "      <td>NaN</td>\n",
       "      <td>...</td>\n",
       "      <td>NaN</td>\n",
       "      <td>NaN</td>\n",
       "      <td>NaN</td>\n",
       "      <td>765.28</td>\n",
       "      <td>NaN</td>\n",
       "      <td>381.50</td>\n",
       "      <td>892.60</td>\n",
       "      <td>1071.61</td>\n",
       "      <td>NaN</td>\n",
       "      <td>NaN</td>\n",
       "    </tr>\n",
       "  </tbody>\n",
       "</table>\n",
       "<p>5438 rows × 25 columns</p>\n",
       "</div>"
      ],
      "text/plain": [
       "     CustomerID   sales_avg                                                    \\\n",
       "M                       M_2      M_3           M_4       M_5     M_6      M_7   \n",
       "0       12346.0         NaN      NaN  77183.600000       NaN     NaN   142.31   \n",
       "1       12347.0  584.910000  509.385    475.390000  1017.555     NaN      NaN   \n",
       "2       12348.0  310.000000  367.000    227.440000   892.800  222.16      NaN   \n",
       "3       12349.0         NaN      NaN           NaN  1402.620     NaN   634.26   \n",
       "4       12350.0         NaN      NaN    334.400000       NaN     NaN      NaN   \n",
       "...         ...         ...      ...           ...       ...     ...      ...   \n",
       "5433    18283.0   92.696667  131.170    105.966667    97.675   92.00      NaN   \n",
       "5434    18284.0         NaN      NaN           NaN   461.680     NaN      NaN   \n",
       "5435    18285.0         NaN      NaN           NaN       NaN     NaN      NaN   \n",
       "5436    18286.0         NaN      NaN           NaN       NaN  833.48      NaN   \n",
       "5437    18287.0         NaN  765.280           NaN   381.500  446.30  1071.61   \n",
       "\n",
       "                     sales_count  ...           sales_sum                     \\\n",
       "M        M_8     M_9         M_2  ...  M_8  M_9       M_2      M_3       M_4   \n",
       "0      23.41   22.70         NaN  ...  5.0  5.0       NaN      NaN  77183.60   \n",
       "1        NaN     NaN         1.0  ...  NaN  NaN    584.91  1018.77    475.39   \n",
       "2        NaN     NaN         1.0  ...  NaN  NaN    310.00   367.00    227.44   \n",
       "3        NaN     NaN         NaN  ...  NaN  NaN       NaN      NaN       NaN   \n",
       "4        NaN     NaN         NaN  ...  NaN  NaN       NaN      NaN    334.40   \n",
       "...      ...     ...         ...  ...  ...  ...       ...      ...       ...   \n",
       "5433  118.14     NaN         3.0  ...  3.0  NaN    278.09   524.68    317.90   \n",
       "5434     NaN     NaN         NaN  ...  NaN  NaN       NaN      NaN       NaN   \n",
       "5435  427.00     NaN         NaN  ...  1.0  NaN       NaN      NaN       NaN   \n",
       "5436     NaN  462.95         NaN  ...  NaN  1.0       NaN      NaN       NaN   \n",
       "5437     NaN     NaN         NaN  ...  NaN  NaN       NaN   765.28       NaN   \n",
       "\n",
       "                                                \n",
       "M         M_5     M_6      M_7     M_8     M_9  \n",
       "0         NaN     NaN   142.31  117.05  113.50  \n",
       "1     2035.11     NaN      NaN     NaN     NaN  \n",
       "2      892.80  222.16      NaN     NaN     NaN  \n",
       "3     1402.62     NaN  1268.52     NaN     NaN  \n",
       "4         NaN     NaN      NaN     NaN     NaN  \n",
       "...       ...     ...      ...     ...     ...  \n",
       "5433   195.35   92.00      NaN  354.42     NaN  \n",
       "5434   461.68     NaN      NaN     NaN     NaN  \n",
       "5435      NaN     NaN      NaN  427.00     NaN  \n",
       "5436      NaN  833.48      NaN     NaN  462.95  \n",
       "5437   381.50  892.60  1071.61     NaN     NaN  \n",
       "\n",
       "[5438 rows x 25 columns]"
      ]
     },
     "execution_count": 67,
     "metadata": {},
     "output_type": "execute_result"
    }
   ],
   "source": [
    "df_features.reset_index()"
   ]
  },
  {
   "cell_type": "code",
   "execution_count": 68,
   "metadata": {},
   "outputs": [],
   "source": [
    "df_features.columns = ['_'.join(col) for col in df_features.columns]"
   ]
  },
  {
   "cell_type": "code",
   "execution_count": 69,
   "metadata": {},
   "outputs": [
    {
     "data": {
      "text/html": [
       "<div>\n",
       "<style scoped>\n",
       "    .dataframe tbody tr th:only-of-type {\n",
       "        vertical-align: middle;\n",
       "    }\n",
       "\n",
       "    .dataframe tbody tr th {\n",
       "        vertical-align: top;\n",
       "    }\n",
       "\n",
       "    .dataframe thead th {\n",
       "        text-align: right;\n",
       "    }\n",
       "</style>\n",
       "<table border=\"1\" class=\"dataframe\">\n",
       "  <thead>\n",
       "    <tr style=\"text-align: right;\">\n",
       "      <th></th>\n",
       "      <th>sales_avg_M_2</th>\n",
       "      <th>sales_avg_M_3</th>\n",
       "      <th>sales_avg_M_4</th>\n",
       "      <th>sales_avg_M_5</th>\n",
       "      <th>sales_avg_M_6</th>\n",
       "      <th>sales_avg_M_7</th>\n",
       "      <th>sales_avg_M_8</th>\n",
       "      <th>sales_avg_M_9</th>\n",
       "      <th>sales_count_M_2</th>\n",
       "      <th>sales_count_M_3</th>\n",
       "      <th>...</th>\n",
       "      <th>sales_count_M_8</th>\n",
       "      <th>sales_count_M_9</th>\n",
       "      <th>sales_sum_M_2</th>\n",
       "      <th>sales_sum_M_3</th>\n",
       "      <th>sales_sum_M_4</th>\n",
       "      <th>sales_sum_M_5</th>\n",
       "      <th>sales_sum_M_6</th>\n",
       "      <th>sales_sum_M_7</th>\n",
       "      <th>sales_sum_M_8</th>\n",
       "      <th>sales_sum_M_9</th>\n",
       "    </tr>\n",
       "    <tr>\n",
       "      <th>CustomerID</th>\n",
       "      <th></th>\n",
       "      <th></th>\n",
       "      <th></th>\n",
       "      <th></th>\n",
       "      <th></th>\n",
       "      <th></th>\n",
       "      <th></th>\n",
       "      <th></th>\n",
       "      <th></th>\n",
       "      <th></th>\n",
       "      <th></th>\n",
       "      <th></th>\n",
       "      <th></th>\n",
       "      <th></th>\n",
       "      <th></th>\n",
       "      <th></th>\n",
       "      <th></th>\n",
       "      <th></th>\n",
       "      <th></th>\n",
       "      <th></th>\n",
       "      <th></th>\n",
       "    </tr>\n",
       "  </thead>\n",
       "  <tbody>\n",
       "    <tr>\n",
       "      <th>12346.0</th>\n",
       "      <td>NaN</td>\n",
       "      <td>NaN</td>\n",
       "      <td>77183.60</td>\n",
       "      <td>NaN</td>\n",
       "      <td>NaN</td>\n",
       "      <td>142.31</td>\n",
       "      <td>23.41</td>\n",
       "      <td>22.7</td>\n",
       "      <td>NaN</td>\n",
       "      <td>NaN</td>\n",
       "      <td>...</td>\n",
       "      <td>5.0</td>\n",
       "      <td>5.0</td>\n",
       "      <td>NaN</td>\n",
       "      <td>NaN</td>\n",
       "      <td>77183.60</td>\n",
       "      <td>NaN</td>\n",
       "      <td>NaN</td>\n",
       "      <td>142.31</td>\n",
       "      <td>117.05</td>\n",
       "      <td>113.5</td>\n",
       "    </tr>\n",
       "    <tr>\n",
       "      <th>12347.0</th>\n",
       "      <td>584.91</td>\n",
       "      <td>509.385</td>\n",
       "      <td>475.39</td>\n",
       "      <td>1017.555</td>\n",
       "      <td>NaN</td>\n",
       "      <td>NaN</td>\n",
       "      <td>NaN</td>\n",
       "      <td>NaN</td>\n",
       "      <td>1.0</td>\n",
       "      <td>2.0</td>\n",
       "      <td>...</td>\n",
       "      <td>NaN</td>\n",
       "      <td>NaN</td>\n",
       "      <td>584.91</td>\n",
       "      <td>1018.77</td>\n",
       "      <td>475.39</td>\n",
       "      <td>2035.11</td>\n",
       "      <td>NaN</td>\n",
       "      <td>NaN</td>\n",
       "      <td>NaN</td>\n",
       "      <td>NaN</td>\n",
       "    </tr>\n",
       "    <tr>\n",
       "      <th>12348.0</th>\n",
       "      <td>310.00</td>\n",
       "      <td>367.000</td>\n",
       "      <td>227.44</td>\n",
       "      <td>892.800</td>\n",
       "      <td>222.16</td>\n",
       "      <td>NaN</td>\n",
       "      <td>NaN</td>\n",
       "      <td>NaN</td>\n",
       "      <td>1.0</td>\n",
       "      <td>1.0</td>\n",
       "      <td>...</td>\n",
       "      <td>NaN</td>\n",
       "      <td>NaN</td>\n",
       "      <td>310.00</td>\n",
       "      <td>367.00</td>\n",
       "      <td>227.44</td>\n",
       "      <td>892.80</td>\n",
       "      <td>222.16</td>\n",
       "      <td>NaN</td>\n",
       "      <td>NaN</td>\n",
       "      <td>NaN</td>\n",
       "    </tr>\n",
       "    <tr>\n",
       "      <th>12349.0</th>\n",
       "      <td>NaN</td>\n",
       "      <td>NaN</td>\n",
       "      <td>NaN</td>\n",
       "      <td>1402.620</td>\n",
       "      <td>NaN</td>\n",
       "      <td>634.26</td>\n",
       "      <td>NaN</td>\n",
       "      <td>NaN</td>\n",
       "      <td>NaN</td>\n",
       "      <td>NaN</td>\n",
       "      <td>...</td>\n",
       "      <td>NaN</td>\n",
       "      <td>NaN</td>\n",
       "      <td>NaN</td>\n",
       "      <td>NaN</td>\n",
       "      <td>NaN</td>\n",
       "      <td>1402.62</td>\n",
       "      <td>NaN</td>\n",
       "      <td>1268.52</td>\n",
       "      <td>NaN</td>\n",
       "      <td>NaN</td>\n",
       "    </tr>\n",
       "    <tr>\n",
       "      <th>12350.0</th>\n",
       "      <td>NaN</td>\n",
       "      <td>NaN</td>\n",
       "      <td>334.40</td>\n",
       "      <td>NaN</td>\n",
       "      <td>NaN</td>\n",
       "      <td>NaN</td>\n",
       "      <td>NaN</td>\n",
       "      <td>NaN</td>\n",
       "      <td>NaN</td>\n",
       "      <td>NaN</td>\n",
       "      <td>...</td>\n",
       "      <td>NaN</td>\n",
       "      <td>NaN</td>\n",
       "      <td>NaN</td>\n",
       "      <td>NaN</td>\n",
       "      <td>334.40</td>\n",
       "      <td>NaN</td>\n",
       "      <td>NaN</td>\n",
       "      <td>NaN</td>\n",
       "      <td>NaN</td>\n",
       "      <td>NaN</td>\n",
       "    </tr>\n",
       "  </tbody>\n",
       "</table>\n",
       "<p>5 rows × 24 columns</p>\n",
       "</div>"
      ],
      "text/plain": [
       "            sales_avg_M_2  sales_avg_M_3  sales_avg_M_4  sales_avg_M_5  \\\n",
       "CustomerID                                                               \n",
       "12346.0               NaN            NaN       77183.60            NaN   \n",
       "12347.0            584.91        509.385         475.39       1017.555   \n",
       "12348.0            310.00        367.000         227.44        892.800   \n",
       "12349.0               NaN            NaN            NaN       1402.620   \n",
       "12350.0               NaN            NaN         334.40            NaN   \n",
       "\n",
       "            sales_avg_M_6  sales_avg_M_7  sales_avg_M_8  sales_avg_M_9  \\\n",
       "CustomerID                                                               \n",
       "12346.0               NaN         142.31          23.41           22.7   \n",
       "12347.0               NaN            NaN            NaN            NaN   \n",
       "12348.0            222.16            NaN            NaN            NaN   \n",
       "12349.0               NaN         634.26            NaN            NaN   \n",
       "12350.0               NaN            NaN            NaN            NaN   \n",
       "\n",
       "            sales_count_M_2  sales_count_M_3  ...  sales_count_M_8  \\\n",
       "CustomerID                                    ...                    \n",
       "12346.0                 NaN              NaN  ...              5.0   \n",
       "12347.0                 1.0              2.0  ...              NaN   \n",
       "12348.0                 1.0              1.0  ...              NaN   \n",
       "12349.0                 NaN              NaN  ...              NaN   \n",
       "12350.0                 NaN              NaN  ...              NaN   \n",
       "\n",
       "            sales_count_M_9  sales_sum_M_2  sales_sum_M_3  sales_sum_M_4  \\\n",
       "CustomerID                                                                 \n",
       "12346.0                 5.0            NaN            NaN       77183.60   \n",
       "12347.0                 NaN         584.91        1018.77         475.39   \n",
       "12348.0                 NaN         310.00         367.00         227.44   \n",
       "12349.0                 NaN            NaN            NaN            NaN   \n",
       "12350.0                 NaN            NaN            NaN         334.40   \n",
       "\n",
       "            sales_sum_M_5  sales_sum_M_6  sales_sum_M_7  sales_sum_M_8  \\\n",
       "CustomerID                                                               \n",
       "12346.0               NaN            NaN         142.31         117.05   \n",
       "12347.0           2035.11            NaN            NaN            NaN   \n",
       "12348.0            892.80         222.16            NaN            NaN   \n",
       "12349.0           1402.62            NaN        1268.52            NaN   \n",
       "12350.0               NaN            NaN            NaN            NaN   \n",
       "\n",
       "            sales_sum_M_9  \n",
       "CustomerID                 \n",
       "12346.0             113.5  \n",
       "12347.0               NaN  \n",
       "12348.0               NaN  \n",
       "12349.0               NaN  \n",
       "12350.0               NaN  \n",
       "\n",
       "[5 rows x 24 columns]"
      ]
     },
     "execution_count": 69,
     "metadata": {},
     "output_type": "execute_result"
    }
   ],
   "source": [
    "df_features.head()"
   ]
  },
  {
   "cell_type": "code",
   "execution_count": 70,
   "metadata": {},
   "outputs": [],
   "source": [
    "df_features.reset_index(level=0, inplace=True)"
   ]
  },
  {
   "cell_type": "code",
   "execution_count": 71,
   "metadata": {},
   "outputs": [
    {
     "data": {
      "text/html": [
       "<div>\n",
       "<style scoped>\n",
       "    .dataframe tbody tr th:only-of-type {\n",
       "        vertical-align: middle;\n",
       "    }\n",
       "\n",
       "    .dataframe tbody tr th {\n",
       "        vertical-align: top;\n",
       "    }\n",
       "\n",
       "    .dataframe thead th {\n",
       "        text-align: right;\n",
       "    }\n",
       "</style>\n",
       "<table border=\"1\" class=\"dataframe\">\n",
       "  <thead>\n",
       "    <tr style=\"text-align: right;\">\n",
       "      <th></th>\n",
       "      <th>CustomerID</th>\n",
       "      <th>sales_avg_M_2</th>\n",
       "      <th>sales_avg_M_3</th>\n",
       "      <th>sales_avg_M_4</th>\n",
       "      <th>sales_avg_M_5</th>\n",
       "      <th>sales_avg_M_6</th>\n",
       "      <th>sales_avg_M_7</th>\n",
       "      <th>sales_avg_M_8</th>\n",
       "      <th>sales_avg_M_9</th>\n",
       "      <th>sales_count_M_2</th>\n",
       "      <th>...</th>\n",
       "      <th>sales_count_M_8</th>\n",
       "      <th>sales_count_M_9</th>\n",
       "      <th>sales_sum_M_2</th>\n",
       "      <th>sales_sum_M_3</th>\n",
       "      <th>sales_sum_M_4</th>\n",
       "      <th>sales_sum_M_5</th>\n",
       "      <th>sales_sum_M_6</th>\n",
       "      <th>sales_sum_M_7</th>\n",
       "      <th>sales_sum_M_8</th>\n",
       "      <th>sales_sum_M_9</th>\n",
       "    </tr>\n",
       "  </thead>\n",
       "  <tbody>\n",
       "    <tr>\n",
       "      <th>0</th>\n",
       "      <td>12346.0</td>\n",
       "      <td>NaN</td>\n",
       "      <td>NaN</td>\n",
       "      <td>77183.60</td>\n",
       "      <td>NaN</td>\n",
       "      <td>NaN</td>\n",
       "      <td>142.31</td>\n",
       "      <td>23.41</td>\n",
       "      <td>22.7</td>\n",
       "      <td>NaN</td>\n",
       "      <td>...</td>\n",
       "      <td>5.0</td>\n",
       "      <td>5.0</td>\n",
       "      <td>NaN</td>\n",
       "      <td>NaN</td>\n",
       "      <td>77183.60</td>\n",
       "      <td>NaN</td>\n",
       "      <td>NaN</td>\n",
       "      <td>142.31</td>\n",
       "      <td>117.05</td>\n",
       "      <td>113.5</td>\n",
       "    </tr>\n",
       "    <tr>\n",
       "      <th>1</th>\n",
       "      <td>12347.0</td>\n",
       "      <td>584.91</td>\n",
       "      <td>509.385</td>\n",
       "      <td>475.39</td>\n",
       "      <td>1017.555</td>\n",
       "      <td>NaN</td>\n",
       "      <td>NaN</td>\n",
       "      <td>NaN</td>\n",
       "      <td>NaN</td>\n",
       "      <td>1.0</td>\n",
       "      <td>...</td>\n",
       "      <td>NaN</td>\n",
       "      <td>NaN</td>\n",
       "      <td>584.91</td>\n",
       "      <td>1018.77</td>\n",
       "      <td>475.39</td>\n",
       "      <td>2035.11</td>\n",
       "      <td>NaN</td>\n",
       "      <td>NaN</td>\n",
       "      <td>NaN</td>\n",
       "      <td>NaN</td>\n",
       "    </tr>\n",
       "    <tr>\n",
       "      <th>2</th>\n",
       "      <td>12348.0</td>\n",
       "      <td>310.00</td>\n",
       "      <td>367.000</td>\n",
       "      <td>227.44</td>\n",
       "      <td>892.800</td>\n",
       "      <td>222.16</td>\n",
       "      <td>NaN</td>\n",
       "      <td>NaN</td>\n",
       "      <td>NaN</td>\n",
       "      <td>1.0</td>\n",
       "      <td>...</td>\n",
       "      <td>NaN</td>\n",
       "      <td>NaN</td>\n",
       "      <td>310.00</td>\n",
       "      <td>367.00</td>\n",
       "      <td>227.44</td>\n",
       "      <td>892.80</td>\n",
       "      <td>222.16</td>\n",
       "      <td>NaN</td>\n",
       "      <td>NaN</td>\n",
       "      <td>NaN</td>\n",
       "    </tr>\n",
       "    <tr>\n",
       "      <th>3</th>\n",
       "      <td>12349.0</td>\n",
       "      <td>NaN</td>\n",
       "      <td>NaN</td>\n",
       "      <td>NaN</td>\n",
       "      <td>1402.620</td>\n",
       "      <td>NaN</td>\n",
       "      <td>634.26</td>\n",
       "      <td>NaN</td>\n",
       "      <td>NaN</td>\n",
       "      <td>NaN</td>\n",
       "      <td>...</td>\n",
       "      <td>NaN</td>\n",
       "      <td>NaN</td>\n",
       "      <td>NaN</td>\n",
       "      <td>NaN</td>\n",
       "      <td>NaN</td>\n",
       "      <td>1402.62</td>\n",
       "      <td>NaN</td>\n",
       "      <td>1268.52</td>\n",
       "      <td>NaN</td>\n",
       "      <td>NaN</td>\n",
       "    </tr>\n",
       "    <tr>\n",
       "      <th>4</th>\n",
       "      <td>12350.0</td>\n",
       "      <td>NaN</td>\n",
       "      <td>NaN</td>\n",
       "      <td>334.40</td>\n",
       "      <td>NaN</td>\n",
       "      <td>NaN</td>\n",
       "      <td>NaN</td>\n",
       "      <td>NaN</td>\n",
       "      <td>NaN</td>\n",
       "      <td>NaN</td>\n",
       "      <td>...</td>\n",
       "      <td>NaN</td>\n",
       "      <td>NaN</td>\n",
       "      <td>NaN</td>\n",
       "      <td>NaN</td>\n",
       "      <td>334.40</td>\n",
       "      <td>NaN</td>\n",
       "      <td>NaN</td>\n",
       "      <td>NaN</td>\n",
       "      <td>NaN</td>\n",
       "      <td>NaN</td>\n",
       "    </tr>\n",
       "  </tbody>\n",
       "</table>\n",
       "<p>5 rows × 25 columns</p>\n",
       "</div>"
      ],
      "text/plain": [
       "   CustomerID  sales_avg_M_2  sales_avg_M_3  sales_avg_M_4  sales_avg_M_5  \\\n",
       "0     12346.0            NaN            NaN       77183.60            NaN   \n",
       "1     12347.0         584.91        509.385         475.39       1017.555   \n",
       "2     12348.0         310.00        367.000         227.44        892.800   \n",
       "3     12349.0            NaN            NaN            NaN       1402.620   \n",
       "4     12350.0            NaN            NaN         334.40            NaN   \n",
       "\n",
       "   sales_avg_M_6  sales_avg_M_7  sales_avg_M_8  sales_avg_M_9  \\\n",
       "0            NaN         142.31          23.41           22.7   \n",
       "1            NaN            NaN            NaN            NaN   \n",
       "2         222.16            NaN            NaN            NaN   \n",
       "3            NaN         634.26            NaN            NaN   \n",
       "4            NaN            NaN            NaN            NaN   \n",
       "\n",
       "   sales_count_M_2  ...  sales_count_M_8  sales_count_M_9  sales_sum_M_2  \\\n",
       "0              NaN  ...              5.0              5.0            NaN   \n",
       "1              1.0  ...              NaN              NaN         584.91   \n",
       "2              1.0  ...              NaN              NaN         310.00   \n",
       "3              NaN  ...              NaN              NaN            NaN   \n",
       "4              NaN  ...              NaN              NaN            NaN   \n",
       "\n",
       "   sales_sum_M_3  sales_sum_M_4  sales_sum_M_5  sales_sum_M_6  sales_sum_M_7  \\\n",
       "0            NaN       77183.60            NaN            NaN         142.31   \n",
       "1        1018.77         475.39        2035.11            NaN            NaN   \n",
       "2         367.00         227.44         892.80         222.16            NaN   \n",
       "3            NaN            NaN        1402.62            NaN        1268.52   \n",
       "4            NaN         334.40            NaN            NaN            NaN   \n",
       "\n",
       "   sales_sum_M_8  sales_sum_M_9  \n",
       "0         117.05          113.5  \n",
       "1            NaN            NaN  \n",
       "2            NaN            NaN  \n",
       "3            NaN            NaN  \n",
       "4            NaN            NaN  \n",
       "\n",
       "[5 rows x 25 columns]"
      ]
     },
     "execution_count": 71,
     "metadata": {},
     "output_type": "execute_result"
    }
   ],
   "source": [
    "df_features.head()"
   ]
  },
  {
   "cell_type": "markdown",
   "metadata": {},
   "source": [
    "We got Null values after pivoting the table. Let us fill in the Null values with 0."
   ]
  },
  {
   "cell_type": "code",
   "execution_count": 72,
   "metadata": {},
   "outputs": [],
   "source": [
    "df_features.fillna(0, inplace=True)"
   ]
  },
  {
   "cell_type": "code",
   "execution_count": 73,
   "metadata": {},
   "outputs": [
    {
     "data": {
      "text/plain": [
       "0"
      ]
     },
     "execution_count": 73,
     "metadata": {},
     "output_type": "execute_result"
    }
   ],
   "source": [
    "# Let's check the Null values\n",
    "df_features.isnull().sum().sum()"
   ]
  },
  {
   "cell_type": "code",
   "execution_count": 74,
   "metadata": {},
   "outputs": [
    {
     "name": "stdout",
     "output_type": "stream",
     "text": [
      "<class 'pandas.core.frame.DataFrame'>\n",
      "RangeIndex: 5438 entries, 0 to 5437\n",
      "Data columns (total 25 columns):\n",
      " #   Column           Non-Null Count  Dtype  \n",
      "---  ------           --------------  -----  \n",
      " 0   CustomerID       5438 non-null   float64\n",
      " 1   sales_avg_M_2    5438 non-null   float64\n",
      " 2   sales_avg_M_3    5438 non-null   float64\n",
      " 3   sales_avg_M_4    5438 non-null   float64\n",
      " 4   sales_avg_M_5    5438 non-null   float64\n",
      " 5   sales_avg_M_6    5438 non-null   float64\n",
      " 6   sales_avg_M_7    5438 non-null   float64\n",
      " 7   sales_avg_M_8    5438 non-null   float64\n",
      " 8   sales_avg_M_9    5438 non-null   float64\n",
      " 9   sales_count_M_2  5438 non-null   float64\n",
      " 10  sales_count_M_3  5438 non-null   float64\n",
      " 11  sales_count_M_4  5438 non-null   float64\n",
      " 12  sales_count_M_5  5438 non-null   float64\n",
      " 13  sales_count_M_6  5438 non-null   float64\n",
      " 14  sales_count_M_7  5438 non-null   float64\n",
      " 15  sales_count_M_8  5438 non-null   float64\n",
      " 16  sales_count_M_9  5438 non-null   float64\n",
      " 17  sales_sum_M_2    5438 non-null   float64\n",
      " 18  sales_sum_M_3    5438 non-null   float64\n",
      " 19  sales_sum_M_4    5438 non-null   float64\n",
      " 20  sales_sum_M_5    5438 non-null   float64\n",
      " 21  sales_sum_M_6    5438 non-null   float64\n",
      " 22  sales_sum_M_7    5438 non-null   float64\n",
      " 23  sales_sum_M_8    5438 non-null   float64\n",
      " 24  sales_sum_M_9    5438 non-null   float64\n",
      "dtypes: float64(25)\n",
      "memory usage: 1.0 MB\n"
     ]
    }
   ],
   "source": [
    "df_features.info()"
   ]
  },
  {
   "cell_type": "code",
   "execution_count": 75,
   "metadata": {},
   "outputs": [
    {
     "data": {
      "text/html": [
       "<div>\n",
       "<style scoped>\n",
       "    .dataframe tbody tr th:only-of-type {\n",
       "        vertical-align: middle;\n",
       "    }\n",
       "\n",
       "    .dataframe tbody tr th {\n",
       "        vertical-align: top;\n",
       "    }\n",
       "\n",
       "    .dataframe thead th {\n",
       "        text-align: right;\n",
       "    }\n",
       "</style>\n",
       "<table border=\"1\" class=\"dataframe\">\n",
       "  <thead>\n",
       "    <tr style=\"text-align: right;\">\n",
       "      <th></th>\n",
       "      <th>CustomerID</th>\n",
       "      <th>sales_avg_M_2</th>\n",
       "      <th>sales_avg_M_3</th>\n",
       "      <th>sales_avg_M_4</th>\n",
       "      <th>sales_avg_M_5</th>\n",
       "      <th>sales_avg_M_6</th>\n",
       "      <th>sales_avg_M_7</th>\n",
       "      <th>sales_avg_M_8</th>\n",
       "      <th>sales_avg_M_9</th>\n",
       "      <th>sales_count_M_2</th>\n",
       "      <th>...</th>\n",
       "      <th>sales_count_M_8</th>\n",
       "      <th>sales_count_M_9</th>\n",
       "      <th>sales_sum_M_2</th>\n",
       "      <th>sales_sum_M_3</th>\n",
       "      <th>sales_sum_M_4</th>\n",
       "      <th>sales_sum_M_5</th>\n",
       "      <th>sales_sum_M_6</th>\n",
       "      <th>sales_sum_M_7</th>\n",
       "      <th>sales_sum_M_8</th>\n",
       "      <th>sales_sum_M_9</th>\n",
       "    </tr>\n",
       "  </thead>\n",
       "  <tbody>\n",
       "    <tr>\n",
       "      <th>0</th>\n",
       "      <td>12346.0</td>\n",
       "      <td>0.00</td>\n",
       "      <td>0.000</td>\n",
       "      <td>77183.60</td>\n",
       "      <td>0.000</td>\n",
       "      <td>0.00</td>\n",
       "      <td>142.31</td>\n",
       "      <td>23.41</td>\n",
       "      <td>22.7</td>\n",
       "      <td>0.0</td>\n",
       "      <td>...</td>\n",
       "      <td>5.0</td>\n",
       "      <td>5.0</td>\n",
       "      <td>0.00</td>\n",
       "      <td>0.00</td>\n",
       "      <td>77183.60</td>\n",
       "      <td>0.00</td>\n",
       "      <td>0.00</td>\n",
       "      <td>142.31</td>\n",
       "      <td>117.05</td>\n",
       "      <td>113.5</td>\n",
       "    </tr>\n",
       "    <tr>\n",
       "      <th>1</th>\n",
       "      <td>12347.0</td>\n",
       "      <td>584.91</td>\n",
       "      <td>509.385</td>\n",
       "      <td>475.39</td>\n",
       "      <td>1017.555</td>\n",
       "      <td>0.00</td>\n",
       "      <td>0.00</td>\n",
       "      <td>0.00</td>\n",
       "      <td>0.0</td>\n",
       "      <td>1.0</td>\n",
       "      <td>...</td>\n",
       "      <td>0.0</td>\n",
       "      <td>0.0</td>\n",
       "      <td>584.91</td>\n",
       "      <td>1018.77</td>\n",
       "      <td>475.39</td>\n",
       "      <td>2035.11</td>\n",
       "      <td>0.00</td>\n",
       "      <td>0.00</td>\n",
       "      <td>0.00</td>\n",
       "      <td>0.0</td>\n",
       "    </tr>\n",
       "    <tr>\n",
       "      <th>2</th>\n",
       "      <td>12348.0</td>\n",
       "      <td>310.00</td>\n",
       "      <td>367.000</td>\n",
       "      <td>227.44</td>\n",
       "      <td>892.800</td>\n",
       "      <td>222.16</td>\n",
       "      <td>0.00</td>\n",
       "      <td>0.00</td>\n",
       "      <td>0.0</td>\n",
       "      <td>1.0</td>\n",
       "      <td>...</td>\n",
       "      <td>0.0</td>\n",
       "      <td>0.0</td>\n",
       "      <td>310.00</td>\n",
       "      <td>367.00</td>\n",
       "      <td>227.44</td>\n",
       "      <td>892.80</td>\n",
       "      <td>222.16</td>\n",
       "      <td>0.00</td>\n",
       "      <td>0.00</td>\n",
       "      <td>0.0</td>\n",
       "    </tr>\n",
       "    <tr>\n",
       "      <th>3</th>\n",
       "      <td>12349.0</td>\n",
       "      <td>0.00</td>\n",
       "      <td>0.000</td>\n",
       "      <td>0.00</td>\n",
       "      <td>1402.620</td>\n",
       "      <td>0.00</td>\n",
       "      <td>634.26</td>\n",
       "      <td>0.00</td>\n",
       "      <td>0.0</td>\n",
       "      <td>0.0</td>\n",
       "      <td>...</td>\n",
       "      <td>0.0</td>\n",
       "      <td>0.0</td>\n",
       "      <td>0.00</td>\n",
       "      <td>0.00</td>\n",
       "      <td>0.00</td>\n",
       "      <td>1402.62</td>\n",
       "      <td>0.00</td>\n",
       "      <td>1268.52</td>\n",
       "      <td>0.00</td>\n",
       "      <td>0.0</td>\n",
       "    </tr>\n",
       "    <tr>\n",
       "      <th>4</th>\n",
       "      <td>12350.0</td>\n",
       "      <td>0.00</td>\n",
       "      <td>0.000</td>\n",
       "      <td>334.40</td>\n",
       "      <td>0.000</td>\n",
       "      <td>0.00</td>\n",
       "      <td>0.00</td>\n",
       "      <td>0.00</td>\n",
       "      <td>0.0</td>\n",
       "      <td>0.0</td>\n",
       "      <td>...</td>\n",
       "      <td>0.0</td>\n",
       "      <td>0.0</td>\n",
       "      <td>0.00</td>\n",
       "      <td>0.00</td>\n",
       "      <td>334.40</td>\n",
       "      <td>0.00</td>\n",
       "      <td>0.00</td>\n",
       "      <td>0.00</td>\n",
       "      <td>0.00</td>\n",
       "      <td>0.0</td>\n",
       "    </tr>\n",
       "  </tbody>\n",
       "</table>\n",
       "<p>5 rows × 25 columns</p>\n",
       "</div>"
      ],
      "text/plain": [
       "   CustomerID  sales_avg_M_2  sales_avg_M_3  sales_avg_M_4  sales_avg_M_5  \\\n",
       "0     12346.0           0.00          0.000       77183.60          0.000   \n",
       "1     12347.0         584.91        509.385         475.39       1017.555   \n",
       "2     12348.0         310.00        367.000         227.44        892.800   \n",
       "3     12349.0           0.00          0.000           0.00       1402.620   \n",
       "4     12350.0           0.00          0.000         334.40          0.000   \n",
       "\n",
       "   sales_avg_M_6  sales_avg_M_7  sales_avg_M_8  sales_avg_M_9  \\\n",
       "0           0.00         142.31          23.41           22.7   \n",
       "1           0.00           0.00           0.00            0.0   \n",
       "2         222.16           0.00           0.00            0.0   \n",
       "3           0.00         634.26           0.00            0.0   \n",
       "4           0.00           0.00           0.00            0.0   \n",
       "\n",
       "   sales_count_M_2  ...  sales_count_M_8  sales_count_M_9  sales_sum_M_2  \\\n",
       "0              0.0  ...              5.0              5.0           0.00   \n",
       "1              1.0  ...              0.0              0.0         584.91   \n",
       "2              1.0  ...              0.0              0.0         310.00   \n",
       "3              0.0  ...              0.0              0.0           0.00   \n",
       "4              0.0  ...              0.0              0.0           0.00   \n",
       "\n",
       "   sales_sum_M_3  sales_sum_M_4  sales_sum_M_5  sales_sum_M_6  sales_sum_M_7  \\\n",
       "0           0.00       77183.60           0.00           0.00         142.31   \n",
       "1        1018.77         475.39        2035.11           0.00           0.00   \n",
       "2         367.00         227.44         892.80         222.16           0.00   \n",
       "3           0.00           0.00        1402.62           0.00        1268.52   \n",
       "4           0.00         334.40           0.00           0.00           0.00   \n",
       "\n",
       "   sales_sum_M_8  sales_sum_M_9  \n",
       "0         117.05          113.5  \n",
       "1           0.00            0.0  \n",
       "2           0.00            0.0  \n",
       "3           0.00            0.0  \n",
       "4           0.00            0.0  \n",
       "\n",
       "[5 rows x 25 columns]"
      ]
     },
     "execution_count": 75,
     "metadata": {},
     "output_type": "execute_result"
    }
   ],
   "source": [
    "df_features.head()"
   ]
  },
  {
   "cell_type": "markdown",
   "metadata": {},
   "source": [
    "Our target variables will be:"
   ]
  },
  {
   "cell_type": "code",
   "execution_count": 76,
   "metadata": {},
   "outputs": [],
   "source": [
    "df_target = df_data.loc[df_data['M'] == 'M_1', ['CustomerID', 'sales_sum']]"
   ]
  },
  {
   "cell_type": "code",
   "execution_count": 77,
   "metadata": {},
   "outputs": [],
   "source": [
    "df_target.columns = ['CustomerID', 'CLV_'+clv_freq]"
   ]
  },
  {
   "cell_type": "code",
   "execution_count": 78,
   "metadata": {},
   "outputs": [
    {
     "data": {
      "text/plain": [
       "(2406, 2)"
      ]
     },
     "execution_count": 78,
     "metadata": {},
     "output_type": "execute_result"
    }
   ],
   "source": [
    "df_target.shape"
   ]
  },
  {
   "cell_type": "code",
   "execution_count": 79,
   "metadata": {},
   "outputs": [
    {
     "data": {
      "text/html": [
       "<div>\n",
       "<style scoped>\n",
       "    .dataframe tbody tr th:only-of-type {\n",
       "        vertical-align: middle;\n",
       "    }\n",
       "\n",
       "    .dataframe tbody tr th {\n",
       "        vertical-align: top;\n",
       "    }\n",
       "\n",
       "    .dataframe thead th {\n",
       "        text-align: right;\n",
       "    }\n",
       "</style>\n",
       "<table border=\"1\" class=\"dataframe\">\n",
       "  <thead>\n",
       "    <tr style=\"text-align: right;\">\n",
       "      <th></th>\n",
       "      <th>CustomerID</th>\n",
       "      <th>CLV_3M</th>\n",
       "    </tr>\n",
       "  </thead>\n",
       "  <tbody>\n",
       "    <tr>\n",
       "      <th>8</th>\n",
       "      <td>12347.0</td>\n",
       "      <td>1294.32</td>\n",
       "    </tr>\n",
       "    <tr>\n",
       "      <th>16</th>\n",
       "      <td>12349.0</td>\n",
       "      <td>1757.55</td>\n",
       "    </tr>\n",
       "    <tr>\n",
       "      <th>22</th>\n",
       "      <td>12352.0</td>\n",
       "      <td>311.73</td>\n",
       "    </tr>\n",
       "    <tr>\n",
       "      <th>31</th>\n",
       "      <td>12356.0</td>\n",
       "      <td>58.35</td>\n",
       "    </tr>\n",
       "    <tr>\n",
       "      <th>33</th>\n",
       "      <td>12357.0</td>\n",
       "      <td>6207.67</td>\n",
       "    </tr>\n",
       "  </tbody>\n",
       "</table>\n",
       "</div>"
      ],
      "text/plain": [
       "    CustomerID   CLV_3M\n",
       "8      12347.0  1294.32\n",
       "16     12349.0  1757.55\n",
       "22     12352.0   311.73\n",
       "31     12356.0    58.35\n",
       "33     12357.0  6207.67"
      ]
     },
     "execution_count": 79,
     "metadata": {},
     "output_type": "execute_result"
    }
   ],
   "source": [
    "df_target.head()"
   ]
  },
  {
   "cell_type": "code",
   "execution_count": 80,
   "metadata": {},
   "outputs": [],
   "source": [
    "df_sample_set = df_features.merge(\n",
    "                df_target, \n",
    "                left_on='CustomerID', \n",
    "                right_on='CustomerID',\n",
    "                how='left')"
   ]
  },
  {
   "cell_type": "code",
   "execution_count": 81,
   "metadata": {},
   "outputs": [
    {
     "data": {
      "text/html": [
       "<div>\n",
       "<style scoped>\n",
       "    .dataframe tbody tr th:only-of-type {\n",
       "        vertical-align: middle;\n",
       "    }\n",
       "\n",
       "    .dataframe tbody tr th {\n",
       "        vertical-align: top;\n",
       "    }\n",
       "\n",
       "    .dataframe thead th {\n",
       "        text-align: right;\n",
       "    }\n",
       "</style>\n",
       "<table border=\"1\" class=\"dataframe\">\n",
       "  <thead>\n",
       "    <tr style=\"text-align: right;\">\n",
       "      <th></th>\n",
       "      <th>CustomerID</th>\n",
       "      <th>sales_avg_M_2</th>\n",
       "      <th>sales_avg_M_3</th>\n",
       "      <th>sales_avg_M_4</th>\n",
       "      <th>sales_avg_M_5</th>\n",
       "      <th>sales_avg_M_6</th>\n",
       "      <th>sales_avg_M_7</th>\n",
       "      <th>sales_avg_M_8</th>\n",
       "      <th>sales_avg_M_9</th>\n",
       "      <th>sales_count_M_2</th>\n",
       "      <th>...</th>\n",
       "      <th>sales_count_M_9</th>\n",
       "      <th>sales_sum_M_2</th>\n",
       "      <th>sales_sum_M_3</th>\n",
       "      <th>sales_sum_M_4</th>\n",
       "      <th>sales_sum_M_5</th>\n",
       "      <th>sales_sum_M_6</th>\n",
       "      <th>sales_sum_M_7</th>\n",
       "      <th>sales_sum_M_8</th>\n",
       "      <th>sales_sum_M_9</th>\n",
       "      <th>CLV_3M</th>\n",
       "    </tr>\n",
       "  </thead>\n",
       "  <tbody>\n",
       "    <tr>\n",
       "      <th>0</th>\n",
       "      <td>12346.0</td>\n",
       "      <td>0.00</td>\n",
       "      <td>0.000</td>\n",
       "      <td>77183.60</td>\n",
       "      <td>0.000</td>\n",
       "      <td>0.00</td>\n",
       "      <td>142.31</td>\n",
       "      <td>23.41</td>\n",
       "      <td>22.7</td>\n",
       "      <td>0.0</td>\n",
       "      <td>...</td>\n",
       "      <td>5.0</td>\n",
       "      <td>0.00</td>\n",
       "      <td>0.00</td>\n",
       "      <td>77183.60</td>\n",
       "      <td>0.00</td>\n",
       "      <td>0.00</td>\n",
       "      <td>142.31</td>\n",
       "      <td>117.05</td>\n",
       "      <td>113.5</td>\n",
       "      <td>NaN</td>\n",
       "    </tr>\n",
       "    <tr>\n",
       "      <th>1</th>\n",
       "      <td>12347.0</td>\n",
       "      <td>584.91</td>\n",
       "      <td>509.385</td>\n",
       "      <td>475.39</td>\n",
       "      <td>1017.555</td>\n",
       "      <td>0.00</td>\n",
       "      <td>0.00</td>\n",
       "      <td>0.00</td>\n",
       "      <td>0.0</td>\n",
       "      <td>1.0</td>\n",
       "      <td>...</td>\n",
       "      <td>0.0</td>\n",
       "      <td>584.91</td>\n",
       "      <td>1018.77</td>\n",
       "      <td>475.39</td>\n",
       "      <td>2035.11</td>\n",
       "      <td>0.00</td>\n",
       "      <td>0.00</td>\n",
       "      <td>0.00</td>\n",
       "      <td>0.0</td>\n",
       "      <td>1294.32</td>\n",
       "    </tr>\n",
       "    <tr>\n",
       "      <th>2</th>\n",
       "      <td>12348.0</td>\n",
       "      <td>310.00</td>\n",
       "      <td>367.000</td>\n",
       "      <td>227.44</td>\n",
       "      <td>892.800</td>\n",
       "      <td>222.16</td>\n",
       "      <td>0.00</td>\n",
       "      <td>0.00</td>\n",
       "      <td>0.0</td>\n",
       "      <td>1.0</td>\n",
       "      <td>...</td>\n",
       "      <td>0.0</td>\n",
       "      <td>310.00</td>\n",
       "      <td>367.00</td>\n",
       "      <td>227.44</td>\n",
       "      <td>892.80</td>\n",
       "      <td>222.16</td>\n",
       "      <td>0.00</td>\n",
       "      <td>0.00</td>\n",
       "      <td>0.0</td>\n",
       "      <td>NaN</td>\n",
       "    </tr>\n",
       "    <tr>\n",
       "      <th>3</th>\n",
       "      <td>12349.0</td>\n",
       "      <td>0.00</td>\n",
       "      <td>0.000</td>\n",
       "      <td>0.00</td>\n",
       "      <td>1402.620</td>\n",
       "      <td>0.00</td>\n",
       "      <td>634.26</td>\n",
       "      <td>0.00</td>\n",
       "      <td>0.0</td>\n",
       "      <td>0.0</td>\n",
       "      <td>...</td>\n",
       "      <td>0.0</td>\n",
       "      <td>0.00</td>\n",
       "      <td>0.00</td>\n",
       "      <td>0.00</td>\n",
       "      <td>1402.62</td>\n",
       "      <td>0.00</td>\n",
       "      <td>1268.52</td>\n",
       "      <td>0.00</td>\n",
       "      <td>0.0</td>\n",
       "      <td>1757.55</td>\n",
       "    </tr>\n",
       "    <tr>\n",
       "      <th>4</th>\n",
       "      <td>12350.0</td>\n",
       "      <td>0.00</td>\n",
       "      <td>0.000</td>\n",
       "      <td>334.40</td>\n",
       "      <td>0.000</td>\n",
       "      <td>0.00</td>\n",
       "      <td>0.00</td>\n",
       "      <td>0.00</td>\n",
       "      <td>0.0</td>\n",
       "      <td>0.0</td>\n",
       "      <td>...</td>\n",
       "      <td>0.0</td>\n",
       "      <td>0.00</td>\n",
       "      <td>0.00</td>\n",
       "      <td>334.40</td>\n",
       "      <td>0.00</td>\n",
       "      <td>0.00</td>\n",
       "      <td>0.00</td>\n",
       "      <td>0.00</td>\n",
       "      <td>0.0</td>\n",
       "      <td>NaN</td>\n",
       "    </tr>\n",
       "  </tbody>\n",
       "</table>\n",
       "<p>5 rows × 26 columns</p>\n",
       "</div>"
      ],
      "text/plain": [
       "   CustomerID  sales_avg_M_2  sales_avg_M_3  sales_avg_M_4  sales_avg_M_5  \\\n",
       "0     12346.0           0.00          0.000       77183.60          0.000   \n",
       "1     12347.0         584.91        509.385         475.39       1017.555   \n",
       "2     12348.0         310.00        367.000         227.44        892.800   \n",
       "3     12349.0           0.00          0.000           0.00       1402.620   \n",
       "4     12350.0           0.00          0.000         334.40          0.000   \n",
       "\n",
       "   sales_avg_M_6  sales_avg_M_7  sales_avg_M_8  sales_avg_M_9  \\\n",
       "0           0.00         142.31          23.41           22.7   \n",
       "1           0.00           0.00           0.00            0.0   \n",
       "2         222.16           0.00           0.00            0.0   \n",
       "3           0.00         634.26           0.00            0.0   \n",
       "4           0.00           0.00           0.00            0.0   \n",
       "\n",
       "   sales_count_M_2  ...  sales_count_M_9  sales_sum_M_2  sales_sum_M_3  \\\n",
       "0              0.0  ...              5.0           0.00           0.00   \n",
       "1              1.0  ...              0.0         584.91        1018.77   \n",
       "2              1.0  ...              0.0         310.00         367.00   \n",
       "3              0.0  ...              0.0           0.00           0.00   \n",
       "4              0.0  ...              0.0           0.00           0.00   \n",
       "\n",
       "   sales_sum_M_4  sales_sum_M_5  sales_sum_M_6  sales_sum_M_7  sales_sum_M_8  \\\n",
       "0       77183.60           0.00           0.00         142.31         117.05   \n",
       "1         475.39        2035.11           0.00           0.00           0.00   \n",
       "2         227.44         892.80         222.16           0.00           0.00   \n",
       "3           0.00        1402.62           0.00        1268.52           0.00   \n",
       "4         334.40           0.00           0.00           0.00           0.00   \n",
       "\n",
       "   sales_sum_M_9   CLV_3M  \n",
       "0          113.5      NaN  \n",
       "1            0.0  1294.32  \n",
       "2            0.0      NaN  \n",
       "3            0.0  1757.55  \n",
       "4            0.0      NaN  \n",
       "\n",
       "[5 rows x 26 columns]"
      ]
     },
     "execution_count": 81,
     "metadata": {},
     "output_type": "execute_result"
    }
   ],
   "source": [
    "df_sample_set.head()"
   ]
  },
  {
   "cell_type": "code",
   "execution_count": 82,
   "metadata": {},
   "outputs": [],
   "source": [
    "df_sample_set.fillna(0, inplace=True)"
   ]
  },
  {
   "cell_type": "code",
   "execution_count": 83,
   "metadata": {},
   "outputs": [
    {
     "data": {
      "text/html": [
       "<div>\n",
       "<style scoped>\n",
       "    .dataframe tbody tr th:only-of-type {\n",
       "        vertical-align: middle;\n",
       "    }\n",
       "\n",
       "    .dataframe tbody tr th {\n",
       "        vertical-align: top;\n",
       "    }\n",
       "\n",
       "    .dataframe thead th {\n",
       "        text-align: right;\n",
       "    }\n",
       "</style>\n",
       "<table border=\"1\" class=\"dataframe\">\n",
       "  <thead>\n",
       "    <tr style=\"text-align: right;\">\n",
       "      <th></th>\n",
       "      <th>CustomerID</th>\n",
       "      <th>sales_avg_M_2</th>\n",
       "      <th>sales_avg_M_3</th>\n",
       "      <th>sales_avg_M_4</th>\n",
       "      <th>sales_avg_M_5</th>\n",
       "      <th>sales_avg_M_6</th>\n",
       "      <th>sales_avg_M_7</th>\n",
       "      <th>sales_avg_M_8</th>\n",
       "      <th>sales_avg_M_9</th>\n",
       "      <th>sales_count_M_2</th>\n",
       "      <th>...</th>\n",
       "      <th>sales_count_M_9</th>\n",
       "      <th>sales_sum_M_2</th>\n",
       "      <th>sales_sum_M_3</th>\n",
       "      <th>sales_sum_M_4</th>\n",
       "      <th>sales_sum_M_5</th>\n",
       "      <th>sales_sum_M_6</th>\n",
       "      <th>sales_sum_M_7</th>\n",
       "      <th>sales_sum_M_8</th>\n",
       "      <th>sales_sum_M_9</th>\n",
       "      <th>CLV_3M</th>\n",
       "    </tr>\n",
       "  </thead>\n",
       "  <tbody>\n",
       "    <tr>\n",
       "      <th>0</th>\n",
       "      <td>12346.0</td>\n",
       "      <td>0.00</td>\n",
       "      <td>0.000</td>\n",
       "      <td>77183.60</td>\n",
       "      <td>0.000</td>\n",
       "      <td>0.00</td>\n",
       "      <td>142.31</td>\n",
       "      <td>23.41</td>\n",
       "      <td>22.7</td>\n",
       "      <td>0.0</td>\n",
       "      <td>...</td>\n",
       "      <td>5.0</td>\n",
       "      <td>0.00</td>\n",
       "      <td>0.00</td>\n",
       "      <td>77183.60</td>\n",
       "      <td>0.00</td>\n",
       "      <td>0.00</td>\n",
       "      <td>142.31</td>\n",
       "      <td>117.05</td>\n",
       "      <td>113.5</td>\n",
       "      <td>0.00</td>\n",
       "    </tr>\n",
       "    <tr>\n",
       "      <th>1</th>\n",
       "      <td>12347.0</td>\n",
       "      <td>584.91</td>\n",
       "      <td>509.385</td>\n",
       "      <td>475.39</td>\n",
       "      <td>1017.555</td>\n",
       "      <td>0.00</td>\n",
       "      <td>0.00</td>\n",
       "      <td>0.00</td>\n",
       "      <td>0.0</td>\n",
       "      <td>1.0</td>\n",
       "      <td>...</td>\n",
       "      <td>0.0</td>\n",
       "      <td>584.91</td>\n",
       "      <td>1018.77</td>\n",
       "      <td>475.39</td>\n",
       "      <td>2035.11</td>\n",
       "      <td>0.00</td>\n",
       "      <td>0.00</td>\n",
       "      <td>0.00</td>\n",
       "      <td>0.0</td>\n",
       "      <td>1294.32</td>\n",
       "    </tr>\n",
       "    <tr>\n",
       "      <th>2</th>\n",
       "      <td>12348.0</td>\n",
       "      <td>310.00</td>\n",
       "      <td>367.000</td>\n",
       "      <td>227.44</td>\n",
       "      <td>892.800</td>\n",
       "      <td>222.16</td>\n",
       "      <td>0.00</td>\n",
       "      <td>0.00</td>\n",
       "      <td>0.0</td>\n",
       "      <td>1.0</td>\n",
       "      <td>...</td>\n",
       "      <td>0.0</td>\n",
       "      <td>310.00</td>\n",
       "      <td>367.00</td>\n",
       "      <td>227.44</td>\n",
       "      <td>892.80</td>\n",
       "      <td>222.16</td>\n",
       "      <td>0.00</td>\n",
       "      <td>0.00</td>\n",
       "      <td>0.0</td>\n",
       "      <td>0.00</td>\n",
       "    </tr>\n",
       "    <tr>\n",
       "      <th>3</th>\n",
       "      <td>12349.0</td>\n",
       "      <td>0.00</td>\n",
       "      <td>0.000</td>\n",
       "      <td>0.00</td>\n",
       "      <td>1402.620</td>\n",
       "      <td>0.00</td>\n",
       "      <td>634.26</td>\n",
       "      <td>0.00</td>\n",
       "      <td>0.0</td>\n",
       "      <td>0.0</td>\n",
       "      <td>...</td>\n",
       "      <td>0.0</td>\n",
       "      <td>0.00</td>\n",
       "      <td>0.00</td>\n",
       "      <td>0.00</td>\n",
       "      <td>1402.62</td>\n",
       "      <td>0.00</td>\n",
       "      <td>1268.52</td>\n",
       "      <td>0.00</td>\n",
       "      <td>0.0</td>\n",
       "      <td>1757.55</td>\n",
       "    </tr>\n",
       "    <tr>\n",
       "      <th>4</th>\n",
       "      <td>12350.0</td>\n",
       "      <td>0.00</td>\n",
       "      <td>0.000</td>\n",
       "      <td>334.40</td>\n",
       "      <td>0.000</td>\n",
       "      <td>0.00</td>\n",
       "      <td>0.00</td>\n",
       "      <td>0.00</td>\n",
       "      <td>0.0</td>\n",
       "      <td>0.0</td>\n",
       "      <td>...</td>\n",
       "      <td>0.0</td>\n",
       "      <td>0.00</td>\n",
       "      <td>0.00</td>\n",
       "      <td>334.40</td>\n",
       "      <td>0.00</td>\n",
       "      <td>0.00</td>\n",
       "      <td>0.00</td>\n",
       "      <td>0.00</td>\n",
       "      <td>0.0</td>\n",
       "      <td>0.00</td>\n",
       "    </tr>\n",
       "  </tbody>\n",
       "</table>\n",
       "<p>5 rows × 26 columns</p>\n",
       "</div>"
      ],
      "text/plain": [
       "   CustomerID  sales_avg_M_2  sales_avg_M_3  sales_avg_M_4  sales_avg_M_5  \\\n",
       "0     12346.0           0.00          0.000       77183.60          0.000   \n",
       "1     12347.0         584.91        509.385         475.39       1017.555   \n",
       "2     12348.0         310.00        367.000         227.44        892.800   \n",
       "3     12349.0           0.00          0.000           0.00       1402.620   \n",
       "4     12350.0           0.00          0.000         334.40          0.000   \n",
       "\n",
       "   sales_avg_M_6  sales_avg_M_7  sales_avg_M_8  sales_avg_M_9  \\\n",
       "0           0.00         142.31          23.41           22.7   \n",
       "1           0.00           0.00           0.00            0.0   \n",
       "2         222.16           0.00           0.00            0.0   \n",
       "3           0.00         634.26           0.00            0.0   \n",
       "4           0.00           0.00           0.00            0.0   \n",
       "\n",
       "   sales_count_M_2  ...  sales_count_M_9  sales_sum_M_2  sales_sum_M_3  \\\n",
       "0              0.0  ...              5.0           0.00           0.00   \n",
       "1              1.0  ...              0.0         584.91        1018.77   \n",
       "2              1.0  ...              0.0         310.00         367.00   \n",
       "3              0.0  ...              0.0           0.00           0.00   \n",
       "4              0.0  ...              0.0           0.00           0.00   \n",
       "\n",
       "   sales_sum_M_4  sales_sum_M_5  sales_sum_M_6  sales_sum_M_7  sales_sum_M_8  \\\n",
       "0       77183.60           0.00           0.00         142.31         117.05   \n",
       "1         475.39        2035.11           0.00           0.00           0.00   \n",
       "2         227.44         892.80         222.16           0.00           0.00   \n",
       "3           0.00        1402.62           0.00        1268.52           0.00   \n",
       "4         334.40           0.00           0.00           0.00           0.00   \n",
       "\n",
       "   sales_sum_M_9   CLV_3M  \n",
       "0          113.5     0.00  \n",
       "1            0.0  1294.32  \n",
       "2            0.0     0.00  \n",
       "3            0.0  1757.55  \n",
       "4            0.0     0.00  \n",
       "\n",
       "[5 rows x 26 columns]"
      ]
     },
     "execution_count": 83,
     "metadata": {},
     "output_type": "execute_result"
    }
   ],
   "source": [
    "df_sample_set.head()"
   ]
  },
  {
   "cell_type": "code",
   "execution_count": 84,
   "metadata": {},
   "outputs": [
    {
     "data": {
      "text/plain": [
       "count     5438.000000\n",
       "mean       363.622587\n",
       "std       1951.861150\n",
       "min          0.000000\n",
       "25%          0.000000\n",
       "50%          0.000000\n",
       "75%        307.215000\n",
       "max      68012.350000\n",
       "Name: CLV_3M, dtype: float64"
      ]
     },
     "execution_count": 84,
     "metadata": {},
     "output_type": "execute_result"
    }
   ],
   "source": [
    "df_sample_set['CLV_3M'].describe()"
   ]
  },
  {
   "cell_type": "markdown",
   "metadata": {},
   "source": [
    "### Build linear regression"
   ]
  },
  {
   "cell_type": "code",
   "execution_count": 85,
   "metadata": {},
   "outputs": [],
   "source": [
    "from sklearn.model_selection import train_test_split\n",
    "from sklearn.linear_model import LinearRegression"
   ]
  },
  {
   "cell_type": "code",
   "execution_count": 86,
   "metadata": {},
   "outputs": [],
   "source": [
    "target_var = 'CLV_3M'\n",
    "all_features = [x for x in df_sample_set.columns if x not in ['CustomerID', target_var]]"
   ]
  },
  {
   "cell_type": "code",
   "execution_count": 87,
   "metadata": {},
   "outputs": [
    {
     "data": {
      "text/plain": [
       "['sales_avg_M_2',\n",
       " 'sales_avg_M_3',\n",
       " 'sales_avg_M_4',\n",
       " 'sales_avg_M_5',\n",
       " 'sales_avg_M_6',\n",
       " 'sales_avg_M_7',\n",
       " 'sales_avg_M_8',\n",
       " 'sales_avg_M_9',\n",
       " 'sales_count_M_2',\n",
       " 'sales_count_M_3',\n",
       " 'sales_count_M_4',\n",
       " 'sales_count_M_5',\n",
       " 'sales_count_M_6',\n",
       " 'sales_count_M_7',\n",
       " 'sales_count_M_8',\n",
       " 'sales_count_M_9',\n",
       " 'sales_sum_M_2',\n",
       " 'sales_sum_M_3',\n",
       " 'sales_sum_M_4',\n",
       " 'sales_sum_M_5',\n",
       " 'sales_sum_M_6',\n",
       " 'sales_sum_M_7',\n",
       " 'sales_sum_M_8',\n",
       " 'sales_sum_M_9']"
      ]
     },
     "execution_count": 87,
     "metadata": {},
     "output_type": "execute_result"
    }
   ],
   "source": [
    "all_features"
   ]
  },
  {
   "cell_type": "code",
   "execution_count": 88,
   "metadata": {},
   "outputs": [
    {
     "data": {
      "text/html": [
       "<div>\n",
       "<style scoped>\n",
       "    .dataframe tbody tr th:only-of-type {\n",
       "        vertical-align: middle;\n",
       "    }\n",
       "\n",
       "    .dataframe tbody tr th {\n",
       "        vertical-align: top;\n",
       "    }\n",
       "\n",
       "    .dataframe thead th {\n",
       "        text-align: right;\n",
       "    }\n",
       "</style>\n",
       "<table border=\"1\" class=\"dataframe\">\n",
       "  <thead>\n",
       "    <tr style=\"text-align: right;\">\n",
       "      <th></th>\n",
       "      <th>CustomerID</th>\n",
       "      <th>sales_avg_M_2</th>\n",
       "      <th>sales_avg_M_3</th>\n",
       "      <th>sales_avg_M_4</th>\n",
       "      <th>sales_avg_M_5</th>\n",
       "      <th>sales_avg_M_6</th>\n",
       "      <th>sales_avg_M_7</th>\n",
       "      <th>sales_avg_M_8</th>\n",
       "      <th>sales_avg_M_9</th>\n",
       "      <th>sales_count_M_2</th>\n",
       "      <th>...</th>\n",
       "      <th>sales_count_M_9</th>\n",
       "      <th>sales_sum_M_2</th>\n",
       "      <th>sales_sum_M_3</th>\n",
       "      <th>sales_sum_M_4</th>\n",
       "      <th>sales_sum_M_5</th>\n",
       "      <th>sales_sum_M_6</th>\n",
       "      <th>sales_sum_M_7</th>\n",
       "      <th>sales_sum_M_8</th>\n",
       "      <th>sales_sum_M_9</th>\n",
       "      <th>CLV_3M</th>\n",
       "    </tr>\n",
       "  </thead>\n",
       "  <tbody>\n",
       "    <tr>\n",
       "      <th>0</th>\n",
       "      <td>12346.0</td>\n",
       "      <td>0.000000</td>\n",
       "      <td>0.000</td>\n",
       "      <td>77183.600000</td>\n",
       "      <td>0.000</td>\n",
       "      <td>0.00</td>\n",
       "      <td>142.31</td>\n",
       "      <td>23.41</td>\n",
       "      <td>22.70</td>\n",
       "      <td>0.0</td>\n",
       "      <td>...</td>\n",
       "      <td>5.0</td>\n",
       "      <td>0.00</td>\n",
       "      <td>0.00</td>\n",
       "      <td>77183.60</td>\n",
       "      <td>0.00</td>\n",
       "      <td>0.00</td>\n",
       "      <td>142.31</td>\n",
       "      <td>117.05</td>\n",
       "      <td>113.50</td>\n",
       "      <td>0.00</td>\n",
       "    </tr>\n",
       "    <tr>\n",
       "      <th>1</th>\n",
       "      <td>12347.0</td>\n",
       "      <td>584.910000</td>\n",
       "      <td>509.385</td>\n",
       "      <td>475.390000</td>\n",
       "      <td>1017.555</td>\n",
       "      <td>0.00</td>\n",
       "      <td>0.00</td>\n",
       "      <td>0.00</td>\n",
       "      <td>0.00</td>\n",
       "      <td>1.0</td>\n",
       "      <td>...</td>\n",
       "      <td>0.0</td>\n",
       "      <td>584.91</td>\n",
       "      <td>1018.77</td>\n",
       "      <td>475.39</td>\n",
       "      <td>2035.11</td>\n",
       "      <td>0.00</td>\n",
       "      <td>0.00</td>\n",
       "      <td>0.00</td>\n",
       "      <td>0.00</td>\n",
       "      <td>1294.32</td>\n",
       "    </tr>\n",
       "    <tr>\n",
       "      <th>2</th>\n",
       "      <td>12348.0</td>\n",
       "      <td>310.000000</td>\n",
       "      <td>367.000</td>\n",
       "      <td>227.440000</td>\n",
       "      <td>892.800</td>\n",
       "      <td>222.16</td>\n",
       "      <td>0.00</td>\n",
       "      <td>0.00</td>\n",
       "      <td>0.00</td>\n",
       "      <td>1.0</td>\n",
       "      <td>...</td>\n",
       "      <td>0.0</td>\n",
       "      <td>310.00</td>\n",
       "      <td>367.00</td>\n",
       "      <td>227.44</td>\n",
       "      <td>892.80</td>\n",
       "      <td>222.16</td>\n",
       "      <td>0.00</td>\n",
       "      <td>0.00</td>\n",
       "      <td>0.00</td>\n",
       "      <td>0.00</td>\n",
       "    </tr>\n",
       "    <tr>\n",
       "      <th>3</th>\n",
       "      <td>12349.0</td>\n",
       "      <td>0.000000</td>\n",
       "      <td>0.000</td>\n",
       "      <td>0.000000</td>\n",
       "      <td>1402.620</td>\n",
       "      <td>0.00</td>\n",
       "      <td>634.26</td>\n",
       "      <td>0.00</td>\n",
       "      <td>0.00</td>\n",
       "      <td>0.0</td>\n",
       "      <td>...</td>\n",
       "      <td>0.0</td>\n",
       "      <td>0.00</td>\n",
       "      <td>0.00</td>\n",
       "      <td>0.00</td>\n",
       "      <td>1402.62</td>\n",
       "      <td>0.00</td>\n",
       "      <td>1268.52</td>\n",
       "      <td>0.00</td>\n",
       "      <td>0.00</td>\n",
       "      <td>1757.55</td>\n",
       "    </tr>\n",
       "    <tr>\n",
       "      <th>4</th>\n",
       "      <td>12350.0</td>\n",
       "      <td>0.000000</td>\n",
       "      <td>0.000</td>\n",
       "      <td>334.400000</td>\n",
       "      <td>0.000</td>\n",
       "      <td>0.00</td>\n",
       "      <td>0.00</td>\n",
       "      <td>0.00</td>\n",
       "      <td>0.00</td>\n",
       "      <td>0.0</td>\n",
       "      <td>...</td>\n",
       "      <td>0.0</td>\n",
       "      <td>0.00</td>\n",
       "      <td>0.00</td>\n",
       "      <td>334.40</td>\n",
       "      <td>0.00</td>\n",
       "      <td>0.00</td>\n",
       "      <td>0.00</td>\n",
       "      <td>0.00</td>\n",
       "      <td>0.00</td>\n",
       "      <td>0.00</td>\n",
       "    </tr>\n",
       "    <tr>\n",
       "      <th>...</th>\n",
       "      <td>...</td>\n",
       "      <td>...</td>\n",
       "      <td>...</td>\n",
       "      <td>...</td>\n",
       "      <td>...</td>\n",
       "      <td>...</td>\n",
       "      <td>...</td>\n",
       "      <td>...</td>\n",
       "      <td>...</td>\n",
       "      <td>...</td>\n",
       "      <td>...</td>\n",
       "      <td>...</td>\n",
       "      <td>...</td>\n",
       "      <td>...</td>\n",
       "      <td>...</td>\n",
       "      <td>...</td>\n",
       "      <td>...</td>\n",
       "      <td>...</td>\n",
       "      <td>...</td>\n",
       "      <td>...</td>\n",
       "      <td>...</td>\n",
       "    </tr>\n",
       "    <tr>\n",
       "      <th>5433</th>\n",
       "      <td>18283.0</td>\n",
       "      <td>92.696667</td>\n",
       "      <td>131.170</td>\n",
       "      <td>105.966667</td>\n",
       "      <td>97.675</td>\n",
       "      <td>92.00</td>\n",
       "      <td>0.00</td>\n",
       "      <td>118.14</td>\n",
       "      <td>0.00</td>\n",
       "      <td>3.0</td>\n",
       "      <td>...</td>\n",
       "      <td>0.0</td>\n",
       "      <td>278.09</td>\n",
       "      <td>524.68</td>\n",
       "      <td>317.90</td>\n",
       "      <td>195.35</td>\n",
       "      <td>92.00</td>\n",
       "      <td>0.00</td>\n",
       "      <td>354.42</td>\n",
       "      <td>0.00</td>\n",
       "      <td>766.21</td>\n",
       "    </tr>\n",
       "    <tr>\n",
       "      <th>5434</th>\n",
       "      <td>18284.0</td>\n",
       "      <td>0.000000</td>\n",
       "      <td>0.000</td>\n",
       "      <td>0.000000</td>\n",
       "      <td>461.680</td>\n",
       "      <td>0.00</td>\n",
       "      <td>0.00</td>\n",
       "      <td>0.00</td>\n",
       "      <td>0.00</td>\n",
       "      <td>0.0</td>\n",
       "      <td>...</td>\n",
       "      <td>0.0</td>\n",
       "      <td>0.00</td>\n",
       "      <td>0.00</td>\n",
       "      <td>0.00</td>\n",
       "      <td>461.68</td>\n",
       "      <td>0.00</td>\n",
       "      <td>0.00</td>\n",
       "      <td>0.00</td>\n",
       "      <td>0.00</td>\n",
       "      <td>0.00</td>\n",
       "    </tr>\n",
       "    <tr>\n",
       "      <th>5435</th>\n",
       "      <td>18285.0</td>\n",
       "      <td>0.000000</td>\n",
       "      <td>0.000</td>\n",
       "      <td>0.000000</td>\n",
       "      <td>0.000</td>\n",
       "      <td>0.00</td>\n",
       "      <td>0.00</td>\n",
       "      <td>427.00</td>\n",
       "      <td>0.00</td>\n",
       "      <td>0.0</td>\n",
       "      <td>...</td>\n",
       "      <td>0.0</td>\n",
       "      <td>0.00</td>\n",
       "      <td>0.00</td>\n",
       "      <td>0.00</td>\n",
       "      <td>0.00</td>\n",
       "      <td>0.00</td>\n",
       "      <td>0.00</td>\n",
       "      <td>427.00</td>\n",
       "      <td>0.00</td>\n",
       "      <td>0.00</td>\n",
       "    </tr>\n",
       "    <tr>\n",
       "      <th>5436</th>\n",
       "      <td>18286.0</td>\n",
       "      <td>0.000000</td>\n",
       "      <td>0.000</td>\n",
       "      <td>0.000000</td>\n",
       "      <td>0.000</td>\n",
       "      <td>833.48</td>\n",
       "      <td>0.00</td>\n",
       "      <td>0.00</td>\n",
       "      <td>462.95</td>\n",
       "      <td>0.0</td>\n",
       "      <td>...</td>\n",
       "      <td>1.0</td>\n",
       "      <td>0.00</td>\n",
       "      <td>0.00</td>\n",
       "      <td>0.00</td>\n",
       "      <td>0.00</td>\n",
       "      <td>833.48</td>\n",
       "      <td>0.00</td>\n",
       "      <td>0.00</td>\n",
       "      <td>462.95</td>\n",
       "      <td>0.00</td>\n",
       "    </tr>\n",
       "    <tr>\n",
       "      <th>5437</th>\n",
       "      <td>18287.0</td>\n",
       "      <td>0.000000</td>\n",
       "      <td>765.280</td>\n",
       "      <td>0.000000</td>\n",
       "      <td>381.500</td>\n",
       "      <td>446.30</td>\n",
       "      <td>1071.61</td>\n",
       "      <td>0.00</td>\n",
       "      <td>0.00</td>\n",
       "      <td>0.0</td>\n",
       "      <td>...</td>\n",
       "      <td>0.0</td>\n",
       "      <td>0.00</td>\n",
       "      <td>765.28</td>\n",
       "      <td>0.00</td>\n",
       "      <td>381.50</td>\n",
       "      <td>892.60</td>\n",
       "      <td>1071.61</td>\n",
       "      <td>0.00</td>\n",
       "      <td>0.00</td>\n",
       "      <td>1072.00</td>\n",
       "    </tr>\n",
       "  </tbody>\n",
       "</table>\n",
       "<p>5438 rows × 26 columns</p>\n",
       "</div>"
      ],
      "text/plain": [
       "      CustomerID  sales_avg_M_2  sales_avg_M_3  sales_avg_M_4  sales_avg_M_5  \\\n",
       "0        12346.0       0.000000          0.000   77183.600000          0.000   \n",
       "1        12347.0     584.910000        509.385     475.390000       1017.555   \n",
       "2        12348.0     310.000000        367.000     227.440000        892.800   \n",
       "3        12349.0       0.000000          0.000       0.000000       1402.620   \n",
       "4        12350.0       0.000000          0.000     334.400000          0.000   \n",
       "...          ...            ...            ...            ...            ...   \n",
       "5433     18283.0      92.696667        131.170     105.966667         97.675   \n",
       "5434     18284.0       0.000000          0.000       0.000000        461.680   \n",
       "5435     18285.0       0.000000          0.000       0.000000          0.000   \n",
       "5436     18286.0       0.000000          0.000       0.000000          0.000   \n",
       "5437     18287.0       0.000000        765.280       0.000000        381.500   \n",
       "\n",
       "      sales_avg_M_6  sales_avg_M_7  sales_avg_M_8  sales_avg_M_9  \\\n",
       "0              0.00         142.31          23.41          22.70   \n",
       "1              0.00           0.00           0.00           0.00   \n",
       "2            222.16           0.00           0.00           0.00   \n",
       "3              0.00         634.26           0.00           0.00   \n",
       "4              0.00           0.00           0.00           0.00   \n",
       "...             ...            ...            ...            ...   \n",
       "5433          92.00           0.00         118.14           0.00   \n",
       "5434           0.00           0.00           0.00           0.00   \n",
       "5435           0.00           0.00         427.00           0.00   \n",
       "5436         833.48           0.00           0.00         462.95   \n",
       "5437         446.30        1071.61           0.00           0.00   \n",
       "\n",
       "      sales_count_M_2  ...  sales_count_M_9  sales_sum_M_2  sales_sum_M_3  \\\n",
       "0                 0.0  ...              5.0           0.00           0.00   \n",
       "1                 1.0  ...              0.0         584.91        1018.77   \n",
       "2                 1.0  ...              0.0         310.00         367.00   \n",
       "3                 0.0  ...              0.0           0.00           0.00   \n",
       "4                 0.0  ...              0.0           0.00           0.00   \n",
       "...               ...  ...              ...            ...            ...   \n",
       "5433              3.0  ...              0.0         278.09         524.68   \n",
       "5434              0.0  ...              0.0           0.00           0.00   \n",
       "5435              0.0  ...              0.0           0.00           0.00   \n",
       "5436              0.0  ...              1.0           0.00           0.00   \n",
       "5437              0.0  ...              0.0           0.00         765.28   \n",
       "\n",
       "      sales_sum_M_4  sales_sum_M_5  sales_sum_M_6  sales_sum_M_7  \\\n",
       "0          77183.60           0.00           0.00         142.31   \n",
       "1            475.39        2035.11           0.00           0.00   \n",
       "2            227.44         892.80         222.16           0.00   \n",
       "3              0.00        1402.62           0.00        1268.52   \n",
       "4            334.40           0.00           0.00           0.00   \n",
       "...             ...            ...            ...            ...   \n",
       "5433         317.90         195.35          92.00           0.00   \n",
       "5434           0.00         461.68           0.00           0.00   \n",
       "5435           0.00           0.00           0.00           0.00   \n",
       "5436           0.00           0.00         833.48           0.00   \n",
       "5437           0.00         381.50         892.60        1071.61   \n",
       "\n",
       "      sales_sum_M_8  sales_sum_M_9   CLV_3M  \n",
       "0            117.05         113.50     0.00  \n",
       "1              0.00           0.00  1294.32  \n",
       "2              0.00           0.00     0.00  \n",
       "3              0.00           0.00  1757.55  \n",
       "4              0.00           0.00     0.00  \n",
       "...             ...            ...      ...  \n",
       "5433         354.42           0.00   766.21  \n",
       "5434           0.00           0.00     0.00  \n",
       "5435         427.00           0.00     0.00  \n",
       "5436           0.00         462.95     0.00  \n",
       "5437           0.00           0.00  1072.00  \n",
       "\n",
       "[5438 rows x 26 columns]"
      ]
     },
     "execution_count": 88,
     "metadata": {},
     "output_type": "execute_result"
    }
   ],
   "source": [
    "df_sample_set"
   ]
  },
  {
   "cell_type": "code",
   "execution_count": 89,
   "metadata": {},
   "outputs": [],
   "source": [
    "X_train, X_test, y_train, y_test = train_test_split(\n",
    "                                    df_sample_set[all_features], \n",
    "                                    df_sample_set[target_var], \n",
    "                                    random_state=2,\n",
    "                                    test_size=0.35)"
   ]
  },
  {
   "cell_type": "code",
   "execution_count": 90,
   "metadata": {},
   "outputs": [],
   "source": [
    "lin_reg = LinearRegression(n_jobs=1)"
   ]
  },
  {
   "cell_type": "code",
   "execution_count": 91,
   "metadata": {},
   "outputs": [
    {
     "data": {
      "text/plain": [
       "LinearRegression(n_jobs=1)"
      ]
     },
     "execution_count": 91,
     "metadata": {},
     "output_type": "execute_result"
    }
   ],
   "source": [
    "lin_reg.fit(X_train, y_train)"
   ]
  },
  {
   "cell_type": "code",
   "execution_count": 92,
   "metadata": {},
   "outputs": [
    {
     "data": {
      "text/plain": [
       "63.34386079215807"
      ]
     },
     "execution_count": 92,
     "metadata": {},
     "output_type": "execute_result"
    }
   ],
   "source": [
    "lin_reg.intercept_"
   ]
  },
  {
   "cell_type": "code",
   "execution_count": 93,
   "metadata": {},
   "outputs": [],
   "source": [
    "coef = pd.DataFrame(list(zip(all_features, lin_reg.coef_)))\n",
    "coef.columns = ['feature', 'coef']"
   ]
  },
  {
   "cell_type": "code",
   "execution_count": 94,
   "metadata": {},
   "outputs": [
    {
     "data": {
      "text/html": [
       "<div>\n",
       "<style scoped>\n",
       "    .dataframe tbody tr th:only-of-type {\n",
       "        vertical-align: middle;\n",
       "    }\n",
       "\n",
       "    .dataframe tbody tr th {\n",
       "        vertical-align: top;\n",
       "    }\n",
       "\n",
       "    .dataframe thead th {\n",
       "        text-align: right;\n",
       "    }\n",
       "</style>\n",
       "<table border=\"1\" class=\"dataframe\">\n",
       "  <thead>\n",
       "    <tr style=\"text-align: right;\">\n",
       "      <th></th>\n",
       "      <th>feature</th>\n",
       "      <th>coef</th>\n",
       "    </tr>\n",
       "  </thead>\n",
       "  <tbody>\n",
       "    <tr>\n",
       "      <th>0</th>\n",
       "      <td>sales_avg_M_2</td>\n",
       "      <td>-0.019503</td>\n",
       "    </tr>\n",
       "    <tr>\n",
       "      <th>1</th>\n",
       "      <td>sales_avg_M_3</td>\n",
       "      <td>0.383985</td>\n",
       "    </tr>\n",
       "    <tr>\n",
       "      <th>2</th>\n",
       "      <td>sales_avg_M_4</td>\n",
       "      <td>-0.492991</td>\n",
       "    </tr>\n",
       "    <tr>\n",
       "      <th>3</th>\n",
       "      <td>sales_avg_M_5</td>\n",
       "      <td>-0.404774</td>\n",
       "    </tr>\n",
       "    <tr>\n",
       "      <th>4</th>\n",
       "      <td>sales_avg_M_6</td>\n",
       "      <td>-0.181756</td>\n",
       "    </tr>\n",
       "    <tr>\n",
       "      <th>5</th>\n",
       "      <td>sales_avg_M_7</td>\n",
       "      <td>-0.064752</td>\n",
       "    </tr>\n",
       "    <tr>\n",
       "      <th>6</th>\n",
       "      <td>sales_avg_M_8</td>\n",
       "      <td>-0.056369</td>\n",
       "    </tr>\n",
       "    <tr>\n",
       "      <th>7</th>\n",
       "      <td>sales_avg_M_9</td>\n",
       "      <td>0.550061</td>\n",
       "    </tr>\n",
       "    <tr>\n",
       "      <th>8</th>\n",
       "      <td>sales_count_M_2</td>\n",
       "      <td>117.946133</td>\n",
       "    </tr>\n",
       "    <tr>\n",
       "      <th>9</th>\n",
       "      <td>sales_count_M_3</td>\n",
       "      <td>61.024052</td>\n",
       "    </tr>\n",
       "    <tr>\n",
       "      <th>10</th>\n",
       "      <td>sales_count_M_4</td>\n",
       "      <td>-101.844205</td>\n",
       "    </tr>\n",
       "    <tr>\n",
       "      <th>11</th>\n",
       "      <td>sales_count_M_5</td>\n",
       "      <td>-7.146693</td>\n",
       "    </tr>\n",
       "    <tr>\n",
       "      <th>12</th>\n",
       "      <td>sales_count_M_6</td>\n",
       "      <td>-54.187534</td>\n",
       "    </tr>\n",
       "    <tr>\n",
       "      <th>13</th>\n",
       "      <td>sales_count_M_7</td>\n",
       "      <td>25.855800</td>\n",
       "    </tr>\n",
       "    <tr>\n",
       "      <th>14</th>\n",
       "      <td>sales_count_M_8</td>\n",
       "      <td>-7.157917</td>\n",
       "    </tr>\n",
       "    <tr>\n",
       "      <th>15</th>\n",
       "      <td>sales_count_M_9</td>\n",
       "      <td>-71.682840</td>\n",
       "    </tr>\n",
       "    <tr>\n",
       "      <th>16</th>\n",
       "      <td>sales_sum_M_2</td>\n",
       "      <td>0.133562</td>\n",
       "    </tr>\n",
       "    <tr>\n",
       "      <th>17</th>\n",
       "      <td>sales_sum_M_3</td>\n",
       "      <td>-0.109706</td>\n",
       "    </tr>\n",
       "    <tr>\n",
       "      <th>18</th>\n",
       "      <td>sales_sum_M_4</td>\n",
       "      <td>0.505658</td>\n",
       "    </tr>\n",
       "    <tr>\n",
       "      <th>19</th>\n",
       "      <td>sales_sum_M_5</td>\n",
       "      <td>0.402367</td>\n",
       "    </tr>\n",
       "    <tr>\n",
       "      <th>20</th>\n",
       "      <td>sales_sum_M_6</td>\n",
       "      <td>0.112520</td>\n",
       "    </tr>\n",
       "    <tr>\n",
       "      <th>21</th>\n",
       "      <td>sales_sum_M_7</td>\n",
       "      <td>-0.129126</td>\n",
       "    </tr>\n",
       "    <tr>\n",
       "      <th>22</th>\n",
       "      <td>sales_sum_M_8</td>\n",
       "      <td>0.047013</td>\n",
       "    </tr>\n",
       "    <tr>\n",
       "      <th>23</th>\n",
       "      <td>sales_sum_M_9</td>\n",
       "      <td>-0.176454</td>\n",
       "    </tr>\n",
       "  </tbody>\n",
       "</table>\n",
       "</div>"
      ],
      "text/plain": [
       "            feature        coef\n",
       "0     sales_avg_M_2   -0.019503\n",
       "1     sales_avg_M_3    0.383985\n",
       "2     sales_avg_M_4   -0.492991\n",
       "3     sales_avg_M_5   -0.404774\n",
       "4     sales_avg_M_6   -0.181756\n",
       "5     sales_avg_M_7   -0.064752\n",
       "6     sales_avg_M_8   -0.056369\n",
       "7     sales_avg_M_9    0.550061\n",
       "8   sales_count_M_2  117.946133\n",
       "9   sales_count_M_3   61.024052\n",
       "10  sales_count_M_4 -101.844205\n",
       "11  sales_count_M_5   -7.146693\n",
       "12  sales_count_M_6  -54.187534\n",
       "13  sales_count_M_7   25.855800\n",
       "14  sales_count_M_8   -7.157917\n",
       "15  sales_count_M_9  -71.682840\n",
       "16    sales_sum_M_2    0.133562\n",
       "17    sales_sum_M_3   -0.109706\n",
       "18    sales_sum_M_4    0.505658\n",
       "19    sales_sum_M_5    0.402367\n",
       "20    sales_sum_M_6    0.112520\n",
       "21    sales_sum_M_7   -0.129126\n",
       "22    sales_sum_M_8    0.047013\n",
       "23    sales_sum_M_9   -0.176454"
      ]
     },
     "execution_count": 94,
     "metadata": {},
     "output_type": "execute_result"
    }
   ],
   "source": [
    "coef"
   ]
  },
  {
   "cell_type": "markdown",
   "metadata": {},
   "source": [
    "### Evaluate the model"
   ]
  },
  {
   "cell_type": "code",
   "execution_count": 95,
   "metadata": {},
   "outputs": [],
   "source": [
    "from sklearn.metrics import r2_score, median_absolute_error"
   ]
  },
  {
   "cell_type": "code",
   "execution_count": 96,
   "metadata": {},
   "outputs": [],
   "source": [
    "train_preds =  lin_reg.predict(X_train)\n",
    "test_preds = lin_reg.predict(X_test)"
   ]
  },
  {
   "cell_type": "markdown",
   "metadata": {},
   "source": [
    "#### R-Squared"
   ]
  },
  {
   "cell_type": "code",
   "execution_count": 97,
   "metadata": {},
   "outputs": [
    {
     "name": "stdout",
     "output_type": "stream",
     "text": [
      "R-Squared for Train set: 0.88\n",
      "R-Squared for Test set: 0.57\n"
     ]
    }
   ],
   "source": [
    "print('R-Squared for Train set: %0.2f' % r2_score(y_true=y_train, y_pred=train_preds))\n",
    "print('R-Squared for Test set: %0.2f' % r2_score(y_true=y_test, y_pred=test_preds))"
   ]
  },
  {
   "cell_type": "markdown",
   "metadata": {},
   "source": [
    "R-Squared is the same for the train and test sets. Therefore, we do not have any overfitting or underfitting of the model."
   ]
  },
  {
   "cell_type": "markdown",
   "metadata": {},
   "source": [
    "#### Median Absolute Error"
   ]
  },
  {
   "cell_type": "code",
   "execution_count": 98,
   "metadata": {},
   "outputs": [
    {
     "name": "stdout",
     "output_type": "stream",
     "text": [
      "MedAE for Train set: 137.13\n",
      "MedAE for Test set: 141.01\n"
     ]
    }
   ],
   "source": [
    "print('MedAE for Train set: %0.2f' % median_absolute_error(y_true=y_train, y_pred=train_preds))\n",
    "print('MedAE for Test set: %0.2f' % median_absolute_error(y_true=y_test, y_pred=test_preds))"
   ]
  },
  {
   "cell_type": "markdown",
   "metadata": {},
   "source": [
    "MedAE has a small difference between test and train sets."
   ]
  },
  {
   "cell_type": "code",
   "execution_count": 99,
   "metadata": {},
   "outputs": [
    {
     "data": {
      "text/plain": [
       "count     1904.000000\n",
       "mean       400.930247\n",
       "std       2306.086184\n",
       "min          0.000000\n",
       "25%          0.000000\n",
       "50%          0.000000\n",
       "75%        313.552500\n",
       "max      68012.350000\n",
       "Name: CLV_3M, dtype: float64"
      ]
     },
     "execution_count": 99,
     "metadata": {},
     "output_type": "execute_result"
    }
   ],
   "source": [
    "y_test.describe()"
   ]
  },
  {
   "cell_type": "markdown",
   "metadata": {},
   "source": [
    "#### Scatter plot"
   ]
  },
  {
   "cell_type": "code",
   "execution_count": 100,
   "metadata": {},
   "outputs": [
    {
     "data": {
      "image/png": "[encoded data removed]",
      "text/plain": [
       "<Figure size 640x480 with 1 Axes>"
      ]
     },
     "metadata": {
      "needs_background": "light"
     },
     "output_type": "display_data"
    }
   ],
   "source": [
    "plt.figure(figsize=(8, 6), dpi=80)\n",
    "plt.scatter(y_train, train_preds, color='dodgerblue')\n",
    "plt.plot([0, max(y_train)], [0, max(train_preds)], color='gray', lw=1, linestyle='--')\n",
    "\n",
    "plt.xlabel('Actual 3-month CLTV', fontsize=14)\n",
    "plt.ylabel('Predicted 3-month CLTV', fontsize=14)\n",
    "plt.title('Actual vs. Predicted 3-month CLTV', fontsize=16)\n",
    "plt.grid()"
   ]
  },
  {
   "cell_type": "code",
   "execution_count": 101,
   "metadata": {},
   "outputs": [
    {
     "data": {
      "image/png": "[encoded data removed]",
      "text/plain": [
       "<Figure size 640x480 with 1 Axes>"
      ]
     },
     "metadata": {
      "needs_background": "light"
     },
     "output_type": "display_data"
    }
   ],
   "source": [
    "plt.figure(figsize=(8, 6), dpi=80)\n",
    "plt.scatter(y_test, test_preds, color='dodgerblue')\n",
    "plt.plot([0, max(y_test)], [0, max(test_preds)], color='gray', lw=1, linestyle='--')\n",
    "\n",
    "plt.xlabel('Actual Values', fontsize=14)\n",
    "plt.ylabel('Predicted Values', fontsize=14)\n",
    "plt.title('Actual vs. Predicted for Test Set', fontsize=16)\n",
    "plt.grid()"
   ]
  },
  {
   "cell_type": "markdown",
   "metadata": {},
   "source": [
    "As you can see on this plot, the x-axis is the actual values and the y-axis represents the predicted values. Closer the dots are located to the straight diagonal line, better predictions are."
   ]
  },
  {
   "cell_type": "markdown",
   "metadata": {},
   "source": [
    "<a id='summary'></a>\n",
    "## Summary"
   ]
  },
  {
   "cell_type": "markdown",
   "metadata": {},
   "source": [
    "* Based on the data analysis, we found that the repeat customers tend to make about 12 purchases or less within a year and the majority of repeat customers tend to make a purchase every 12 to 50 days\n",
    "* We predicted 3-month CLTV for customers of the online retail using linear regression\n",
    "* R-squared value for the test set is 0.71, which is not great but it is a good benchmark to try other regression models such as Epsilon-Support Vector Regression and Random Forest Regressor\n",
    "* By knowing CLTV, we can develop positive ROI strategies and make decisions about how much money to invest in acquiring new customers and retaining existing ones."
   ]
  },
  {
   "cell_type": "markdown",
   "metadata": {},
   "source": [
    "<a id='reference'></a>\n",
    "## References"
   ]
  },
  {
   "cell_type": "markdown",
   "metadata": {},
   "source": [
    "1. Hwang, Y. H. (2019). Hands-on data science for marketing: Improve your marketing strategies with machine learning using Python and R. Birmingham, UK: Packt Publishing.\n",
    "2. Müller, A. C., &amp; Guido, S. (2018). Introduction to machine learning with Python: A guide for data scientists. Sebastopol, CA: O'Reilly Media.\n",
    "3. Jeffery, M. (2010). Data-driven marketing the 15 metrics everyone in marketing should know. Hoboken (N.J.), Canada: John Wiley.\n",
    "4. Customer lifetime Value (CLV) definition - what is customer lifetime Value (CLV). (n.d.). Retrieved February 07, 2021, from https://www.shopify.com/encyclopedia/customer-lifetime-value-clv#:~:text=The%20lifetime%20value%20of%20a,your%20products%2C%20during%20their%20lifetime."
   ]
  },
  {
   "cell_type": "code",
   "execution_count": 102,
   "metadata": {},
   "outputs": [
    {
     "data": {
      "application/javascript": [
       "\n",
       "        if (window._pyforest_update_imports_cell) { window._pyforest_update_imports_cell('from sklearn.preprocessing import MinMaxScaler'); }\n",
       "    "
      ],
      "text/plain": [
       "<IPython.core.display.Javascript object>"
      ]
     },
     "metadata": {},
     "output_type": "display_data"
    },
    {
     "name": "stdout",
     "output_type": "stream",
     "text": [
      "Mean train set MAE for Huber Regression : 109.1306\n",
      "Mean train set R2 for Huber Regression : 0.8589\n",
      "Mean test sets MAE for Huber Regression : 107.2729\n",
      "Mean test sets R2 for Huber Regression : 0.5034\n"
     ]
    }
   ],
   "source": [
    "from sklearn import linear_model\n",
    "from sklearn.model_selection import cross_validate\n",
    "from math import sqrt\n",
    "scaler = MinMaxScaler()\n",
    "fit = scaler.fit(X_train)\n",
    "fitted_X_train = fit.transform(X_train)\n",
    "fitted_X_test = fit.transform(X_test)\n",
    "\n",
    "\n",
    "lasso = linear_model.Lasso()\n",
    "#huber.fit(X,y)\n",
    "#HuberRegressor()\n",
    "\n",
    "scores = cross_validate(lasso, fitted_X_train, y_train,scoring = ['neg_median_absolute_error', 'r2'], cv=4, return_train_score = True)\n",
    "print('Mean train set MAE for Huber Regression : {0:.4f}'.format(-scores['train_neg_median_absolute_error'].mean()))\n",
    "print('Mean train set R2 for Huber Regression : {0:.4f}'.format(scores['train_r2'].mean()))\n",
    "\n",
    "print('Mean test sets MAE for Huber Regression : {0:.4f}'.format(-scores['test_neg_median_absolute_error'].mean()))\n",
    "print('Mean test sets R2 for Huber Regression : {0:.4f}'.format(scores['test_r2'].mean()))"
   ]
  },
  {
   "cell_type": "code",
   "execution_count": 113,
   "metadata": {},
   "outputs": [
    {
     "data": {
      "application/javascript": [
       "\n",
       "        if (window._pyforest_update_imports_cell) { window._pyforest_update_imports_cell('from sklearn.linear_model import Lasso\\nfrom sklearn.preprocessing import MinMaxScaler'); }\n",
       "    "
      ],
      "text/plain": [
       "<IPython.core.display.Javascript object>"
      ]
     },
     "metadata": {},
     "output_type": "display_data"
    },
    {
     "name": "stdout",
     "output_type": "stream",
     "text": [
      "Train set MedAE for alpha=0.0001 is 137.12483516339216\n",
      "Test set MedAE for alpha=0.0001 is 141.00393040962734\n",
      "Train set R2 for alpha=0.0001 is 0.8823515430021982\n",
      "Test set R2 for alpha=0.0001 is 0.5663984338836\n"
     ]
    },
    {
     "data": {
      "application/javascript": [
       "\n",
       "        if (window._pyforest_update_imports_cell) { window._pyforest_update_imports_cell('from sklearn.linear_model import Lasso\\nfrom sklearn.preprocessing import MinMaxScaler'); }\n",
       "    "
      ],
      "text/plain": [
       "<IPython.core.display.Javascript object>"
      ]
     },
     "metadata": {},
     "output_type": "display_data"
    },
    {
     "name": "stdout",
     "output_type": "stream",
     "text": [
      "Train set MedAE for alpha=0.001 is 136.9845777443779\n",
      "Test set MedAE for alpha=0.001 is 140.93767068369988\n",
      "Train set R2 for alpha=0.001 is 0.8823514415935709\n",
      "Test set R2 for alpha=0.001 is 0.5666410988346904\n"
     ]
    },
    {
     "data": {
      "application/javascript": [
       "\n",
       "        if (window._pyforest_update_imports_cell) { window._pyforest_update_imports_cell('from sklearn.linear_model import Lasso\\nfrom sklearn.preprocessing import MinMaxScaler'); }\n",
       "    "
      ],
      "text/plain": [
       "<IPython.core.display.Javascript object>"
      ]
     },
     "metadata": {},
     "output_type": "display_data"
    },
    {
     "name": "stdout",
     "output_type": "stream",
     "text": [
      "Train set MedAE for alpha=0.01 is 135.28428562006332\n",
      "Test set MedAE for alpha=0.01 is 140.71155232283098\n",
      "Train set R2 for alpha=0.01 is 0.8823411108366263\n",
      "Test set R2 for alpha=0.01 is 0.5690581436389648\n"
     ]
    },
    {
     "data": {
      "application/javascript": [
       "\n",
       "        if (window._pyforest_update_imports_cell) { window._pyforest_update_imports_cell('from sklearn.linear_model import Lasso\\nfrom sklearn.preprocessing import MinMaxScaler'); }\n",
       "    "
      ],
      "text/plain": [
       "<IPython.core.display.Javascript object>"
      ]
     },
     "metadata": {},
     "output_type": "display_data"
    },
    {
     "name": "stdout",
     "output_type": "stream",
     "text": [
      "Train set MedAE for alpha=0.5 is 113.40722467298609\n",
      "Test set MedAE for alpha=0.5 is 127.02698073762537\n",
      "Train set R2 for alpha=0.5 is 0.8740904147464427\n",
      "Test set R2 for alpha=0.5 is 0.6178543240824255\n"
     ]
    },
    {
     "data": {
      "application/javascript": [
       "\n",
       "        if (window._pyforest_update_imports_cell) { window._pyforest_update_imports_cell('from sklearn.linear_model import Lasso\\nfrom sklearn.preprocessing import MinMaxScaler'); }\n",
       "    "
      ],
      "text/plain": [
       "<IPython.core.display.Javascript object>"
      ]
     },
     "metadata": {},
     "output_type": "display_data"
    },
    {
     "name": "stdout",
     "output_type": "stream",
     "text": [
      "Train set MedAE for alpha=1 is 106.2919185444338\n",
      "Test set MedAE for alpha=1 is 118.61181286462296\n",
      "Train set R2 for alpha=1 is 0.8624423935849912\n",
      "Test set R2 for alpha=1 is 0.6318928749836876\n"
     ]
    },
    {
     "data": {
      "application/javascript": [
       "\n",
       "        if (window._pyforest_update_imports_cell) { window._pyforest_update_imports_cell('from sklearn.linear_model import Lasso\\nfrom sklearn.preprocessing import MinMaxScaler'); }\n",
       "    "
      ],
      "text/plain": [
       "<IPython.core.display.Javascript object>"
      ]
     },
     "metadata": {},
     "output_type": "display_data"
    },
    {
     "name": "stdout",
     "output_type": "stream",
     "text": [
      "Train set MedAE for alpha=2 is 97.09618063998104\n",
      "Test set MedAE for alpha=2 is 103.0052239557229\n",
      "Train set R2 for alpha=2 is 0.8495821412349172\n",
      "Test set R2 for alpha=2 is 0.6387411599020253\n"
     ]
    },
    {
     "data": {
      "application/javascript": [
       "\n",
       "        if (window._pyforest_update_imports_cell) { window._pyforest_update_imports_cell('from sklearn.linear_model import Lasso\\nfrom sklearn.preprocessing import MinMaxScaler'); }\n",
       "    "
      ],
      "text/plain": [
       "<IPython.core.display.Javascript object>"
      ]
     },
     "metadata": {},
     "output_type": "display_data"
    },
    {
     "name": "stdout",
     "output_type": "stream",
     "text": [
      "Train set MedAE for alpha=5 is 108.75030450369778\n",
      "Test set MedAE for alpha=5 is 112.5890206511118\n",
      "Train set R2 for alpha=5 is 0.826534778993187\n",
      "Test set R2 for alpha=5 is 0.6474661194259186\n"
     ]
    },
    {
     "data": {
      "application/javascript": [
       "\n",
       "        if (window._pyforest_update_imports_cell) { window._pyforest_update_imports_cell('from sklearn.linear_model import Lasso\\nfrom sklearn.preprocessing import MinMaxScaler'); }\n",
       "    "
      ],
      "text/plain": [
       "<IPython.core.display.Javascript object>"
      ]
     },
     "metadata": {},
     "output_type": "display_data"
    },
    {
     "name": "stdout",
     "output_type": "stream",
     "text": [
      "Train set MedAE for alpha=8 is 113.03786289675904\n",
      "Test set MedAE for alpha=8 is 119.38246045048889\n",
      "Train set R2 for alpha=8 is 0.8014430365673704\n",
      "Test set R2 for alpha=8 is 0.6490903238311521\n"
     ]
    },
    {
     "data": {
      "application/javascript": [
       "\n",
       "        if (window._pyforest_update_imports_cell) { window._pyforest_update_imports_cell('from sklearn.linear_model import Lasso\\nfrom sklearn.preprocessing import MinMaxScaler'); }\n",
       "    "
      ],
      "text/plain": [
       "<IPython.core.display.Javascript object>"
      ]
     },
     "metadata": {},
     "output_type": "display_data"
    },
    {
     "name": "stdout",
     "output_type": "stream",
     "text": [
      "Train set MedAE for alpha=10 is 119.37488973723895\n",
      "Test set MedAE for alpha=10 is 123.93577720127104\n",
      "Train set R2 for alpha=10 is 0.7784485878892745\n",
      "Test set R2 for alpha=10 is 0.6467538361529628\n"
     ]
    },
    {
     "data": {
      "application/javascript": [
       "\n",
       "        if (window._pyforest_update_imports_cell) { window._pyforest_update_imports_cell('from sklearn.linear_model import Lasso\\nfrom sklearn.preprocessing import MinMaxScaler'); }\n",
       "    "
      ],
      "text/plain": [
       "<IPython.core.display.Javascript object>"
      ]
     },
     "metadata": {},
     "output_type": "display_data"
    },
    {
     "name": "stdout",
     "output_type": "stream",
     "text": [
      "Train set MedAE for alpha=13 is 127.41503224727566\n",
      "Test set MedAE for alpha=13 is 129.3799846367932\n",
      "Train set R2 for alpha=13 is 0.7392398653281844\n",
      "Test set R2 for alpha=13 is 0.6349986619477689\n"
     ]
    },
    {
     "data": {
      "text/html": [
       "<div>\n",
       "<style scoped>\n",
       "    .dataframe tbody tr th:only-of-type {\n",
       "        vertical-align: middle;\n",
       "    }\n",
       "\n",
       "    .dataframe tbody tr th {\n",
       "        vertical-align: top;\n",
       "    }\n",
       "\n",
       "    .dataframe thead th {\n",
       "        text-align: right;\n",
       "    }\n",
       "</style>\n",
       "<table border=\"1\" class=\"dataframe\">\n",
       "  <thead>\n",
       "    <tr style=\"text-align: right;\">\n",
       "      <th></th>\n",
       "      <th>Feature Name</th>\n",
       "      <th>Alpha = 0.000100</th>\n",
       "      <th>Alpha = 0.001000</th>\n",
       "      <th>Alpha = 0.010000</th>\n",
       "      <th>Alpha = 0.500000</th>\n",
       "      <th>Alpha = 1.000000</th>\n",
       "      <th>Alpha = 2.000000</th>\n",
       "      <th>Alpha = 5.000000</th>\n",
       "      <th>Alpha = 8.000000</th>\n",
       "      <th>Alpha = 10.000000</th>\n",
       "      <th>Alpha = 13.000000</th>\n",
       "    </tr>\n",
       "  </thead>\n",
       "  <tbody>\n",
       "    <tr>\n",
       "      <th>0</th>\n",
       "      <td>sales_avg_M_2</td>\n",
       "      <td>-139.268686</td>\n",
       "      <td>-137.151384</td>\n",
       "      <td>-116.422764</td>\n",
       "      <td>0.000000</td>\n",
       "      <td>0.000000</td>\n",
       "      <td>0.000000</td>\n",
       "      <td>0.000000</td>\n",
       "      <td>278.401314</td>\n",
       "      <td>508.927297</td>\n",
       "      <td>914.049395</td>\n",
       "    </tr>\n",
       "    <tr>\n",
       "      <th>1</th>\n",
       "      <td>sales_avg_M_3</td>\n",
       "      <td>5106.807496</td>\n",
       "      <td>5085.742909</td>\n",
       "      <td>4874.270801</td>\n",
       "      <td>568.417812</td>\n",
       "      <td>0.000000</td>\n",
       "      <td>0.000000</td>\n",
       "      <td>0.000000</td>\n",
       "      <td>0.000000</td>\n",
       "      <td>0.000000</td>\n",
       "      <td>0.000000</td>\n",
       "    </tr>\n",
       "    <tr>\n",
       "      <th>2</th>\n",
       "      <td>sales_avg_M_4</td>\n",
       "      <td>-38045.264106</td>\n",
       "      <td>-37996.744202</td>\n",
       "      <td>-37500.059563</td>\n",
       "      <td>-18730.601813</td>\n",
       "      <td>-5170.884922</td>\n",
       "      <td>-0.000000</td>\n",
       "      <td>-0.000000</td>\n",
       "      <td>0.000000</td>\n",
       "      <td>0.000000</td>\n",
       "      <td>0.000000</td>\n",
       "    </tr>\n",
       "    <tr>\n",
       "      <th>3</th>\n",
       "      <td>sales_avg_M_5</td>\n",
       "      <td>-2444.773875</td>\n",
       "      <td>-2444.415592</td>\n",
       "      <td>-2439.785713</td>\n",
       "      <td>-2300.764854</td>\n",
       "      <td>-2311.085348</td>\n",
       "      <td>-1738.034366</td>\n",
       "      <td>-0.000000</td>\n",
       "      <td>-0.000000</td>\n",
       "      <td>-0.000000</td>\n",
       "      <td>0.000000</td>\n",
       "    </tr>\n",
       "    <tr>\n",
       "      <th>4</th>\n",
       "      <td>sales_avg_M_6</td>\n",
       "      <td>-2413.314353</td>\n",
       "      <td>-2408.544736</td>\n",
       "      <td>-2362.205830</td>\n",
       "      <td>-783.491807</td>\n",
       "      <td>-76.264924</td>\n",
       "      <td>-0.000000</td>\n",
       "      <td>0.000000</td>\n",
       "      <td>0.000000</td>\n",
       "      <td>0.000000</td>\n",
       "      <td>0.000000</td>\n",
       "    </tr>\n",
       "    <tr>\n",
       "      <th>5</th>\n",
       "      <td>sales_avg_M_7</td>\n",
       "      <td>-527.281635</td>\n",
       "      <td>-528.413491</td>\n",
       "      <td>-539.550612</td>\n",
       "      <td>-770.759120</td>\n",
       "      <td>-288.677358</td>\n",
       "      <td>-0.000000</td>\n",
       "      <td>0.000000</td>\n",
       "      <td>0.000000</td>\n",
       "      <td>0.000000</td>\n",
       "      <td>0.000000</td>\n",
       "    </tr>\n",
       "    <tr>\n",
       "      <th>6</th>\n",
       "      <td>sales_avg_M_8</td>\n",
       "      <td>-616.758246</td>\n",
       "      <td>-610.548050</td>\n",
       "      <td>-549.351199</td>\n",
       "      <td>0.000000</td>\n",
       "      <td>-0.000000</td>\n",
       "      <td>0.000000</td>\n",
       "      <td>0.000000</td>\n",
       "      <td>0.000000</td>\n",
       "      <td>0.000000</td>\n",
       "      <td>0.000000</td>\n",
       "    </tr>\n",
       "    <tr>\n",
       "      <th>7</th>\n",
       "      <td>sales_avg_M_9</td>\n",
       "      <td>2408.842351</td>\n",
       "      <td>2404.993338</td>\n",
       "      <td>2367.184685</td>\n",
       "      <td>1490.451460</td>\n",
       "      <td>1201.275009</td>\n",
       "      <td>733.473480</td>\n",
       "      <td>0.000000</td>\n",
       "      <td>0.000000</td>\n",
       "      <td>0.000000</td>\n",
       "      <td>0.000000</td>\n",
       "    </tr>\n",
       "    <tr>\n",
       "      <th>8</th>\n",
       "      <td>sales_count_M_2</td>\n",
       "      <td>6604.400664</td>\n",
       "      <td>6599.542419</td>\n",
       "      <td>6547.279643</td>\n",
       "      <td>4057.860210</td>\n",
       "      <td>2501.781784</td>\n",
       "      <td>967.657085</td>\n",
       "      <td>0.000000</td>\n",
       "      <td>0.000000</td>\n",
       "      <td>0.000000</td>\n",
       "      <td>0.000000</td>\n",
       "    </tr>\n",
       "    <tr>\n",
       "      <th>9</th>\n",
       "      <td>sales_count_M_3</td>\n",
       "      <td>2806.354127</td>\n",
       "      <td>2799.482867</td>\n",
       "      <td>2730.454530</td>\n",
       "      <td>1218.645094</td>\n",
       "      <td>396.189271</td>\n",
       "      <td>0.000000</td>\n",
       "      <td>0.000000</td>\n",
       "      <td>0.000000</td>\n",
       "      <td>0.000000</td>\n",
       "      <td>0.000000</td>\n",
       "    </tr>\n",
       "    <tr>\n",
       "      <th>10</th>\n",
       "      <td>sales_count_M_4</td>\n",
       "      <td>-2545.654575</td>\n",
       "      <td>-2541.764216</td>\n",
       "      <td>-2501.639938</td>\n",
       "      <td>-603.345303</td>\n",
       "      <td>0.000000</td>\n",
       "      <td>0.000000</td>\n",
       "      <td>52.114568</td>\n",
       "      <td>61.019579</td>\n",
       "      <td>64.441562</td>\n",
       "      <td>31.393600</td>\n",
       "    </tr>\n",
       "    <tr>\n",
       "      <th>11</th>\n",
       "      <td>sales_count_M_5</td>\n",
       "      <td>-570.749388</td>\n",
       "      <td>-562.369220</td>\n",
       "      <td>-474.716843</td>\n",
       "      <td>0.000000</td>\n",
       "      <td>0.000000</td>\n",
       "      <td>0.000000</td>\n",
       "      <td>0.000000</td>\n",
       "      <td>0.000000</td>\n",
       "      <td>0.000000</td>\n",
       "      <td>0.000000</td>\n",
       "    </tr>\n",
       "    <tr>\n",
       "      <th>12</th>\n",
       "      <td>sales_count_M_6</td>\n",
       "      <td>-3250.972972</td>\n",
       "      <td>-3248.505806</td>\n",
       "      <td>-3221.757967</td>\n",
       "      <td>-1470.047268</td>\n",
       "      <td>-737.667060</td>\n",
       "      <td>-0.000000</td>\n",
       "      <td>0.000000</td>\n",
       "      <td>0.000000</td>\n",
       "      <td>0.000000</td>\n",
       "      <td>0.000000</td>\n",
       "    </tr>\n",
       "    <tr>\n",
       "      <th>13</th>\n",
       "      <td>sales_count_M_7</td>\n",
       "      <td>981.691886</td>\n",
       "      <td>974.357381</td>\n",
       "      <td>900.369565</td>\n",
       "      <td>-963.540920</td>\n",
       "      <td>-1013.430182</td>\n",
       "      <td>-0.000000</td>\n",
       "      <td>-0.000000</td>\n",
       "      <td>0.000000</td>\n",
       "      <td>0.000000</td>\n",
       "      <td>0.000000</td>\n",
       "    </tr>\n",
       "    <tr>\n",
       "      <th>14</th>\n",
       "      <td>sales_count_M_8</td>\n",
       "      <td>-307.634563</td>\n",
       "      <td>-306.092853</td>\n",
       "      <td>-292.083535</td>\n",
       "      <td>-179.435510</td>\n",
       "      <td>-0.000000</td>\n",
       "      <td>-0.000000</td>\n",
       "      <td>0.000000</td>\n",
       "      <td>0.000000</td>\n",
       "      <td>0.000000</td>\n",
       "      <td>0.000000</td>\n",
       "    </tr>\n",
       "    <tr>\n",
       "      <th>15</th>\n",
       "      <td>sales_count_M_9</td>\n",
       "      <td>-1075.442066</td>\n",
       "      <td>-1077.211873</td>\n",
       "      <td>-1095.325558</td>\n",
       "      <td>-1515.175943</td>\n",
       "      <td>-1486.096839</td>\n",
       "      <td>-956.642109</td>\n",
       "      <td>-0.000000</td>\n",
       "      <td>0.000000</td>\n",
       "      <td>0.000000</td>\n",
       "      <td>0.000000</td>\n",
       "    </tr>\n",
       "    <tr>\n",
       "      <th>16</th>\n",
       "      <td>sales_sum_M_2</td>\n",
       "      <td>13358.726500</td>\n",
       "      <td>13359.172465</td>\n",
       "      <td>13374.877428</td>\n",
       "      <td>17061.446796</td>\n",
       "      <td>19187.809742</td>\n",
       "      <td>20057.042827</td>\n",
       "      <td>17384.464595</td>\n",
       "      <td>14280.287431</td>\n",
       "      <td>12121.127562</td>\n",
       "      <td>7650.029044</td>\n",
       "    </tr>\n",
       "    <tr>\n",
       "      <th>17</th>\n",
       "      <td>sales_sum_M_3</td>\n",
       "      <td>-6212.792171</td>\n",
       "      <td>-6170.453759</td>\n",
       "      <td>-5744.144563</td>\n",
       "      <td>2906.176061</td>\n",
       "      <td>6409.756746</td>\n",
       "      <td>7909.624873</td>\n",
       "      <td>8443.844853</td>\n",
       "      <td>8640.138837</td>\n",
       "      <td>8736.801828</td>\n",
       "      <td>8232.779202</td>\n",
       "    </tr>\n",
       "    <tr>\n",
       "      <th>18</th>\n",
       "      <td>sales_sum_M_4</td>\n",
       "      <td>39023.440626</td>\n",
       "      <td>38978.783129</td>\n",
       "      <td>38521.703617</td>\n",
       "      <td>21785.765579</td>\n",
       "      <td>10142.709781</td>\n",
       "      <td>5372.542948</td>\n",
       "      <td>3176.406885</td>\n",
       "      <td>1193.641983</td>\n",
       "      <td>0.000000</td>\n",
       "      <td>0.000000</td>\n",
       "    </tr>\n",
       "    <tr>\n",
       "      <th>19</th>\n",
       "      <td>sales_sum_M_5</td>\n",
       "      <td>23422.693441</td>\n",
       "      <td>23415.384244</td>\n",
       "      <td>23335.816424</td>\n",
       "      <td>22233.597231</td>\n",
       "      <td>23015.241200</td>\n",
       "      <td>22360.976593</td>\n",
       "      <td>20493.749159</td>\n",
       "      <td>21075.597672</td>\n",
       "      <td>21448.002691</td>\n",
       "      <td>21516.632532</td>\n",
       "    </tr>\n",
       "    <tr>\n",
       "      <th>20</th>\n",
       "      <td>sales_sum_M_6</td>\n",
       "      <td>7832.342401</td>\n",
       "      <td>7822.780978</td>\n",
       "      <td>7723.039149</td>\n",
       "      <td>4031.231585</td>\n",
       "      <td>4045.199771</td>\n",
       "      <td>3730.966953</td>\n",
       "      <td>3522.100697</td>\n",
       "      <td>1761.932026</td>\n",
       "      <td>580.393503</td>\n",
       "      <td>0.000000</td>\n",
       "    </tr>\n",
       "    <tr>\n",
       "      <th>21</th>\n",
       "      <td>sales_sum_M_7</td>\n",
       "      <td>-5818.835411</td>\n",
       "      <td>-5801.519190</td>\n",
       "      <td>-5626.319681</td>\n",
       "      <td>-0.000000</td>\n",
       "      <td>0.000000</td>\n",
       "      <td>0.000000</td>\n",
       "      <td>0.000000</td>\n",
       "      <td>0.000000</td>\n",
       "      <td>0.000000</td>\n",
       "      <td>0.000000</td>\n",
       "    </tr>\n",
       "    <tr>\n",
       "      <th>22</th>\n",
       "      <td>sales_sum_M_8</td>\n",
       "      <td>3259.513722</td>\n",
       "      <td>3238.519897</td>\n",
       "      <td>3033.120758</td>\n",
       "      <td>0.000000</td>\n",
       "      <td>606.751597</td>\n",
       "      <td>0.000000</td>\n",
       "      <td>0.000000</td>\n",
       "      <td>0.000000</td>\n",
       "      <td>0.000000</td>\n",
       "      <td>0.000000</td>\n",
       "    </tr>\n",
       "    <tr>\n",
       "      <th>23</th>\n",
       "      <td>sales_sum_M_9</td>\n",
       "      <td>-3602.772376</td>\n",
       "      <td>-3586.402057</td>\n",
       "      <td>-3422.733342</td>\n",
       "      <td>-0.000000</td>\n",
       "      <td>0.000000</td>\n",
       "      <td>0.000000</td>\n",
       "      <td>0.000000</td>\n",
       "      <td>0.000000</td>\n",
       "      <td>0.000000</td>\n",
       "      <td>0.000000</td>\n",
       "    </tr>\n",
       "  </tbody>\n",
       "</table>\n",
       "</div>"
      ],
      "text/plain": [
       "       Feature Name  Alpha = 0.000100  Alpha = 0.001000  Alpha = 0.010000  \\\n",
       "0     sales_avg_M_2       -139.268686       -137.151384       -116.422764   \n",
       "1     sales_avg_M_3       5106.807496       5085.742909       4874.270801   \n",
       "2     sales_avg_M_4     -38045.264106     -37996.744202     -37500.059563   \n",
       "3     sales_avg_M_5      -2444.773875      -2444.415592      -2439.785713   \n",
       "4     sales_avg_M_6      -2413.314353      -2408.544736      -2362.205830   \n",
       "5     sales_avg_M_7       -527.281635       -528.413491       -539.550612   \n",
       "6     sales_avg_M_8       -616.758246       -610.548050       -549.351199   \n",
       "7     sales_avg_M_9       2408.842351       2404.993338       2367.184685   \n",
       "8   sales_count_M_2       6604.400664       6599.542419       6547.279643   \n",
       "9   sales_count_M_3       2806.354127       2799.482867       2730.454530   \n",
       "10  sales_count_M_4      -2545.654575      -2541.764216      -2501.639938   \n",
       "11  sales_count_M_5       -570.749388       -562.369220       -474.716843   \n",
       "12  sales_count_M_6      -3250.972972      -3248.505806      -3221.757967   \n",
       "13  sales_count_M_7        981.691886        974.357381        900.369565   \n",
       "14  sales_count_M_8       -307.634563       -306.092853       -292.083535   \n",
       "15  sales_count_M_9      -1075.442066      -1077.211873      -1095.325558   \n",
       "16    sales_sum_M_2      13358.726500      13359.172465      13374.877428   \n",
       "17    sales_sum_M_3      -6212.792171      -6170.453759      -5744.144563   \n",
       "18    sales_sum_M_4      39023.440626      38978.783129      38521.703617   \n",
       "19    sales_sum_M_5      23422.693441      23415.384244      23335.816424   \n",
       "20    sales_sum_M_6       7832.342401       7822.780978       7723.039149   \n",
       "21    sales_sum_M_7      -5818.835411      -5801.519190      -5626.319681   \n",
       "22    sales_sum_M_8       3259.513722       3238.519897       3033.120758   \n",
       "23    sales_sum_M_9      -3602.772376      -3586.402057      -3422.733342   \n",
       "\n",
       "    Alpha = 0.500000  Alpha = 1.000000  Alpha = 2.000000  Alpha = 5.000000  \\\n",
       "0           0.000000          0.000000          0.000000          0.000000   \n",
       "1         568.417812          0.000000          0.000000          0.000000   \n",
       "2      -18730.601813      -5170.884922         -0.000000         -0.000000   \n",
       "3       -2300.764854      -2311.085348      -1738.034366         -0.000000   \n",
       "4        -783.491807        -76.264924         -0.000000          0.000000   \n",
       "5        -770.759120       -288.677358         -0.000000          0.000000   \n",
       "6           0.000000         -0.000000          0.000000          0.000000   \n",
       "7        1490.451460       1201.275009        733.473480          0.000000   \n",
       "8        4057.860210       2501.781784        967.657085          0.000000   \n",
       "9        1218.645094        396.189271          0.000000          0.000000   \n",
       "10       -603.345303          0.000000          0.000000         52.114568   \n",
       "11          0.000000          0.000000          0.000000          0.000000   \n",
       "12      -1470.047268       -737.667060         -0.000000          0.000000   \n",
       "13       -963.540920      -1013.430182         -0.000000         -0.000000   \n",
       "14       -179.435510         -0.000000         -0.000000          0.000000   \n",
       "15      -1515.175943      -1486.096839       -956.642109         -0.000000   \n",
       "16      17061.446796      19187.809742      20057.042827      17384.464595   \n",
       "17       2906.176061       6409.756746       7909.624873       8443.844853   \n",
       "18      21785.765579      10142.709781       5372.542948       3176.406885   \n",
       "19      22233.597231      23015.241200      22360.976593      20493.749159   \n",
       "20       4031.231585       4045.199771       3730.966953       3522.100697   \n",
       "21         -0.000000          0.000000          0.000000          0.000000   \n",
       "22          0.000000        606.751597          0.000000          0.000000   \n",
       "23         -0.000000          0.000000          0.000000          0.000000   \n",
       "\n",
       "    Alpha = 8.000000  Alpha = 10.000000  Alpha = 13.000000  \n",
       "0         278.401314         508.927297         914.049395  \n",
       "1           0.000000           0.000000           0.000000  \n",
       "2           0.000000           0.000000           0.000000  \n",
       "3          -0.000000          -0.000000           0.000000  \n",
       "4           0.000000           0.000000           0.000000  \n",
       "5           0.000000           0.000000           0.000000  \n",
       "6           0.000000           0.000000           0.000000  \n",
       "7           0.000000           0.000000           0.000000  \n",
       "8           0.000000           0.000000           0.000000  \n",
       "9           0.000000           0.000000           0.000000  \n",
       "10         61.019579          64.441562          31.393600  \n",
       "11          0.000000           0.000000           0.000000  \n",
       "12          0.000000           0.000000           0.000000  \n",
       "13          0.000000           0.000000           0.000000  \n",
       "14          0.000000           0.000000           0.000000  \n",
       "15          0.000000           0.000000           0.000000  \n",
       "16      14280.287431       12121.127562        7650.029044  \n",
       "17       8640.138837        8736.801828        8232.779202  \n",
       "18       1193.641983           0.000000           0.000000  \n",
       "19      21075.597672       21448.002691       21516.632532  \n",
       "20       1761.932026         580.393503           0.000000  \n",
       "21          0.000000           0.000000           0.000000  \n",
       "22          0.000000           0.000000           0.000000  \n",
       "23          0.000000           0.000000           0.000000  "
      ]
     },
     "execution_count": 113,
     "metadata": {},
     "output_type": "execute_result"
    }
   ],
   "source": [
    "from sklearn.metrics import r2_score\n",
    "import seaborn as sns\n",
    "from statsmodels.formula.api import ols\n",
    "\n",
    "train_medae = []\n",
    "test_medae = []\n",
    "\n",
    "# Create a function called lasso,\n",
    "def lasso(X_train, y_train, alphas, X_test, y_test):\n",
    "    '''\n",
    "    Takes in a list of alphas. Outputs a dataframe containing the coefficients of lasso regressions from each alpha.\n",
    "    '''\n",
    "    # Create an empty data frame\n",
    "    df = pd.DataFrame()\n",
    "    \n",
    "    # Create a column of feature names\n",
    "    df['Feature Name'] = all_features\n",
    "    \n",
    "    # For each alpha value in the list of alpha values,\n",
    "    for alpha in alphas:\n",
    "        # Create a lasso regression with that alpha value,\n",
    "        lasso = Lasso(alpha=alpha)\n",
    "        \n",
    "        # Fit the lasso regression\n",
    "        lasso.fit(X_train, y_train)\n",
    "        \n",
    "        yhat_train = lasso.predict(X_train)\n",
    "        yhat_test = lasso.predict(X_test)\n",
    "        \n",
    "        # Create a column name for that alpha value\n",
    "        column_name = 'Alpha = %f' % alpha\n",
    "\n",
    "        # Create a column of coefficient values\n",
    "        df[column_name] = lasso.coef_\n",
    "        \n",
    "        print('Train set MedAE for alpha=' + str(alpha) + ' is '+ str(median_absolute_error(y_true=y_train, y_pred=yhat_train)))\n",
    "        print('Test set MedAE for alpha=' + str(alpha) + ' is ' + str(median_absolute_error(y_true=y_test, y_pred=yhat_test)))\n",
    "        print('Train set R2 for alpha=' + str(alpha) + ' is ' + str(r2_score(y_train, yhat_train)))\n",
    "        print('Test set R2 for alpha=' + str(alpha) + ' is ' + str(r2_score(y_test, yhat_test)))\n",
    "        \n",
    "        train_medae.append(median_absolute_error(y_true=y_train, y_pred=yhat_train))\n",
    "        test_medae.append(median_absolute_error(y_true=y_test, y_pred=yhat_test))\n",
    "                \n",
    "    # Return the dataframe\n",
    "    return df\n",
    "\n",
    "lasso(fitted_X_train, y_train, [.0001, .001, .01, .5, 1, 2, 5, 8, 10, 13], fitted_X_test, y_test)"
   ]
  },
  {
   "cell_type": "code",
   "execution_count": 114,
   "metadata": {},
   "outputs": [
    {
     "data": {
      "text/plain": [
       "[141.00393040962734,\n",
       " 140.93767068369988,\n",
       " 140.71155232283098,\n",
       " 127.02698073762537,\n",
       " 118.61181286462296,\n",
       " 103.0052239557229,\n",
       " 112.5890206511118,\n",
       " 119.38246045048889,\n",
       " 123.93577720127104,\n",
       " 129.3799846367932]"
      ]
     },
     "execution_count": 114,
     "metadata": {},
     "output_type": "execute_result"
    }
   ],
   "source": [
    "test_medae"
   ]
  },
  {
   "cell_type": "code",
   "execution_count": 149,
   "metadata": {},
   "outputs": [
    {
     "data": {
      "text/plain": [
       "<matplotlib.legend.Legend at 0x15024529bc8>"
      ]
     },
     "execution_count": 149,
     "metadata": {},
     "output_type": "execute_result"
    },
    {
     "data": {
      "image/png": "[encoded data removed]",
      "text/plain": [
       "<Figure size 432x288 with 1 Axes>"
      ]
     },
     "metadata": {
      "needs_background": "light"
     },
     "output_type": "display_data"
    }
   ],
   "source": [
    "# x = [.0001, .001, .01, .5, 1, 2, 5, 8, 10, 13]\n",
    "# y1 = train_medae\n",
    "# y2 = test_medae\n",
    "# # plot lines\n",
    "# ax.plot(x, y1, label = \"Train set MedAE score\")\n",
    "# ax.plot(x, y2, label = \"Test set MedAE score\")\n",
    "# plt.xticks(range(len(x)), x, rotation=45)\n",
    "# plt.legend()\n",
    "# plt.show()\n",
    "\n",
    "f, ax = plt.subplots()\n",
    "\n",
    "x1 = [str(a) for a in x]\n",
    "l = range(len(x))\n",
    "y1 = train_medae\n",
    "y2 = test_medae\n",
    "\n",
    "ax.plot(l, y1, label = \"Train set MedAE score\")\n",
    "ax.plot(l, y2, label = \"Test set MedAE score\")\n",
    "ax.set_xticks(l)\n",
    "ax.set_xticklabels(x1)\n",
    "# ax.set_labels(x='Alpha (Penalty)', y='MedAE score')\n",
    "ax.set_xlabel('Alpha (LASSO Penalty)')\n",
    "ax.set_ylabel('MedAE score')\n",
    "\n",
    "ax.legend()"
   ]
  },
  {
   "cell_type": "code",
   "execution_count": 129,
   "metadata": {},
   "outputs": [
    {
     "data": {
      "text/plain": [
       "[141.00393040962734,\n",
       " 140.93767068369988,\n",
       " 140.71155232283098,\n",
       " 127.02698073762537,\n",
       " 118.61181286462296,\n",
       " 103.0052239557229,\n",
       " 112.5890206511118,\n",
       " 119.38246045048889,\n",
       " 123.93577720127104,\n",
       " 129.3799846367932]"
      ]
     },
     "execution_count": 129,
     "metadata": {},
     "output_type": "execute_result"
    }
   ],
   "source": [
    "test_medae"
   ]
  },
  {
   "cell_type": "code",
   "execution_count": 127,
   "metadata": {},
   "outputs": [
    {
     "data": {
      "text/plain": [
       "[Text(0, 0, '0.0001'),\n",
       " Text(1, 0, '0.001'),\n",
       " Text(2, 0, '0.01'),\n",
       " Text(3, 0, '0.5'),\n",
       " Text(4, 0, '1'),\n",
       " Text(5, 0, '2'),\n",
       " Text(6, 0, '5'),\n",
       " Text(7, 0, '8'),\n",
       " Text(8, 0, '10'),\n",
       " Text(9, 0, '13')]"
      ]
     },
     "execution_count": 127,
     "metadata": {},
     "output_type": "execute_result"
    },
    {
     "data": {
      "image/png": "[encoded data removed]",
      "text/plain": [
       "<Figure size 432x288 with 1 Axes>"
      ]
     },
     "metadata": {
      "needs_background": "light"
     },
     "output_type": "display_data"
    }
   ],
   "source": [
    "f, ax = plt.subplots()\n",
    "\n",
    "ax.plot(x, y1, label = \"Train set MedAE score\")\n",
    "ax.plot(x, y2, label = \"Test set MedAE score\")\n",
    "\n",
    "ax.set_xticks(range(len(x)))\n",
    "ax.set_xticklabels(x)"
   ]
  },
  {
   "cell_type": "code",
   "execution_count": 150,
   "metadata": {},
   "outputs": [
    {
     "name": "stdout",
     "output_type": "stream",
     "text": [
      "                                 OLS Regression Results                                \n",
      "=======================================================================================\n",
      "Dep. Variable:                 CLV_3M   R-squared (uncentered):                   0.884\n",
      "Model:                            OLS   Adj. R-squared (uncentered):              0.883\n",
      "Method:                 Least Squares   F-statistic:                              1116.\n",
      "Date:                Sun, 07 Aug 2022   Prob (F-statistic):                        0.00\n",
      "Time:                        19:41:08   Log-Likelihood:                         -27626.\n",
      "No. Observations:                3534   AIC:                                  5.530e+04\n",
      "Df Residuals:                    3510   BIC:                                  5.545e+04\n",
      "Df Model:                          24                                                  \n",
      "Covariance Type:            nonrobust                                                  \n",
      "===================================================================================\n",
      "                      coef    std err          t      P>|t|      [0.025      0.975]\n",
      "-----------------------------------------------------------------------------------\n",
      "sales_avg_M_2       0.0231      0.037      0.616      0.538      -0.050       0.097\n",
      "sales_avg_M_3       0.4059      0.053      7.710      0.000       0.303       0.509\n",
      "sales_avg_M_4      -0.4475      0.023    -19.257      0.000      -0.493      -0.402\n",
      "sales_avg_M_5      -0.3738      0.038     -9.754      0.000      -0.449      -0.299\n",
      "sales_avg_M_6      -0.1965      0.045     -4.320      0.000      -0.286      -0.107\n",
      "sales_avg_M_7      -0.0341      0.040     -0.849      0.396      -0.113       0.045\n",
      "sales_avg_M_8      -0.0704      0.041     -1.712      0.087      -0.151       0.010\n",
      "sales_avg_M_9       0.5175      0.075      6.864      0.000       0.370       0.665\n",
      "sales_count_M_2   104.7772     11.244      9.318      0.000      82.731     126.823\n",
      "sales_count_M_3    33.1731     11.281      2.941      0.003      11.055      55.291\n",
      "sales_count_M_4          0     13.186          0      1.000     -25.854      25.854\n",
      "sales_count_M_5   -11.3120      8.186     -1.382      0.167     -27.361       4.737\n",
      "sales_count_M_6   -65.0468     11.130     -5.844      0.000     -86.868     -43.226\n",
      "sales_count_M_7    22.3619     12.501      1.789      0.074      -2.148      46.872\n",
      "sales_count_M_8   -15.2852     12.119     -1.261      0.207     -39.046       8.475\n",
      "sales_count_M_9   -50.4404     21.874     -2.306      0.021     -93.327      -7.553\n",
      "sales_sum_M_2       0.1289      0.011     11.366      0.000       0.107       0.151\n",
      "sales_sum_M_3      -0.1024      0.020     -5.128      0.000      -0.142      -0.063\n",
      "sales_sum_M_4       0.4556      0.021     21.231      0.000       0.413       0.498\n",
      "sales_sum_M_5       0.4009      0.014     28.666      0.000       0.373       0.428\n",
      "sales_sum_M_6       0.1457      0.022      6.528      0.000       0.102       0.189\n",
      "sales_sum_M_7      -0.1382      0.020     -7.009      0.000      -0.177      -0.100\n",
      "sales_sum_M_8       0.0624      0.018      3.557      0.000       0.028       0.097\n",
      "sales_sum_M_9      -0.2056      0.049     -4.178      0.000      -0.302      -0.109\n",
      "==============================================================================\n",
      "Omnibus:                     4433.933   Durbin-Watson:                   1.989\n",
      "Prob(Omnibus):                  0.000   Jarque-Bera (JB):          3394329.641\n",
      "Skew:                           6.131   Prob(JB):                         0.00\n",
      "Kurtosis:                     154.331   Cond. No.                     9.88e+03\n",
      "==============================================================================\n",
      "\n",
      "Warnings:\n",
      "[1] Standard Errors assume that the covariance matrix of the errors is correctly specified.\n",
      "[2] The condition number is large, 9.88e+03. This might indicate that there are\n",
      "strong multicollinearity or other numerical problems.\n",
      "Train set MedAE for alpha=2 is 116.65884178495779\n",
      "Test set MedAE for alpha=2 is 128.8752695544877\n",
      "Train set R2 for alpha=2 is 0.8795661547457456\n",
      "Test set R2 for alpha=2 is 0.5658404260293934\n"
     ]
    },
    {
     "data": {
      "image/png": "[encoded data removed]",
      "text/plain": [
       "<Figure size 432x288 with 1 Axes>"
      ]
     },
     "metadata": {
      "needs_background": "light"
     },
     "output_type": "display_data"
    }
   ],
   "source": [
    "# Lasso\n",
    "\n",
    "from sklearn.metrics import r2_score\n",
    "import seaborn as sns\n",
    "import statsmodels.api as sm\n",
    "from statsmodels.tools.tools import pinv_extended\n",
    "# Create a function called lasso,\n",
    "def lasso(X_train, y_train, alphas, X_test, y_test):\n",
    "    '''\n",
    "    Takes in a list of alphas. Outputs a dataframe containing the coefficients of lasso regressions from each alpha.\n",
    "    '''\n",
    "    # For each alpha value in the list of alpha values,\n",
    "    for alpha in alphas:\n",
    "#         # Create a lasso regression with that alpha value,\n",
    "#         lasso = Lasso(alpha=alpha)\n",
    "        \n",
    "#         # Fit the lasso regression\n",
    "#         lasso.fit(X_train, y_train)\n",
    "        \n",
    "#         yhat_train = lasso.predict(X_train)\n",
    "#         yhat_test = lasso.predict(X_test)\n",
    "        \n",
    "#         # Create a column name for that alpha value\n",
    "#         column_name = 'Alpha = %f' % alpha\n",
    "\n",
    "#         # Create a column of coefficient values\n",
    "#         df[column_name] = lasso.coef_\n",
    "        model = sm.OLS(y_train, X_train)\n",
    "        result = model.fit_regularized(\n",
    "                            method = 'elastic_net',\n",
    "                            alpha = alpha,\n",
    "                            L1_wt = 1,\n",
    "                            #refit = True,\n",
    "                            refit = False,\n",
    "                            )\n",
    "        pinv_wexog,_ = pinv_extended(model.wexog)\n",
    "        normalized_cov_params = np.dot(pinv_wexog, np.transpose(pinv_wexog))\n",
    "        final = sm.regression.linear_model.OLSResults(model, \n",
    "                                          result.params, \n",
    "                                          normalized_cov_params)\n",
    "        print(final.summary())\n",
    "        yhat_train = final.predict(X_train)\n",
    "        yhat_test = final.predict(X_test)\n",
    "\n",
    "\n",
    "#         ols_df = pd.concat([X_train,y_train], axis=1)\n",
    "        \n",
    "#         linear_model = ols(ols_df.columns[-1] + ' ~ .' , data=ols_df, alpha=alpha, L1_wt=1).fit()\n",
    "  \n",
    "#         # display model summary\n",
    "#         print(linear_model.summary())\n",
    "\n",
    "#         # modify figure size\n",
    "#         fig = plt.figure(figsize=(14, 8))\n",
    "\n",
    "#         # creating regression plots\n",
    "#         fig = sm.graphics.plot_regress_exog(linear_model,\n",
    "#                                             'Head_size',\n",
    "#                                             fig=fig)\n",
    "        \n",
    "#         yhat_train = linear_model.predict(X_train)\n",
    "#         yhat_test = linear_model.predict(X_test)\n",
    "        \n",
    "        print('Train set MedAE for alpha=' + str(alpha) + ' is '+ str(median_absolute_error(y_true=y_train, y_pred=yhat_train)))\n",
    "        print('Test set MedAE for alpha=' + str(alpha) + ' is ' + str(median_absolute_error(y_true=y_test, y_pred=yhat_test)))\n",
    "        print('Train set R2 for alpha=' + str(alpha) + ' is ' + str(r2_score(y_train, yhat_train)))\n",
    "        print('Test set R2 for alpha=' + str(alpha) + ' is ' + str(r2_score(y_test, yhat_test)))\n",
    "        \n",
    "        sns.regplot(x = y_test - yhat_test, y = yhat_test, data = None)\n",
    "        \n",
    "# lasso(fitted_X_train, y_train, [.0001, .5, 2, 10, 11], fitted_X_test, y_test)\n",
    "lasso(X_train, y_train, [2], X_test, y_test)\n"
   ]
  },
  {
   "cell_type": "code",
   "execution_count": null,
   "metadata": {},
   "outputs": [],
   "source": []
  },
  {
   "cell_type": "code",
   "execution_count": null,
   "metadata": {},
   "outputs": [],
   "source": []
  }
 ],
 "metadata": {
  "kernelspec": {
   "display_name": "Python 3",
   "language": "python",
   "name": "python3"
  },
  "language_info": {
   "codemirror_mode": {
    "name": "ipython",
    "version": 3
   },
   "file_extension": ".py",
   "mimetype": "text/x-python",
   "name": "python",
   "nbconvert_exporter": "python",
   "pygments_lexer": "ipython3",
   "version": "3.7.6"
  }
 },
 "nbformat": 4,
 "nbformat_minor": 4
}
